{
 "cells": [
  {
   "cell_type": "markdown",
   "metadata": {},
   "source": [
    "# <font color='cyan'>Tensorflow with MNIST</font>"
   ]
  },
  {
   "cell_type": "code",
   "execution_count": 1,
   "metadata": {},
   "outputs": [],
   "source": [
    "import tensorflow as tf"
   ]
  },
  {
   "cell_type": "code",
   "execution_count": 3,
   "metadata": {
    "scrolled": true
   },
   "outputs": [
    {
     "name": "stdout",
     "output_type": "stream",
     "text": [
      "Downloading data from https://storage.googleapis.com/tensorflow/tf-keras-datasets/mnist.npz\n",
      "11493376/11490434 [==============================] - 1s 0us/step\n"
     ]
    }
   ],
   "source": [
    "(x_train, y_train), (x_test, y_test) = tf.keras.datasets.mnist.load_data()"
   ]
  },
  {
   "cell_type": "markdown",
   "metadata": {},
   "source": [
    "### Greyscale visualisation of the RGB codes"
   ]
  },
  {
   "cell_type": "code",
   "execution_count": 4,
   "metadata": {},
   "outputs": [],
   "source": [
    "import matplotlib.pyplot as plt"
   ]
  },
  {
   "cell_type": "code",
   "execution_count": 7,
   "metadata": {},
   "outputs": [
    {
     "name": "stdout",
     "output_type": "stream",
     "text": [
      "8\n"
     ]
    }
   ],
   "source": [
    "image_index = 7777 # can select anything up to 60000\n",
    "print(y_train[image_index]) # label is 8"
   ]
  },
  {
   "cell_type": "code",
   "execution_count": 8,
   "metadata": {},
   "outputs": [
    {
     "data": {
      "text/plain": [
       "<matplotlib.image.AxesImage at 0x7fc8f9a12208>"
      ]
     },
     "execution_count": 8,
     "metadata": {},
     "output_type": "execute_result"
    },
    {
     "data": {
      "image/png": "[encoded data removed]",
      "text/plain": [
       "<Figure size 432x288 with 1 Axes>"
      ]
     },
     "metadata": {
      "needs_background": "light"
     },
     "output_type": "display_data"
    }
   ],
   "source": [
    "plt.imshow(x_train[image_index], cmap='Greys') # greyscale"
   ]
  },
  {
   "cell_type": "code",
   "execution_count": 10,
   "metadata": {},
   "outputs": [
    {
     "data": {
      "text/plain": [
       "(60000, 28, 28)"
      ]
     },
     "execution_count": 10,
     "metadata": {},
     "output_type": "execute_result"
    }
   ],
   "source": [
    "x_train.shape\n",
    "# 60000 = number of images in train dataset\n",
    "# (28, 28) = size of the image (in pixels)"
   ]
  },
  {
   "cell_type": "markdown",
   "metadata": {},
   "source": [
    "### Reshaping & Normalising the image"
   ]
  },
  {
   "cell_type": "code",
   "execution_count": 11,
   "metadata": {},
   "outputs": [
    {
     "data": {
      "text/plain": [
       "'\\nTo use dataset in Keras API, need 4-dims numpy arrays\\nHowever, our arrays is 3-dims\\n\\nHence must normalise our data as required in neurel network models\\nCan achieve this by dividing RGB codes to 255\\n'"
      ]
     },
     "execution_count": 11,
     "metadata": {},
     "output_type": "execute_result"
    }
   ],
   "source": [
    "'''\n",
    "To use dataset in Keras API, need 4-dims numpy arrays\n",
    "However, our arrays is 3-dims\n",
    "\n",
    "Hence must normalise our data as required in neurel network models\n",
    "Can achieve this by dividing RGB codes to 255\n",
    "'''"
   ]
  },
  {
   "cell_type": "code",
   "execution_count": 13,
   "metadata": {},
   "outputs": [
    {
     "name": "stdout",
     "output_type": "stream",
     "text": [
      "60000\n",
      "10000\n"
     ]
    }
   ],
   "source": [
    "# Reshape array to 4-dims so can work with Keras\n",
    "print(x_train.shape[0]) # the size of train data\n",
    "print(x_test.shape[0])\n",
    "x_train = x_train.reshape(x_train.shape[0], 28, 28, 1)\n",
    "x_test = x_test.reshape(x_test.shape[0], 28, 28, 1)\n",
    "input_shape = (28, 28, 1)"
   ]
  },
  {
   "cell_type": "code",
   "execution_count": 18,
   "metadata": {},
   "outputs": [
    {
     "name": "stdout",
     "output_type": "stream",
     "text": [
      "(60000, 28, 28, 1)\n"
     ]
    }
   ],
   "source": [
    "# Making sure that values are float so we can get decimal\n",
    "x_train = x_train.astype('float32')\n",
    "x_test = x_test.astype('float32')\n",
    "print(x_train.shape) # no change but its good coding practice"
   ]
  },
  {
   "cell_type": "code",
   "execution_count": 15,
   "metadata": {},
   "outputs": [
    {
     "name": "stdout",
     "output_type": "stream",
     "text": [
      "x_train shape: (60000, 28, 28, 1)\n",
      "Number of images in x_train: 60000\n"
     ]
    }
   ],
   "source": [
    "# normalising the RGB codes by dividing it into max RGB value\n",
    "x_train /= 255\n",
    "x_test /= 255\n",
    "print(f\"x_train shape: {x_train.shape}\")\n",
    "print(f\"Number of images in x_train: {x_train.shape[0]}\")"
   ]
  },
  {
   "cell_type": "markdown",
   "metadata": {},
   "source": [
    "### Building the Convolutional Neural Network"
   ]
  },
  {
   "cell_type": "code",
   "execution_count": null,
   "metadata": {},
   "outputs": [],
   "source": [
    "'''\n",
    "Dropout layers fight with the overfitting by disregarding some neurons\n",
    "while training\n",
    "\n",
    "Flatten layers flatten 2D arrays to 1D array before building fully\n",
    "connected layers\n",
    "'''"
   ]
  },
  {
   "cell_type": "code",
   "execution_count": 19,
   "metadata": {},
   "outputs": [
    {
     "name": "stderr",
     "output_type": "stream",
     "text": [
      "Using TensorFlow backend.\n"
     ]
    }
   ],
   "source": [
    "# import required Keras modules containing model & layers\n",
    "from keras.models import Sequential\n",
    "from keras.layers import Dense, Conv2D, Dropout, Flatten, MaxPooling2D"
   ]
  },
  {
   "cell_type": "code",
   "execution_count": 21,
   "metadata": {},
   "outputs": [],
   "source": [
    "# Create a sequential model & add the layers\n",
    "model = Sequential()\n",
    "\n",
    "model.add(Conv2D(28, kernel_size = (3, 3), input_shape = input_shape))\n",
    "model.add(MaxPooling2D(pool_size = (2, 2)))\n",
    "# Flatten the 2D arrays for fully connected layers\n",
    "model.add(Flatten())\n",
    "\n",
    "# can experiment with params in 1st Dense layer to get better results\n",
    "# kernel size, pool size, activation functions, dropout rate, no. neurons etc\n",
    "model.add(Dense(128, activation = tf.nn.relu))\n",
    "model.add(Dropout(0.2))\n",
    "\n",
    "# 10 neurons since have 10 number class for last layer\n",
    "model.add(Dense(10, activation = tf.nn.softmax))"
   ]
  },
  {
   "cell_type": "markdown",
   "metadata": {},
   "source": [
    "### Compiling & Fitting the Model"
   ]
  },
  {
   "cell_type": "code",
   "execution_count": 22,
   "metadata": {},
   "outputs": [
    {
     "data": {
      "text/plain": [
       "'\\nAbove we created non-optimised empty CNN\\nNow set an optimiser with a given loss function which uses a metric\\nThe fit the model by using our train data\\n'"
      ]
     },
     "execution_count": 22,
     "metadata": {},
     "output_type": "execute_result"
    }
   ],
   "source": [
    "'''\n",
    "Above we created non-optimised empty CNN\n",
    "Now set an optimiser with a given loss function which uses a metric\n",
    "The fit the model by using our train data\n",
    "'''"
   ]
  },
  {
   "cell_type": "code",
   "execution_count": 24,
   "metadata": {},
   "outputs": [
    {
     "name": "stdout",
     "output_type": "stream",
     "text": [
      "Epoch 1/10\n",
      "60000/60000 [==============================] - 16s 264us/step - loss: 0.2167 - accuracy: 0.9352\n",
      "Epoch 2/10\n",
      "60000/60000 [==============================] - 16s 262us/step - loss: 0.0848 - accuracy: 0.9746\n",
      "Epoch 3/10\n",
      "60000/60000 [==============================] - 16s 273us/step - loss: 0.0592 - accuracy: 0.9815\n",
      "Epoch 4/10\n",
      "60000/60000 [==============================] - 16s 267us/step - loss: 0.0451 - accuracy: 0.9853\n",
      "Epoch 5/10\n",
      "60000/60000 [==============================] - 16s 268us/step - loss: 0.0346 - accuracy: 0.9885\n",
      "Epoch 6/10\n",
      "60000/60000 [==============================] - 16s 268us/step - loss: 0.0281 - accuracy: 0.9907\n",
      "Epoch 7/10\n",
      "60000/60000 [==============================] - 16s 264us/step - loss: 0.0244 - accuracy: 0.9915\n",
      "Epoch 8/10\n",
      "60000/60000 [==============================] - 14s 239us/step - loss: 0.0214 - accuracy: 0.9928\n",
      "Epoch 9/10\n",
      "60000/60000 [==============================] - 14s 233us/step - loss: 0.0190 - accuracy: 0.9933\n",
      "Epoch 10/10\n",
      "60000/60000 [==============================] - 14s 234us/step - loss: 0.0185 - accuracy: 0.9936\n"
     ]
    },
    {
     "data": {
      "text/plain": [
       "<keras.callbacks.callbacks.History at 0x7fc8e101c9e8>"
      ]
     },
     "execution_count": 24,
     "metadata": {},
     "output_type": "execute_result"
    }
   ],
   "source": [
    "# adam optimiser usually out performs other optimisers\n",
    "model.compile(optimizer = 'adam',\n",
    "             loss = 'sparse_categorical_crossentropy',\n",
    "             metrics = ['accuracy'])\n",
    "model.fit(x = x_train, y = y_train, epochs = 10)"
   ]
  },
  {
   "cell_type": "markdown",
   "metadata": {},
   "source": [
    "### Evaluating the Model"
   ]
  },
  {
   "cell_type": "code",
   "execution_count": 25,
   "metadata": {},
   "outputs": [
    {
     "name": "stdout",
     "output_type": "stream",
     "text": [
      "10000/10000 [==============================] - 1s 61us/step\n"
     ]
    },
    {
     "data": {
      "text/plain": [
       "[0.056662386979447, 0.9846000075340271]"
      ]
     },
     "execution_count": 25,
     "metadata": {},
     "output_type": "execute_result"
    }
   ],
   "source": [
    "# evaluate model with x_test & y_test\n",
    "model.evaluate(x_test, y_test)\n",
    "# achieved 98.5% accuracy"
   ]
  },
  {
   "cell_type": "code",
   "execution_count": 27,
   "metadata": {},
   "outputs": [
    {
     "name": "stdout",
     "output_type": "stream",
     "text": [
      "9\n"
     ]
    },
    {
     "data": {
      "image/png": "[encoded data removed]",
      "text/plain": [
       "<Figure size 432x288 with 1 Axes>"
      ]
     },
     "metadata": {
      "needs_background": "light"
     },
     "output_type": "display_data"
    }
   ],
   "source": [
    "# Can also make individual predictions with following code\n",
    "image_index = 4444\n",
    "plt.imshow(x_test[image_index].reshape(28, 28), cmap = 'Greys')\n",
    "pred = model.predict(x_test[image_index].reshape(1, 28, 28, 1))\n",
    "print(pred.argmax())\n",
    "# model classified image as 9"
   ]
  },
  {
   "cell_type": "markdown",
   "metadata": {},
   "source": [
    "### Yay!\n",
    "- successfully written convolutional neural network to classify\n",
    "  handwritten digits with Tensorflow's Keras API"
   ]
  },
  {
   "cell_type": "code",
   "execution_count": null,
   "metadata": {},
   "outputs": [],
   "source": []
  }
 ],
 "metadata": {
  "kernelspec": {
   "display_name": "Python 3",
   "language": "python",
   "name": "python3"
  },
  "language_info": {
   "codemirror_mode": {
    "name": "ipython",
    "version": 3
   },
   "file_extension": ".py",
   "mimetype": "text/x-python",
   "name": "python",
   "nbconvert_exporter": "python",
   "pygments_lexer": "ipython3",
   "version": "3.7.3"
  }
 },
 "nbformat": 4,
 "nbformat_minor": 2
}

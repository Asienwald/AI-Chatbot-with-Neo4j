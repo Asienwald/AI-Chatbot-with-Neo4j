{
 "cells": [
  {
   "cell_type": "markdown",
   "metadata": {},
   "source": [
    "# <font color='cyan'>AI Chatbot Test</font>"
   ]
  },
  {
   "cell_type": "code",
   "execution_count": 1,
   "metadata": {},
   "outputs": [],
   "source": [
    "import nltk\n",
    "import numpy as np\n",
    "import random\n",
    "import string # process standard python strings"
   ]
  },
  {
   "cell_type": "markdown",
   "metadata": {},
   "source": [
    "### Read the raw txt file"
   ]
  },
  {
   "cell_type": "code",
   "execution_count": 7,
   "metadata": {},
   "outputs": [],
   "source": [
    "f = open('chatbot.txt', 'r', errors = 'ignore')"
   ]
  },
  {
   "cell_type": "code",
   "execution_count": 8,
   "metadata": {},
   "outputs": [],
   "source": [
    "raw = f.read()\n",
    "raw = raw.lower()"
   ]
  },
  {
   "cell_type": "code",
   "execution_count": 9,
   "metadata": {
    "scrolled": true
   },
   "outputs": [],
   "source": [
    "# 1st time use only\n",
    "# nltk.download('punkt')\n",
    "# nltk.download('wordnet')"
   ]
  },
  {
   "cell_type": "markdown",
   "metadata": {},
   "source": [
    "### Tokenize the raw data"
   ]
  },
  {
   "cell_type": "code",
   "execution_count": 10,
   "metadata": {},
   "outputs": [],
   "source": [
    "# converts to list of sentences\n",
    "sent_tokens = nltk.sent_tokenize(raw)\n",
    "# converts to list of words\n",
    "word_tokens = nltk.word_tokenize(raw)"
   ]
  },
  {
   "cell_type": "code",
   "execution_count": 11,
   "metadata": {},
   "outputs": [
    {
     "data": {
      "text/plain": [
       "['a chatbot is a piece of software that conducts a conversation via auditory or textual methods.',\n",
       " '[1] such programs are often designed to convincingly simulate how a human would behave as a conversational partner, although as of 2019, they are far short of being able to pass the turing test.',\n",
       " '[2] chatbots are typically used in dialog systems for various practical purposes including customer service or information acquisition.',\n",
       " 'some chatbots use sophisticated natural language processing systems, but many simpler ones scan for keywords within the input, then pull a reply with the most matching keywords, or the most similar wording pattern, from a database.',\n",
       " 'the term \"chatterbot\" was originally coined by michael mauldin (creator of the first verbot, julia) in 1994 to describe these conversational programs.',\n",
       " \"[3] today, most chatbots are accessed via virtual assistants such as google assistant and amazon alexa, via messaging apps such as facebook messenger or wechat, or via individual organizations' apps and websites.\",\n",
       " '[4][5] chatbots can be classified into usage categories such as conversational commerce (e-commerce via chat), analytics, communication, customer support, design, developer tools, education, entertainment, finance, food, games, health, hr, marketing, news, personal, productivity, shopping, social, sports, travel and utilities.',\n",
       " '[6]\\n\\nbeyond chatbots, conversational ai refers to the use of messaging apps, speech-based assistants and chatbots to automate communication and create personalized customer experiences at scale.',\n",
       " '[7]\\n\\nbackground\\nin 1950, alan turing\\'s famous article \"computing machinery and intelligence\" was published,[8] which proposed what is now called the turing test as a criterion of intelligence.',\n",
       " 'this criterion depends on the ability of a computer program to impersonate a human in a real-time written conversation with a human judge, sufficiently well that the judge is unable to distinguish reliably—on the basis of the conversational content alone—between the program and a real human.',\n",
       " \"the notoriety of turing's proposed test stimulated great interest in joseph weizenbaum's program eliza, published in 1966, which seemed to be able to fool users into believing that they were conversing with a real human.\",\n",
       " 'however weizenbaum himself did not claim that eliza was genuinely intelligent, and the introduction to his paper presented it more as a debunking exercise:\\n\\n[in] artificial intelligence ... machines are made to behave in wondrous ways, often sufficient to dazzle even the most experienced observer.',\n",
       " 'but once a particular program is unmasked, once its inner workings are explained ... its magic crumbles away; it stands revealed as a mere collection of procedures ... the observer says to himself \"i could have written that\".',\n",
       " 'with that thought he moves the program in question from the shelf marked \"intelligent\", to that reserved for curios ... the object of this paper is to cause just such a re-evaluation of the program about to be \"explained\".',\n",
       " 'few programs ever needed it more.',\n",
       " \"[9]\\n\\neliza's key method of operation (copied by chatbot designers ever since) involves the recognition of clue words or phrases in the input, and the output of corresponding pre-prepared or pre-programmed responses that can move the conversation forward in an apparently meaningful way (e.g.\",\n",
       " \"by responding to any input that contains the word 'mother' with 'tell me more about your family').\",\n",
       " '[10] thus an illusion of understanding is generated, even though the processing involved has been merely superficial.',\n",
       " 'eliza showed that such an illusion is surprisingly easy to generate, because human judges are so ready to give the benefit of the doubt when conversational responses are capable of being interpreted as \"intelligent\".',\n",
       " \"interface designers have come to appreciate that humans' readiness to interpret computer output as genuinely conversational—even when it is actually based on rather simple pattern-matching—can be exploited for useful purposes.\",\n",
       " 'most people prefer to engage with programs that are human-like, and this gives chatbot-style techniques a potentially useful role in interactive systems that need to elicit information from users, as long as that information is relatively straightforward and falls into predictable categories.',\n",
       " 'thus, for example, online help systems can usefully employ chatbot techniques to identify the area of help that users require, potentially providing a \"friendlier\" interface than a more formal search or menu system.',\n",
       " 'this sort of usage holds the prospect of moving chatbot technology from weizenbaum\\'s \"shelf ... reserved for curios\" to that marked \"genuinely useful computational methods\".',\n",
       " 'development\\nthe classic historic early chatbots are eliza (1966) and parry (1972).',\n",
       " '[11][12][13][14] more recent notable programs include a.l.i.c.e., jabberwacky and d.u.d.e (agence nationale de la recherche and cnrs 2006).',\n",
       " 'while eliza and parry were used exclusively to simulate typed conversation, many chatbots now include functional features such as games and web searching abilities.',\n",
       " \"in 1984, a book called the policeman's beard is half constructed was published, allegedly written by the chatbot racter (though the program as released would not have been capable of doing so).\",\n",
       " '[15]\\n\\none pertinent field of ai research is natural language processing.',\n",
       " 'usually, weak ai fields employ specialized software or programming languages created specifically for the narrow function required.',\n",
       " 'for example, a.l.i.c.e.',\n",
       " 'uses a markup language called aiml, which is specific to its function as a conversational agent, and has since been adopted by various other developers of, so called, alicebots.',\n",
       " 'nevertheless, a.l.i.c.e.',\n",
       " 'is still purely based on pattern matching techniques without any reasoning capabilities, the same technique eliza was using back in 1966. this is not strong ai, which would require sapience and logical reasoning abilities.',\n",
       " 'jabberwacky learns new responses and context based on real-time user interactions, rather than being driven from a static database.',\n",
       " 'some more recent chatbots also combine real-time learning with evolutionary algorithms that optimise their ability to communicate based on each conversation held.',\n",
       " 'still, there is currently no general purpose conversational artificial intelligence, and some software developers focus on the practical aspect, information retrieval.',\n",
       " 'chatbot competitions focus on the turing test or more specific goals.',\n",
       " 'two such annual contests are the loebner prize and the chatterbox challenge (the latter has been offline since 2015, however materials can still be found from web archives).',\n",
       " '[16]\\n\\ndbpedia created a chatbot during the gsoc of 2017.',\n",
       " '[17][18][19] and can communicate through facebook messenger.',\n",
       " 'dbpedia started in 2007 and allows to extract structured content from the wikipedia dataset, along with many other datasets.',\n",
       " 'dbpedia is currently one of the biggest representatives of linked open data (lod).',\n",
       " \"[20]\\n\\napplication\\nmessaging apps\\nmany companies' chatbots run on messaging apps or simply via sms.\",\n",
       " 'they are used for b2c customer service, sales and marketing.',\n",
       " '[21]\\n\\nin 2016, facebook messenger allowed developers to place chatbots on their platform.',\n",
       " 'there were 30,000 bots created for messenger in the first six months, rising to 100,000 by september 2017.',\n",
       " '[22]\\n\\nsince september 2017, this has also been as part of a pilot program on whatsapp.',\n",
       " 'airlines klm and aeroméxico both announced their participation in the testing;[23][24][25][26] both airlines had previously launched customer services on the facebook messenger platform.',\n",
       " \"the bots usually appear as one of the user's contacts, but can sometimes act as participants in a group chat.\",\n",
       " 'many banks, insurers, media companies, e-commerce companies, airlines, hotel chains, retailers, health care providers, government entities and restaurant chains have used chatbots to answer simple questions, increase customer engagement,[27] for promotion, and to offer additional ways to order from them.',\n",
       " '[28][29]\\n\\na 2017 study showed 4% of companies used chatbots.',\n",
       " '[30] according to a 2016 study, 80% of businesses said they intended to have one by 2020.',\n",
       " '[31]\\n\\nas part of company apps and websites\\nprevious generations of chatbots were present on company websites, e.g.',\n",
       " \"ask jenn from alaska airlines which debuted in 2008[32] or expedia's virtual customer service agent which launched in 2011.\",\n",
       " '[32][33] the newer generation of chatbots includes ibm watson-powered \"rocky\", introduced in february 2017 by the new york city-based e-commerce company rare carat to provide information to prospective diamond buyers.',\n",
       " '[34][35]\\n\\nchatbot sequences\\nused by marketers to script sequences of messages, very similar to an autoresponder sequence.',\n",
       " 'such sequences can be triggered by user opt-in or the use of keywords within user interactions.',\n",
       " 'after a trigger occurs a sequence of messages is delivered until the next anticipated user response.',\n",
       " 'each user response is used in the decision tree to help the chatbot navigate the response sequences to deliver the correct response message.',\n",
       " 'company internal platforms\\nother companies explore ways they can use chatbots internally, for example for customer support, human resources, or even in internet-of-things (iot) projects.',\n",
       " 'overstock.com, for one, has reportedly launched a chatbot named mila to automate certain simple yet time-consuming processes when requesting for a sick leave.',\n",
       " '[36] other large companies such as lloyds banking group, royal bank of scotland, renault and citroën are now using automated online assistants instead of call centres with humans to provide a first point of contact.',\n",
       " \"a saas chatbot business ecosystem has been steadily growing since the f8 conference when facebook's mark zuckerberg unveiled that messenger would allow chatbots into the app.\",\n",
       " '[37] in large companies, like in hospitals and aviation organizations, it architects are designing reference architectures for intelligent chatbots that are used to unlock and share knowledge and experience in the organization more efficiently, and reduce the errors in answers from expert service desks significantly.',\n",
       " '[38] these intelligent chatbots make use of all kinds of artificial intelligence like image moderation and natural language understanding (nlu), natural language generation (nlg), machine learning and deep learning.',\n",
       " 'banking\\nnowadays a high majority of high-tech banking organizations are looking for integration of automated ai-based solutions such as chatbots in their customer service in order to provide faster and cheaper assistance to their clients becoming increasingly technodexterous.',\n",
       " 'in particularly, chatbots can efficiently conduct a dialogue, usually substituting other communication tools such as email, phone, or sms.',\n",
       " 'in banking area their major application is related to quick customer service answering common requests, and transactional support.',\n",
       " 'several studies accomplished by analytics agencies such as juniper or gartner [39] report significant reduction of cost of customer services, leading to billions of dollars of economy in the next 10 years.',\n",
       " \"gartner predicts an integration by 2020 of chatbots in at least 85% of all client's applications to customer service.\",\n",
       " \"juniper's study announces an impressive amount of $8 billion retained annually by 2022 due to the use of chatbots.\",\n",
       " 'since 2016 when facebook allows businesses to deliver automated customer support, e-commerce guidance, content and interactive experiences through chatbots, a large variety of chatbots for facebook messenger platform were developed.',\n",
       " \"[40] in 2016, russia-based tochka bank launched the world's first facebook bot for a range of financial services, in particularly including a possibility of making payments.\",\n",
       " '[41] in july 2016, barclays africa also launched a facebook chatbot, making it the first bank to do so in africa.',\n",
       " \"[42]\\n\\nthe france's third largest bank by total assets [43] société générale launched their chatbot called sobot in march 2018. while the 80% of users of the sobot express their satisfaction after having tested it, il will never replace the expertise provided by a human advisor according to sg deputy director bertrand cozzarolo.\",\n",
       " '[44]\\n\\nthere are several potential advantages of using chatbots in interaction with customer in banking:[45]\\n\\ncost reduction.',\n",
       " \"chatbots eliminate the obligation of any human presence during online interaction and are so long seen as a huge advantage by companies operating with multiple repetitive queries at once as long as they don't require any decision-making procedure.\",\n",
       " '[46]\\nhuman touch.',\n",
       " 'chatbots, providing an interface similar to human-to-human interaction, are more intuitive and so less difficult to use than a standard banking mobile application.',\n",
       " 'they do not require any additional software installation and are more adaptive as able to be personalized during the exploitation by the means of machine learning.',\n",
       " 'chatbots are instant and so much faster that phone calls, shown to be considered as tedious in some studies.',\n",
       " 'then they satisfy both speed and personalization requirement while interacting with a bank.',\n",
       " 'financial advice.',\n",
       " \"state-of-the-art banking assistants can, by accessing personal customer's data such as consumer behavior or history of purchases, provide useful information on client's account and use it to develop ai-based recommendations for better adapted money management.\",\n",
       " 'attracting new clients.',\n",
       " \"a chatbot greeting a bank's website guest can provide some useful and relevant information, helping to exploit the offered products and services in a personalized manner helps to attract the potential client and the he is more likely to end by creation of a new account.\",\n",
       " '[45]\\n24/7 digital support.',\n",
       " 'an instant and always accessible assistant is assumed by the more and more digital consumer of the new era.',\n",
       " \"[39] unlike humans, chatbots once developed and installed don't have a limited workdays, holidays or weekends and are ready to attend queries at any hour of the day.\",\n",
       " \"it helps to the customer to avoid waiting of a company's agent to be available.\",\n",
       " \"thus, the customer doesn't have to wait for the company executive to help them.\",\n",
       " 'this also lets companies keep an eye on the traffic during the non-working hours and reach out to them later.',\n",
       " '[46]\\nhealthcare\\nsee also: artificial_intelligence_in_healthcare\\nchatbots are also appearing in the healthcare industry.',\n",
       " '[47][48][49][50] a study suggested that physicians in the united states believed that chatbots would be most beneficial for scheduling doctor appointments, locating health clinics, or providing medication information.',\n",
       " '[51]\\n\\npolitics\\nin new zealand, the chatbot sam -short for semantic analysis machine-[52] (made by nick gerritsen of touchtech[53]) has been developed.',\n",
       " 'it is designed to share its political thoughts, for example on topics such as climate change, healthcare and education, etc.',\n",
       " 'it talks to people through facebook messenger.',\n",
       " '[54][55][56][57]\\n\\ntoys\\nchatbots have also been incorporated into devices not primarily meant for computing such as toys.',\n",
       " '[58]\\n\\nhello barbie is an internet-connected version of the doll that uses a chatbot provided by the company toytalk,[59] which previously used the chatbot for a range of smartphone-based characters for children.',\n",
       " \"[60] these characters' behaviors are constrained by a set of rules that in effect emulate a particular character and produce a storyline.\",\n",
       " \"[61]\\n\\nibm's watson computer has been used as the basis for chatbot-based educational toys for companies such as cognitoys[58] intended to interact with children for educational purposes.\",\n",
       " '[62]\\n\\nchatbot development platforms\\nthe process of building, testing and deploying chatbots can be done on cloud-based chatbot development platforms[63] offered by cloud platform as a service (paas) providers such as oracle cloud platform [64][33] snatchbot[65][66][67] and ibm watson.',\n",
       " '[68][69][70] these cloud platforms provide natural language processing, artificial intelligence and mobile backend as a service for chatbot development.',\n",
       " 'api\\n\\nsome companies like microsoft azure and aarc are currently providing their bot engines through which chatbot platforms or software can be developed.',\n",
       " 'malicious use\\nmalicious chatbots are frequently used to fill chat rooms with spam and advertisements, by mimicking human behavior and conversations or to entice people into revealing personal information, such as bank account numbers.',\n",
       " 'they are commonly found on yahoo!',\n",
       " 'messenger, windows live messenger, aol instant messenger and other instant messaging protocols.',\n",
       " \"there has also been a published report of a chatbot used in a fake personal ad on a dating service's website.\",\n",
       " '[71]\\n\\ntay, an ai chatbot that learns from previous interaction, caused major controversy due to it being targeted by internet trolls on twitter.',\n",
       " 'the bot was exploited, and after 16 hours began to send extremely offensive tweets to users.',\n",
       " 'this suggests that although the bot learnt effectively from experience, adequate protection was not put in place to prevent misuse.',\n",
       " '[72]\\n\\nif a text-sending algorithm can pass itself off as a human instead of a chatbot, its message would be more credible.',\n",
       " 'therefore, human-seeming chatbots with well-crafted online identities could start scattering fake news that seem plausible, for instance making false claims during a presidential election.',\n",
       " 'with enough chatbots, it might be even possible to achieve artificial social proof.',\n",
       " '[73][74]\\n\\nlimitations of chatbots\\nthe creation and implementation of chatbots is still a developing area, heavily related to artificial intelligence and machine learning, so the provided solutions, while possessing obvious advantages, have some important limitations in terms of functionalities and use cases.',\n",
       " 'however this is changing over time.',\n",
       " 'the most common ones are listed below:[75]\\n\\nas the database, used for output generation, is fixed and limited, chatbots can fail while dealing with an unsaved query.',\n",
       " \"[46]\\na chatbot's efficiency highly depends on language processing and is limited because of irregularities, such as accents and mistakes that can create an important barrier for international and multi-cultural organisations [76]\\nchatbots are unable to deal with multiple questions at the same time and so conversation opportunities are limited.\",\n",
       " '[75]\\nas it happens usually with technology-led changes in existing services, some consumers, more often than not from the old generation, are uncomfortable with chatbots due to their limited understanding, making it obvious that their requests are being dealt machines.',\n",
       " '[75]\\nchatbots and jobs\\nchatbots are increasingly present in businesses and often are used to automate tasks that do not require skill-based talents.',\n",
       " 'with customer service taking place via messaging apps as well as phone calls, there are growing numbers of use-cases where chatbot deployment gives organisations a clear return on investment.',\n",
       " 'call centre workers may be particularly at risk from ai-driven chatbots.',\n",
       " \"[77]\\n\\na study by forrester (june 2017) predicts that 25% of today's jobs will most likely be impacted by ai technologies by 2019.\",\n",
       " '[78]']"
      ]
     },
     "execution_count": 11,
     "metadata": {},
     "output_type": "execute_result"
    }
   ],
   "source": [
    "sent_tokens"
   ]
  },
  {
   "cell_type": "code",
   "execution_count": 12,
   "metadata": {},
   "outputs": [
    {
     "data": {
      "text/plain": [
       "['a', 'chatbot']"
      ]
     },
     "execution_count": 12,
     "metadata": {},
     "output_type": "execute_result"
    }
   ],
   "source": [
    "word_tokens[:2]"
   ]
  },
  {
   "cell_type": "markdown",
   "metadata": {},
   "source": [
    "### Pre-processing the Raw Text"
   ]
  },
  {
   "cell_type": "code",
   "execution_count": 13,
   "metadata": {},
   "outputs": [
    {
     "data": {
      "text/plain": [
       "'\\ndefine function called LemTokens which will\\ntake in the tokens as inputs\\n& return normalised tokens\\n'"
      ]
     },
     "execution_count": 13,
     "metadata": {},
     "output_type": "execute_result"
    }
   ],
   "source": [
    "'''\n",
    "define function called LemTokens which will\n",
    "take in the tokens as inputs\n",
    "& return normalised tokens\n",
    "'''"
   ]
  },
  {
   "cell_type": "code",
   "execution_count": 14,
   "metadata": {},
   "outputs": [],
   "source": [
    "lemmer = nltk.stem.WordNetLemmatizer()\n",
    "# Wordnet is a semantically-oriented dictionary of English included \n",
    "# in NLTK"
   ]
  },
  {
   "cell_type": "code",
   "execution_count": 15,
   "metadata": {},
   "outputs": [],
   "source": [
    "def LemTokens(tokens):\n",
    "    return [lemmer.lemmatize(token) for token in tokens]\n",
    "\n",
    "remove_punct_dict = dict((ord(punct), None) for punct in string.punctuation)"
   ]
  },
  {
   "cell_type": "code",
   "execution_count": 16,
   "metadata": {},
   "outputs": [],
   "source": [
    "def LemNormalize(text):\n",
    "    return LemTokens(nltk.word_tokenize(text.lower().translate(remove_punct_dict)))"
   ]
  },
  {
   "cell_type": "markdown",
   "metadata": {},
   "source": [
    "### Keyword Matching"
   ]
  },
  {
   "cell_type": "code",
   "execution_count": 17,
   "metadata": {},
   "outputs": [
    {
     "data": {
      "text/plain": [
       "'\\ndefine function for greeting by bot\\nEg. If user input greeting, bot reply with greeting\\nELIZA uses simple keyword matching for greetings\\n'"
      ]
     },
     "execution_count": 17,
     "metadata": {},
     "output_type": "execute_result"
    }
   ],
   "source": [
    "'''\n",
    "define function for greeting by bot\n",
    "Eg. If user input greeting, bot reply with greeting\n",
    "ELIZA uses simple keyword matching for greetings\n",
    "'''"
   ]
  },
  {
   "cell_type": "code",
   "execution_count": 18,
   "metadata": {},
   "outputs": [],
   "source": [
    "GREETING_INPUTS = ('hello', 'hi', 'greetings', 'sup', \"what's up\", 'hey')\n",
    "GREETING_RESPONSES = ['hi', 'hey', '*nods', 'hi there', 'hello', \n",
    "                      \"I'm glad! You're talking to me!\"]"
   ]
  },
  {
   "cell_type": "code",
   "execution_count": 19,
   "metadata": {},
   "outputs": [],
   "source": [
    "def greeting(sentence):\n",
    "    for word in sentence.split():\n",
    "        if word.lower() in GREETING_INPUTS:\n",
    "            return random.choice(GREETING_RESPONSES)"
   ]
  },
  {
   "cell_type": "markdown",
   "metadata": {},
   "source": [
    "### Generating Response"
   ]
  },
  {
   "cell_type": "code",
   "execution_count": 20,
   "metadata": {},
   "outputs": [
    {
     "data": {
      "text/plain": [
       "\"\\nTo generate response from our bot for input qns,\\nconcept of codument similarity used\\nWe'll begin by importing the necessary modules\\n\""
      ]
     },
     "execution_count": 20,
     "metadata": {},
     "output_type": "execute_result"
    }
   ],
   "source": [
    "'''\n",
    "To generate response from our bot for input qns,\n",
    "concept of codument similarity used\n",
    "We'll begin by importing the necessary modules\n",
    "'''"
   ]
  },
  {
   "cell_type": "code",
   "execution_count": 21,
   "metadata": {},
   "outputs": [],
   "source": [
    "# From scikit learn libary, import TFidf vectorizer to convert collection of \n",
    "# raw documents to matrix of TF-IDF features\n",
    "from sklearn.feature_extraction.text import TfidfVectorizer"
   ]
  },
  {
   "cell_type": "code",
   "execution_count": 22,
   "metadata": {},
   "outputs": [],
   "source": [
    "# import cosine similary module from scikit learn lib\n",
    "from sklearn.metrics.pairwise import cosine_similarity\n",
    "# used to find similarity between words entered by user & owrds in corpus\n",
    "# This is the simplest implementation of a chatbot"
   ]
  },
  {
   "cell_type": "code",
   "execution_count": 23,
   "metadata": {},
   "outputs": [],
   "source": [
    "# define function response which searches user's utterance for >1 known keywords\n",
    "# & returns several possible responses\n",
    "# if no matches, return \"I'm sorry! Don't understand you!\"\n",
    "\n",
    "def response(user_resp):\n",
    "    robo_response = ''\n",
    "    sent_tokens.append(user_resp)\n",
    "    \n",
    "    tfidf_vec = TfidfVectorizer(tokenizer = LemNormalize, stop_words = 'english')\n",
    "    tfidf = tfidf_vec.fit_transform(sent_tokens)\n",
    "    \n",
    "    vals = cosine_similarity(tfidf[-1], tfidf)\n",
    "    idx = vals.argsort()[0][-2]\n",
    "    \n",
    "    flat = vals.flatten()\n",
    "    flat.sort()\n",
    "    \n",
    "    req_tfidf = flat[-2]\n",
    "    \n",
    "    robo_response += \"Sorry! Don't understand\" if (req_tfidf == 0) else sent_tokens[idx]\n",
    "    return robo_response"
   ]
  },
  {
   "cell_type": "code",
   "execution_count": null,
   "metadata": {},
   "outputs": [
    {
     "name": "stdout",
     "output_type": "stream",
     "text": [
      "BOI: Howdy. Ask me Anything :)\n",
      ">>>what is an ai\n"
     ]
    },
    {
     "name": "stderr",
     "output_type": "stream",
     "text": [
      "/home/lkarwei/anaconda3/lib/python3.7/site-packages/sklearn/feature_extraction/text.py:301: UserWarning: Your stop_words may be inconsistent with your preprocessing. Tokenizing the stop words generated tokens ['ha', 'le', 'u', 'wa'] not in stop_words.\n",
      "  'stop_words.' % sorted(inconsistent))\n"
     ]
    },
    {
     "name": "stdout",
     "output_type": "stream",
     "text": [
      "[15]\n",
      "\n",
      "one pertinent field of ai research is natural language processing.\n",
      "BOI: \n"
     ]
    }
   ],
   "source": [
    "# feed lines we want our bot to say while starting & ending conversation\n",
    "# depending on user's input\n",
    "\n",
    "flag = True\n",
    "print('BOI: Howdy. Ask me Anything :)')\n",
    "robo_text: str = ''\n",
    "\n",
    "while flag:\n",
    "    user_resp = input('>>>').lower()\n",
    "    \n",
    "    if user_resp not in ['bye', 'exit']:\n",
    "        if user_resp in ['thanks', 'thank you']:\n",
    "            flag = False\n",
    "            robo_text = 'No Problem'\n",
    "        else:\n",
    "            if greeting(user_resp) != None:\n",
    "                robo_text = greeting(user_resp)\n",
    "            else:\n",
    "                print(response(user_resp))\n",
    "                sent_tokens.remove(user_resp)\n",
    "    else:\n",
    "        flag = False\n",
    "        robo_text = 'Cya!'\n",
    "    \n",
    "    print(f\"BOI: {robo_text}\")"
   ]
  },
  {
   "cell_type": "code",
   "execution_count": null,
   "metadata": {},
   "outputs": [],
   "source": []
  }
 ],
 "metadata": {
  "kernelspec": {
   "display_name": "Python 3",
   "language": "python",
   "name": "python3"
  },
  "language_info": {
   "codemirror_mode": {
    "name": "ipython",
    "version": 3
   },
   "file_extension": ".py",
   "mimetype": "text/x-python",
   "name": "python",
   "nbconvert_exporter": "python",
   "pygments_lexer": "ipython3",
   "version": "3.7.3"
  }
 },
 "nbformat": 4,
 "nbformat_minor": 2
}

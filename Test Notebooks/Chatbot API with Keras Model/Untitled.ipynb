{
 "cells": [
  {
   "cell_type": "markdown",
   "metadata": {},
   "source": [
    "# <font color='cyan'>Chatbot API with Keras Model</font>"
   ]
  },
  {
   "cell_type": "markdown",
   "metadata": {},
   "source": [
    "### Main challenges:\n",
    "- Classify user input to recognise intent\n",
    "- keep context"
   ]
  },
  {
   "cell_type": "code",
   "execution_count": 1,
   "metadata": {},
   "outputs": [],
   "source": [
    "# Keras deep learning library to build classification model\n",
    "# Lancaster stemming library used to collapse distinct word forms\n",
    "import nltk\n",
    "from nltk.stem.lancaster import LancasterStemmer\n",
    "stemmer = LancasterStemmer()"
   ]
  },
  {
   "cell_type": "code",
   "execution_count": 2,
   "metadata": {},
   "outputs": [
    {
     "name": "stderr",
     "output_type": "stream",
     "text": [
      "Using TensorFlow backend.\n"
     ]
    }
   ],
   "source": [
    "# things we need for Tensorflow\n",
    "import numpy as np\n",
    "from keras.models import Sequential\n",
    "from keras.layers import Dense, Activation, Dropout\n",
    "from keras.optimizers import SGD\n",
    "import pandas as pd\n",
    "import pickle\n",
    "import random"
   ]
  },
  {
   "cell_type": "code",
   "execution_count": null,
   "metadata": {},
   "outputs": [],
   "source": [
    "'''\n",
    "Chatbot intents & patterns to learn defined in a plain JSON file\n",
    "Classification model can be created for small vocabulary\n",
    "Need to build vocabulary > patterns processed\n",
    "each word stemmed to produce generic root > help cover more combi for inputs\n",
    "'''"
   ]
  },
  {
   "cell_type": "markdown",
   "metadata": {},
   "source": [
    "### Read the JSON file"
   ]
  },
  {
   "cell_type": "code",
   "execution_count": 7,
   "metadata": {},
   "outputs": [],
   "source": [
    "import json\n",
    "\n",
    "with open('intents.json') as intent_file:\n",
    "    intents = json.load(intent_file)"
   ]
  },
  {
   "cell_type": "code",
   "execution_count": 8,
   "metadata": {},
   "outputs": [
    {
     "name": "stdout",
     "output_type": "stream",
     "text": [
      "45 documents\n",
      "9 classes ['adverse_drug', 'blood_pressure', 'blood_pressure_search', 'goodbye', 'greeting', 'hospital_search', 'options', 'pharmacy_search', 'thanks']\n",
      "82 unique stemmed words [\"'s\", ',', 'a', 'advers', 'al', 'anyon', 'ar', 'awesom', 'be', 'behavy', 'blood', 'by', 'bye', 'can', 'caus', 'chat', 'check', 'could', 'dat', 'day', 'detail', 'do', 'dont', 'drug', 'entry', 'find', 'for', 'giv', 'good', 'goodby', 'hav', 'hello', 'help', 'hi', 'hist', 'hospit', 'how', 'i', 'id', 'is', 'lat', 'list', 'load', 'loc', 'log', 'look', 'lookup', 'man', 'me', 'mod', 'nearby', 'next', 'nic', 'of', 'off', 'op', 'paty', 'pharm', 'press', 'provid', 'react', 'rel', 'result', 'search', 'see', 'show', 'suit', 'support', 'task', 'thank', 'that', 'ther', 'til', 'tim', 'to', 'transf', 'up', 'want', 'what', 'which', 'with', 'you']\n"
     ]
    }
   ],
   "source": [
    "words = []\n",
    "classes = []\n",
    "documents = []\n",
    "ignore_words = ['?']\n",
    "\n",
    "#loop through each sentence in our intents patterns\n",
    "for intent in intents['intents']:\n",
    "    for pattern in intent['patterns']:\n",
    "        # tokenize each word in sentence\n",
    "        w = nltk.word_tokenize(pattern)\n",
    "        \n",
    "        # add to words list\n",
    "        words.extend(w)\n",
    "        \n",
    "        # add documents in corpus\n",
    "        documents.append((w, intent['tag']))\n",
    "        \n",
    "        # add to our classes list\n",
    "        if intent['tag'] not in classes:\n",
    "            classes.append(intent['tag'])\n",
    "\n",
    "# stem & lower ea word & remove dupes\n",
    "words = [stemmer.stem(w.lower()) for w in words if w not in ignore_words]\n",
    "words = sorted(list(set(words)))\n",
    "\n",
    "# sort classes\n",
    "classes = sorted(list(set(classes)))\n",
    "\n",
    "# documents = combination between patterns & intents\n",
    "print(len(documents), 'documents')\n",
    "# classes = intents\n",
    "print(len(classes), \"classes\", classes)\n",
    "# words = all words, vocab\n",
    "print(len(words), \"unique stemmed words\", words)"
   ]
  },
  {
   "cell_type": "code",
   "execution_count": null,
   "metadata": {},
   "outputs": [],
   "source": [
    "'''\n",
    "Training won't be run based on vocab of words (words meaningless for machine)\n",
    "Need to translate words into bags of words with arr containing 0/1\n",
    "\n",
    "Arr length will be equal to vocab size & 1 set when word from current\n",
    "pattern is located in a given position\n",
    "'''"
   ]
  },
  {
   "cell_type": "code",
   "execution_count": 12,
   "metadata": {},
   "outputs": [],
   "source": [
    "# create our training data\n",
    "training = []\n",
    "# create an empty array for our output\n",
    "output_empty = [0] * len(classes)"
   ]
  },
  {
   "cell_type": "code",
   "execution_count": 13,
   "metadata": {},
   "outputs": [],
   "source": [
    "# training set, bag of words for ea sentence\n",
    "for doc in documents:\n",
    "    # initialise our bag of words\n",
    "    bag = []\n",
    "    #list tokenized words for the pattern\n",
    "    pattern_words = doc[0]\n",
    "    # stem ea word - create base word to represent related words\n",
    "    pattern_words = [stemmer.stem(word.lower()) for word in pattern_words]\n",
    "    \n",
    "    # create our bag of words arr with 1, if word match found in\n",
    "    # current pattern\n",
    "    for w in words:\n",
    "        bag.append(1) if w in pattern_words else bag.append(0)\n",
    "        \n",
    "    # output is '0' for ea tag & '1' for current tag (for ea pattern)\n",
    "    output_row = list(output_empty)\n",
    "    output_row[classes.index(doc[1])] = 1\n",
    "    \n",
    "    training.append([bag, output_row])"
   ]
  },
  {
   "cell_type": "code",
   "execution_count": 14,
   "metadata": {},
   "outputs": [],
   "source": [
    "# shuffle our features & turn into np.array\n",
    "random.shuffle(training)\n",
    "training = np.array(training)"
   ]
  },
  {
   "cell_type": "code",
   "execution_count": 15,
   "metadata": {},
   "outputs": [],
   "source": [
    "# create train & test lists. X - patterns, Y - intents\n",
    "train_x = list(training[:,0])\n",
    "train_y = list(training[:,1])"
   ]
  },
  {
   "cell_type": "code",
   "execution_count": null,
   "metadata": {},
   "outputs": [],
   "source": [
    "'''\n",
    "Training data - X (pattern converted into array [0,1,0,1...,0])\n",
    "Y (intents converted into arr [1,0,0,0,..,0]), will be single 1 for intents arr\n",
    "\n",
    "Model built on 3 layers\n",
    "\n",
    "Classification output will be multiclass arr > help identify encoded intent\n",
    "\n",
    "Use Softmax activation to produce multiclass classification output\n",
    "(result returns arr of 0/1: [1,0,0...,0] - identifies encoded intent)\n",
    "'''"
   ]
  },
  {
   "cell_type": "raw",
   "metadata": {},
   "source": [
    "# Create model - 3 layers\n",
    "# 1st layer 128 neurons, 2nd layer 64 neurons & 3rd contains num of neurons\n",
    "# equal to num of intents to predict output intent with softmax\n",
    "\n",
    "model = Sequential()\n",
    "model.add(Dense(128, input_shape = (len(train_x[0]), ), activation = 'relu'))\n",
    "model.add(Dropout(0.5))\n",
    "model.add(Dense(64, activation = 'relu'))\n",
    "model.add(Dropout(0.5))\n",
    "model.add(Dense(len(train_y[0]), activation = 'softmax'))"
   ]
  },
  {
   "cell_type": "markdown",
   "metadata": {},
   "source": [
    "### Compile Keras model with SGD optimiser"
   ]
  },
  {
   "cell_type": "code",
   "execution_count": 23,
   "metadata": {},
   "outputs": [],
   "source": [
    "# Compile model. Stochastic gradient descent with Nesterov accelerated\n",
    "# gradient gives good results for this model\n",
    "\n",
    "sgd = SGD(lr = 0.01, decay = 1e-6, momentum = 0.9, nesterov = True)\n",
    "model.compile(loss = 'categorical_crossentropy', optimizer = sgd,\n",
    "              metrics = ['accuracy'])"
   ]
  },
  {
   "cell_type": "markdown",
   "metadata": {},
   "source": [
    "### Fit model"
   ]
  },
  {
   "cell_type": "code",
   "execution_count": 24,
   "metadata": {},
   "outputs": [],
   "source": [
    "# Execute training & construct classification model"
   ]
  },
  {
   "cell_type": "code",
   "execution_count": 25,
   "metadata": {},
   "outputs": [
    {
     "name": "stdout",
     "output_type": "stream",
     "text": [
      "Epoch 1/200\n",
      "45/45 [==============================] - 0s 2ms/step - loss: 2.2496 - accuracy: 0.0444\n",
      "Epoch 2/200\n",
      "45/45 [==============================] - 0s 260us/step - loss: 2.1295 - accuracy: 0.2000\n",
      "Epoch 3/200\n",
      "45/45 [==============================] - 0s 229us/step - loss: 2.1159 - accuracy: 0.3111\n",
      "Epoch 4/200\n",
      "45/45 [==============================] - 0s 227us/step - loss: 2.0337 - accuracy: 0.2667\n",
      "Epoch 5/200\n",
      "45/45 [==============================] - 0s 247us/step - loss: 1.9254 - accuracy: 0.4000\n",
      "Epoch 6/200\n",
      "45/45 [==============================] - 0s 271us/step - loss: 1.8528 - accuracy: 0.3556\n",
      "Epoch 7/200\n",
      "45/45 [==============================] - 0s 207us/step - loss: 1.7022 - accuracy: 0.4000\n",
      "Epoch 8/200\n",
      "45/45 [==============================] - 0s 248us/step - loss: 1.5451 - accuracy: 0.6222\n",
      "Epoch 9/200\n",
      "45/45 [==============================] - 0s 257us/step - loss: 1.4402 - accuracy: 0.6889\n",
      "Epoch 10/200\n",
      "45/45 [==============================] - 0s 265us/step - loss: 1.2631 - accuracy: 0.6000\n",
      "Epoch 11/200\n",
      "45/45 [==============================] - 0s 306us/step - loss: 1.0898 - accuracy: 0.6222\n",
      "Epoch 12/200\n",
      "45/45 [==============================] - 0s 233us/step - loss: 0.9858 - accuracy: 0.6889\n",
      "Epoch 13/200\n",
      "45/45 [==============================] - 0s 259us/step - loss: 0.9376 - accuracy: 0.7778\n",
      "Epoch 14/200\n",
      "45/45 [==============================] - 0s 278us/step - loss: 0.9192 - accuracy: 0.7556\n",
      "Epoch 15/200\n",
      "45/45 [==============================] - 0s 263us/step - loss: 0.7754 - accuracy: 0.7333\n",
      "Epoch 16/200\n",
      "45/45 [==============================] - 0s 204us/step - loss: 0.7742 - accuracy: 0.7333\n",
      "Epoch 17/200\n",
      "45/45 [==============================] - 0s 266us/step - loss: 0.7927 - accuracy: 0.7778\n",
      "Epoch 18/200\n",
      "45/45 [==============================] - 0s 274us/step - loss: 0.5760 - accuracy: 0.8222\n",
      "Epoch 19/200\n",
      "45/45 [==============================] - 0s 276us/step - loss: 0.6394 - accuracy: 0.8000\n",
      "Epoch 20/200\n",
      "45/45 [==============================] - 0s 208us/step - loss: 0.6057 - accuracy: 0.8667\n",
      "Epoch 21/200\n",
      "45/45 [==============================] - 0s 235us/step - loss: 0.4688 - accuracy: 0.8889\n",
      "Epoch 22/200\n",
      "45/45 [==============================] - 0s 246us/step - loss: 0.5031 - accuracy: 0.8889\n",
      "Epoch 23/200\n",
      "45/45 [==============================] - 0s 262us/step - loss: 0.4107 - accuracy: 0.8667\n",
      "Epoch 24/200\n",
      "45/45 [==============================] - 0s 197us/step - loss: 0.3236 - accuracy: 0.9333\n",
      "Epoch 25/200\n",
      "45/45 [==============================] - 0s 222us/step - loss: 0.5656 - accuracy: 0.8444\n",
      "Epoch 26/200\n",
      "45/45 [==============================] - 0s 242us/step - loss: 0.3933 - accuracy: 0.8444\n",
      "Epoch 27/200\n",
      "45/45 [==============================] - 0s 247us/step - loss: 0.4586 - accuracy: 0.8889\n",
      "Epoch 28/200\n",
      "45/45 [==============================] - 0s 259us/step - loss: 0.3021 - accuracy: 0.9333\n",
      "Epoch 29/200\n",
      "45/45 [==============================] - 0s 265us/step - loss: 0.2261 - accuracy: 0.9778\n",
      "Epoch 30/200\n",
      "45/45 [==============================] - 0s 221us/step - loss: 0.2174 - accuracy: 0.9778\n",
      "Epoch 31/200\n",
      "45/45 [==============================] - 0s 213us/step - loss: 0.2925 - accuracy: 0.9111\n",
      "Epoch 32/200\n",
      "45/45 [==============================] - 0s 258us/step - loss: 0.2489 - accuracy: 0.9778\n",
      "Epoch 33/200\n",
      "45/45 [==============================] - 0s 260us/step - loss: 0.3442 - accuracy: 0.8889\n",
      "Epoch 34/200\n",
      "45/45 [==============================] - 0s 221us/step - loss: 0.1586 - accuracy: 1.0000\n",
      "Epoch 35/200\n",
      "45/45 [==============================] - 0s 217us/step - loss: 0.1826 - accuracy: 0.9556\n",
      "Epoch 36/200\n",
      "45/45 [==============================] - 0s 259us/step - loss: 0.1505 - accuracy: 0.9778\n",
      "Epoch 37/200\n",
      "45/45 [==============================] - 0s 219us/step - loss: 0.1357 - accuracy: 1.0000\n",
      "Epoch 38/200\n",
      "45/45 [==============================] - 0s 238us/step - loss: 0.1804 - accuracy: 0.9556\n",
      "Epoch 39/200\n",
      "45/45 [==============================] - 0s 260us/step - loss: 0.1039 - accuracy: 0.9778\n",
      "Epoch 40/200\n",
      "45/45 [==============================] - 0s 208us/step - loss: 0.2906 - accuracy: 0.9333\n",
      "Epoch 41/200\n",
      "45/45 [==============================] - 0s 207us/step - loss: 0.1382 - accuracy: 0.9778\n",
      "Epoch 42/200\n",
      "45/45 [==============================] - 0s 242us/step - loss: 0.1572 - accuracy: 0.9333\n",
      "Epoch 43/200\n",
      "45/45 [==============================] - 0s 203us/step - loss: 0.2915 - accuracy: 0.9333\n",
      "Epoch 44/200\n",
      "45/45 [==============================] - 0s 225us/step - loss: 0.1456 - accuracy: 0.9778\n",
      "Epoch 45/200\n",
      "45/45 [==============================] - 0s 230us/step - loss: 0.1875 - accuracy: 0.9556\n",
      "Epoch 46/200\n",
      "45/45 [==============================] - 0s 222us/step - loss: 0.1289 - accuracy: 0.9778\n",
      "Epoch 47/200\n",
      "45/45 [==============================] - 0s 202us/step - loss: 0.1488 - accuracy: 0.9778\n",
      "Epoch 48/200\n",
      "45/45 [==============================] - 0s 254us/step - loss: 0.0764 - accuracy: 1.0000\n",
      "Epoch 49/200\n",
      "45/45 [==============================] - 0s 167us/step - loss: 0.1363 - accuracy: 0.9778\n",
      "Epoch 50/200\n",
      "45/45 [==============================] - 0s 252us/step - loss: 0.2406 - accuracy: 0.9556\n",
      "Epoch 51/200\n",
      "45/45 [==============================] - 0s 255us/step - loss: 0.1358 - accuracy: 0.9778\n",
      "Epoch 52/200\n",
      "45/45 [==============================] - 0s 171us/step - loss: 0.1201 - accuracy: 0.9778\n",
      "Epoch 53/200\n",
      "45/45 [==============================] - 0s 223us/step - loss: 0.1562 - accuracy: 0.9556\n",
      "Epoch 54/200\n",
      "45/45 [==============================] - 0s 258us/step - loss: 0.0926 - accuracy: 0.9778\n",
      "Epoch 55/200\n",
      "45/45 [==============================] - 0s 260us/step - loss: 0.1497 - accuracy: 0.9333\n",
      "Epoch 56/200\n",
      "45/45 [==============================] - 0s 185us/step - loss: 0.1316 - accuracy: 0.9778\n",
      "Epoch 57/200\n",
      "45/45 [==============================] - 0s 252us/step - loss: 0.1110 - accuracy: 0.9778\n",
      "Epoch 58/200\n",
      "45/45 [==============================] - 0s 244us/step - loss: 0.1681 - accuracy: 0.9778\n",
      "Epoch 59/200\n",
      "45/45 [==============================] - 0s 228us/step - loss: 0.0525 - accuracy: 0.9778\n",
      "Epoch 60/200\n",
      "45/45 [==============================] - 0s 223us/step - loss: 0.0385 - accuracy: 1.0000\n",
      "Epoch 61/200\n",
      "45/45 [==============================] - 0s 253us/step - loss: 0.1141 - accuracy: 1.0000\n",
      "Epoch 62/200\n",
      "45/45 [==============================] - 0s 238us/step - loss: 0.0743 - accuracy: 0.9778\n",
      "Epoch 63/200\n",
      "45/45 [==============================] - 0s 238us/step - loss: 0.0329 - accuracy: 1.0000\n",
      "Epoch 64/200\n",
      "45/45 [==============================] - 0s 259us/step - loss: 0.0978 - accuracy: 0.9778\n",
      "Epoch 65/200\n",
      "45/45 [==============================] - 0s 252us/step - loss: 0.0102 - accuracy: 1.0000\n",
      "Epoch 66/200\n",
      "45/45 [==============================] - 0s 196us/step - loss: 0.0277 - accuracy: 1.0000\n",
      "Epoch 67/200\n",
      "45/45 [==============================] - 0s 241us/step - loss: 0.0744 - accuracy: 1.0000\n",
      "Epoch 68/200\n",
      "45/45 [==============================] - 0s 251us/step - loss: 0.0509 - accuracy: 1.0000\n",
      "Epoch 69/200\n",
      "45/45 [==============================] - 0s 211us/step - loss: 0.0387 - accuracy: 1.0000\n",
      "Epoch 70/200\n",
      "45/45 [==============================] - 0s 169us/step - loss: 0.0506 - accuracy: 1.0000\n",
      "Epoch 71/200\n",
      "45/45 [==============================] - 0s 228us/step - loss: 0.0932 - accuracy: 0.9778\n",
      "Epoch 72/200\n",
      "45/45 [==============================] - 0s 220us/step - loss: 0.0473 - accuracy: 1.0000\n",
      "Epoch 73/200\n",
      "45/45 [==============================] - 0s 182us/step - loss: 0.1085 - accuracy: 0.9778\n",
      "Epoch 74/200\n",
      "45/45 [==============================] - 0s 224us/step - loss: 0.0424 - accuracy: 1.0000\n",
      "Epoch 75/200\n",
      "45/45 [==============================] - 0s 175us/step - loss: 0.0157 - accuracy: 1.0000\n",
      "Epoch 76/200\n",
      "45/45 [==============================] - 0s 211us/step - loss: 0.0937 - accuracy: 1.0000\n",
      "Epoch 77/200\n",
      "45/45 [==============================] - 0s 213us/step - loss: 0.1159 - accuracy: 0.9556\n",
      "Epoch 78/200\n",
      "45/45 [==============================] - 0s 164us/step - loss: 0.0455 - accuracy: 1.0000\n",
      "Epoch 79/200\n",
      "45/45 [==============================] - 0s 232us/step - loss: 0.1082 - accuracy: 0.9778\n",
      "Epoch 80/200\n",
      "45/45 [==============================] - 0s 175us/step - loss: 0.0441 - accuracy: 1.0000\n",
      "Epoch 81/200\n"
     ]
    },
    {
     "name": "stdout",
     "output_type": "stream",
     "text": [
      "45/45 [==============================] - 0s 199us/step - loss: 0.0541 - accuracy: 1.0000\n",
      "Epoch 82/200\n",
      "45/45 [==============================] - 0s 230us/step - loss: 0.0644 - accuracy: 0.9778\n",
      "Epoch 83/200\n",
      "45/45 [==============================] - 0s 186us/step - loss: 0.1286 - accuracy: 0.9333\n",
      "Epoch 84/200\n",
      "45/45 [==============================] - 0s 221us/step - loss: 0.0572 - accuracy: 1.0000\n",
      "Epoch 85/200\n",
      "45/45 [==============================] - 0s 220us/step - loss: 0.0383 - accuracy: 1.0000\n",
      "Epoch 86/200\n",
      "45/45 [==============================] - 0s 192us/step - loss: 0.0491 - accuracy: 1.0000\n",
      "Epoch 87/200\n",
      "45/45 [==============================] - 0s 218us/step - loss: 0.0285 - accuracy: 1.0000\n",
      "Epoch 88/200\n",
      "45/45 [==============================] - 0s 200us/step - loss: 0.0634 - accuracy: 0.9778\n",
      "Epoch 89/200\n",
      "45/45 [==============================] - 0s 180us/step - loss: 0.0561 - accuracy: 0.9778\n",
      "Epoch 90/200\n",
      "45/45 [==============================] - 0s 187us/step - loss: 0.0457 - accuracy: 0.9778\n",
      "Epoch 91/200\n",
      "45/45 [==============================] - 0s 175us/step - loss: 0.0357 - accuracy: 1.0000\n",
      "Epoch 92/200\n",
      "45/45 [==============================] - 0s 186us/step - loss: 0.0826 - accuracy: 0.9778\n",
      "Epoch 93/200\n",
      "45/45 [==============================] - 0s 168us/step - loss: 0.0197 - accuracy: 1.0000\n",
      "Epoch 94/200\n",
      "45/45 [==============================] - 0s 193us/step - loss: 0.0628 - accuracy: 0.9778\n",
      "Epoch 95/200\n",
      "45/45 [==============================] - 0s 187us/step - loss: 0.0569 - accuracy: 1.0000\n",
      "Epoch 96/200\n",
      "45/45 [==============================] - 0s 232us/step - loss: 0.0195 - accuracy: 1.0000\n",
      "Epoch 97/200\n",
      "45/45 [==============================] - 0s 247us/step - loss: 0.0144 - accuracy: 1.0000\n",
      "Epoch 98/200\n",
      "45/45 [==============================] - 0s 225us/step - loss: 0.0296 - accuracy: 1.0000\n",
      "Epoch 99/200\n",
      "45/45 [==============================] - 0s 212us/step - loss: 0.0248 - accuracy: 1.0000\n",
      "Epoch 100/200\n",
      "45/45 [==============================] - 0s 266us/step - loss: 0.0746 - accuracy: 0.9778\n",
      "Epoch 101/200\n",
      "45/45 [==============================] - 0s 224us/step - loss: 0.0656 - accuracy: 0.9556\n",
      "Epoch 102/200\n",
      "45/45 [==============================] - 0s 220us/step - loss: 0.0232 - accuracy: 1.0000\n",
      "Epoch 103/200\n",
      "45/45 [==============================] - 0s 241us/step - loss: 0.0249 - accuracy: 1.0000\n",
      "Epoch 104/200\n",
      "45/45 [==============================] - 0s 274us/step - loss: 0.0713 - accuracy: 0.9778\n",
      "Epoch 105/200\n",
      "45/45 [==============================] - 0s 241us/step - loss: 0.0740 - accuracy: 0.9778\n",
      "Epoch 106/200\n",
      "45/45 [==============================] - 0s 242us/step - loss: 0.0347 - accuracy: 1.0000\n",
      "Epoch 107/200\n",
      "45/45 [==============================] - 0s 231us/step - loss: 0.0431 - accuracy: 1.0000\n",
      "Epoch 108/200\n",
      "45/45 [==============================] - 0s 269us/step - loss: 0.0435 - accuracy: 0.9778\n",
      "Epoch 109/200\n",
      "45/45 [==============================] - 0s 261us/step - loss: 0.0467 - accuracy: 1.0000\n",
      "Epoch 110/200\n",
      "45/45 [==============================] - 0s 266us/step - loss: 0.0188 - accuracy: 1.0000\n",
      "Epoch 111/200\n",
      "45/45 [==============================] - 0s 214us/step - loss: 0.0200 - accuracy: 1.0000\n",
      "Epoch 112/200\n",
      "45/45 [==============================] - 0s 212us/step - loss: 0.0381 - accuracy: 1.0000\n",
      "Epoch 113/200\n",
      "45/45 [==============================] - 0s 212us/step - loss: 0.0125 - accuracy: 1.0000\n",
      "Epoch 114/200\n",
      "45/45 [==============================] - 0s 235us/step - loss: 0.0334 - accuracy: 1.0000\n",
      "Epoch 115/200\n",
      "45/45 [==============================] - 0s 230us/step - loss: 0.0609 - accuracy: 0.9778\n",
      "Epoch 116/200\n",
      "45/45 [==============================] - 0s 218us/step - loss: 0.0321 - accuracy: 0.9778\n",
      "Epoch 117/200\n",
      "45/45 [==============================] - 0s 210us/step - loss: 0.0214 - accuracy: 1.0000\n",
      "Epoch 118/200\n",
      "45/45 [==============================] - 0s 229us/step - loss: 0.0087 - accuracy: 1.0000\n",
      "Epoch 119/200\n",
      "45/45 [==============================] - 0s 239us/step - loss: 0.0437 - accuracy: 0.9778\n",
      "Epoch 120/200\n",
      "45/45 [==============================] - 0s 220us/step - loss: 0.0291 - accuracy: 1.0000\n",
      "Epoch 121/200\n",
      "45/45 [==============================] - 0s 201us/step - loss: 0.0135 - accuracy: 1.0000\n",
      "Epoch 122/200\n",
      "45/45 [==============================] - 0s 204us/step - loss: 0.0225 - accuracy: 1.0000\n",
      "Epoch 123/200\n",
      "45/45 [==============================] - 0s 223us/step - loss: 0.0129 - accuracy: 1.0000\n",
      "Epoch 124/200\n",
      "45/45 [==============================] - 0s 215us/step - loss: 0.0153 - accuracy: 1.0000\n",
      "Epoch 125/200\n",
      "45/45 [==============================] - 0s 193us/step - loss: 0.0242 - accuracy: 1.0000\n",
      "Epoch 126/200\n",
      "45/45 [==============================] - 0s 197us/step - loss: 0.0091 - accuracy: 1.0000\n",
      "Epoch 127/200\n",
      "45/45 [==============================] - 0s 208us/step - loss: 0.0094 - accuracy: 1.0000\n",
      "Epoch 128/200\n",
      "45/45 [==============================] - 0s 260us/step - loss: 0.0242 - accuracy: 1.0000\n",
      "Epoch 129/200\n",
      "45/45 [==============================] - 0s 217us/step - loss: 0.0220 - accuracy: 1.0000\n",
      "Epoch 130/200\n",
      "45/45 [==============================] - 0s 218us/step - loss: 0.0989 - accuracy: 0.9556\n",
      "Epoch 131/200\n",
      "45/45 [==============================] - 0s 189us/step - loss: 0.0434 - accuracy: 1.0000\n",
      "Epoch 132/200\n",
      "45/45 [==============================] - 0s 205us/step - loss: 0.0391 - accuracy: 1.0000\n",
      "Epoch 133/200\n",
      "45/45 [==============================] - 0s 212us/step - loss: 0.0264 - accuracy: 1.0000\n",
      "Epoch 134/200\n",
      "45/45 [==============================] - 0s 206us/step - loss: 0.2206 - accuracy: 0.9778\n",
      "Epoch 135/200\n",
      "45/45 [==============================] - 0s 215us/step - loss: 0.0265 - accuracy: 1.0000\n",
      "Epoch 136/200\n",
      "45/45 [==============================] - 0s 218us/step - loss: 0.0131 - accuracy: 1.0000\n",
      "Epoch 137/200\n",
      "45/45 [==============================] - 0s 238us/step - loss: 0.1203 - accuracy: 0.9556\n",
      "Epoch 138/200\n",
      "45/45 [==============================] - 0s 198us/step - loss: 0.0135 - accuracy: 1.0000\n",
      "Epoch 139/200\n",
      "45/45 [==============================] - 0s 157us/step - loss: 0.0462 - accuracy: 0.9778\n",
      "Epoch 140/200\n",
      "45/45 [==============================] - 0s 173us/step - loss: 0.0269 - accuracy: 1.0000\n",
      "Epoch 141/200\n",
      "45/45 [==============================] - 0s 175us/step - loss: 0.0165 - accuracy: 1.0000\n",
      "Epoch 142/200\n",
      "45/45 [==============================] - 0s 200us/step - loss: 0.0241 - accuracy: 1.0000\n",
      "Epoch 143/200\n",
      "45/45 [==============================] - 0s 165us/step - loss: 0.0109 - accuracy: 1.0000\n",
      "Epoch 144/200\n",
      "45/45 [==============================] - 0s 207us/step - loss: 0.0447 - accuracy: 0.9778\n",
      "Epoch 145/200\n",
      "45/45 [==============================] - 0s 173us/step - loss: 0.0028 - accuracy: 1.0000\n",
      "Epoch 146/200\n",
      "45/45 [==============================] - 0s 164us/step - loss: 0.0384 - accuracy: 0.9778\n",
      "Epoch 147/200\n",
      "45/45 [==============================] - 0s 165us/step - loss: 0.0129 - accuracy: 1.0000\n",
      "Epoch 148/200\n",
      "45/45 [==============================] - 0s 170us/step - loss: 0.0301 - accuracy: 1.0000\n",
      "Epoch 149/200\n",
      "45/45 [==============================] - 0s 171us/step - loss: 0.0264 - accuracy: 1.0000\n",
      "Epoch 150/200\n",
      "45/45 [==============================] - 0s 170us/step - loss: 0.0258 - accuracy: 1.0000\n",
      "Epoch 151/200\n",
      "45/45 [==============================] - 0s 202us/step - loss: 0.0061 - accuracy: 1.0000\n",
      "Epoch 152/200\n",
      "45/45 [==============================] - 0s 162us/step - loss: 0.0316 - accuracy: 1.0000\n",
      "Epoch 153/200\n",
      "45/45 [==============================] - 0s 169us/step - loss: 0.0460 - accuracy: 0.9778\n",
      "Epoch 154/200\n",
      "45/45 [==============================] - 0s 154us/step - loss: 0.0234 - accuracy: 1.0000\n",
      "Epoch 155/200\n",
      "45/45 [==============================] - 0s 171us/step - loss: 0.0266 - accuracy: 1.0000\n",
      "Epoch 156/200\n",
      "45/45 [==============================] - 0s 158us/step - loss: 0.0089 - accuracy: 1.0000\n",
      "Epoch 157/200\n",
      "45/45 [==============================] - 0s 162us/step - loss: 0.0785 - accuracy: 0.9778\n",
      "Epoch 158/200\n",
      "45/45 [==============================] - 0s 166us/step - loss: 0.0099 - accuracy: 1.0000\n",
      "Epoch 159/200\n",
      "45/45 [==============================] - 0s 178us/step - loss: 0.0302 - accuracy: 1.0000\n",
      "Epoch 160/200\n"
     ]
    },
    {
     "name": "stdout",
     "output_type": "stream",
     "text": [
      "45/45 [==============================] - 0s 155us/step - loss: 0.0156 - accuracy: 1.0000\n",
      "Epoch 161/200\n",
      "45/45 [==============================] - 0s 189us/step - loss: 0.0137 - accuracy: 1.0000\n",
      "Epoch 162/200\n",
      "45/45 [==============================] - 0s 175us/step - loss: 0.0081 - accuracy: 1.0000\n",
      "Epoch 163/200\n",
      "45/45 [==============================] - 0s 255us/step - loss: 0.0215 - accuracy: 1.0000\n",
      "Epoch 164/200\n",
      "45/45 [==============================] - 0s 179us/step - loss: 0.0343 - accuracy: 1.0000\n",
      "Epoch 165/200\n",
      "45/45 [==============================] - 0s 181us/step - loss: 0.0216 - accuracy: 1.0000\n",
      "Epoch 166/200\n",
      "45/45 [==============================] - 0s 181us/step - loss: 0.0237 - accuracy: 1.0000\n",
      "Epoch 167/200\n",
      "45/45 [==============================] - 0s 199us/step - loss: 0.0077 - accuracy: 1.0000\n",
      "Epoch 168/200\n",
      "45/45 [==============================] - 0s 178us/step - loss: 0.0380 - accuracy: 0.9778\n",
      "Epoch 169/200\n",
      "45/45 [==============================] - 0s 165us/step - loss: 0.0179 - accuracy: 1.0000\n",
      "Epoch 170/200\n",
      "45/45 [==============================] - 0s 178us/step - loss: 0.0094 - accuracy: 1.0000\n",
      "Epoch 171/200\n",
      "45/45 [==============================] - 0s 180us/step - loss: 0.0133 - accuracy: 1.0000\n",
      "Epoch 172/200\n",
      "45/45 [==============================] - 0s 200us/step - loss: 0.0111 - accuracy: 1.0000\n",
      "Epoch 173/200\n",
      "45/45 [==============================] - 0s 167us/step - loss: 0.0072 - accuracy: 1.0000\n",
      "Epoch 174/200\n",
      "45/45 [==============================] - 0s 172us/step - loss: 0.0093 - accuracy: 1.0000\n",
      "Epoch 175/200\n",
      "45/45 [==============================] - 0s 169us/step - loss: 0.0193 - accuracy: 1.0000\n",
      "Epoch 176/200\n",
      "45/45 [==============================] - 0s 179us/step - loss: 0.0133 - accuracy: 1.0000\n",
      "Epoch 177/200\n",
      "45/45 [==============================] - 0s 164us/step - loss: 0.0931 - accuracy: 0.9778\n",
      "Epoch 178/200\n",
      "45/45 [==============================] - 0s 165us/step - loss: 0.0116 - accuracy: 1.0000\n",
      "Epoch 179/200\n",
      "45/45 [==============================] - 0s 166us/step - loss: 0.0189 - accuracy: 1.0000\n",
      "Epoch 180/200\n",
      "45/45 [==============================] - 0s 165us/step - loss: 0.0160 - accuracy: 1.0000\n",
      "Epoch 181/200\n",
      "45/45 [==============================] - 0s 170us/step - loss: 0.0312 - accuracy: 1.0000\n",
      "Epoch 182/200\n",
      "45/45 [==============================] - 0s 176us/step - loss: 0.0290 - accuracy: 1.0000\n",
      "Epoch 183/200\n",
      "45/45 [==============================] - 0s 181us/step - loss: 0.0101 - accuracy: 1.0000\n",
      "Epoch 184/200\n",
      "45/45 [==============================] - 0s 172us/step - loss: 0.0440 - accuracy: 1.0000\n",
      "Epoch 185/200\n",
      "45/45 [==============================] - 0s 176us/step - loss: 0.0442 - accuracy: 0.9778\n",
      "Epoch 186/200\n",
      "45/45 [==============================] - 0s 178us/step - loss: 0.0059 - accuracy: 1.0000\n",
      "Epoch 187/200\n",
      "45/45 [==============================] - 0s 170us/step - loss: 0.0055 - accuracy: 1.0000\n",
      "Epoch 188/200\n",
      "45/45 [==============================] - 0s 171us/step - loss: 0.0057 - accuracy: 1.0000\n",
      "Epoch 189/200\n",
      "45/45 [==============================] - 0s 181us/step - loss: 0.0456 - accuracy: 0.9778\n",
      "Epoch 190/200\n",
      "45/45 [==============================] - 0s 183us/step - loss: 0.0079 - accuracy: 1.0000\n",
      "Epoch 191/200\n",
      "45/45 [==============================] - 0s 182us/step - loss: 0.0105 - accuracy: 1.0000\n",
      "Epoch 192/200\n",
      "45/45 [==============================] - 0s 176us/step - loss: 0.0793 - accuracy: 0.9556\n",
      "Epoch 193/200\n",
      "45/45 [==============================] - 0s 183us/step - loss: 0.0637 - accuracy: 0.9778\n",
      "Epoch 194/200\n",
      "45/45 [==============================] - 0s 182us/step - loss: 0.0232 - accuracy: 1.0000\n",
      "Epoch 195/200\n",
      "45/45 [==============================] - 0s 175us/step - loss: 0.0108 - accuracy: 1.0000\n",
      "Epoch 196/200\n",
      "45/45 [==============================] - 0s 163us/step - loss: 0.0596 - accuracy: 0.9778\n",
      "Epoch 197/200\n",
      "45/45 [==============================] - 0s 181us/step - loss: 0.0654 - accuracy: 0.9778\n",
      "Epoch 198/200\n",
      "45/45 [==============================] - 0s 183us/step - loss: 0.0105 - accuracy: 1.0000\n",
      "Epoch 199/200\n",
      "45/45 [==============================] - 0s 210us/step - loss: 0.0743 - accuracy: 0.9778\n",
      "Epoch 200/200\n",
      "45/45 [==============================] - 0s 180us/step - loss: 0.0599 - accuracy: 0.9778\n"
     ]
    },
    {
     "data": {
      "text/plain": [
       "<keras.callbacks.callbacks.History at 0x7fa57443eef0>"
      ]
     },
     "execution_count": 25,
     "metadata": {},
     "output_type": "execute_result"
    }
   ],
   "source": [
    "# Fit the model\n",
    "model.fit(np.array(train_x), np.array(train_y), epochs = 200,\n",
    "          batch_size = 5, verbose = 1)"
   ]
  },
  {
   "cell_type": "markdown",
   "metadata": {},
   "source": [
    "### Define helper functions"
   ]
  },
  {
   "cell_type": "code",
   "execution_count": 26,
   "metadata": {},
   "outputs": [],
   "source": [
    "def clean_up_sentence(sentence):\n",
    "    # tokenize the pattern - split words into arr\n",
    "    sentence_words = nltk.word_tokenize(sentence)\n",
    "    # stem ea word - create short form for word\n",
    "    sentence_words = [stemmer.stem(word.lower()) for word in sentence_words]\n",
    "    return sentence_words"
   ]
  },
  {
   "cell_type": "code",
   "execution_count": 27,
   "metadata": {},
   "outputs": [],
   "source": [
    "# Translate user sentence into bag of words with arr 0/1\n",
    "# 0 or 1 for ea word in bag that exists in the sentence\n",
    "def bow(sentence, words, show_details = True):\n",
    "    # tokenize the pattern\n",
    "    sentence_words = clean_up_sentence(sentence)\n",
    "    # bag of words - matrix of N words, vocab matrix\n",
    "    bag = [0] * len(words)\n",
    "    \n",
    "    for s in sentence_words:\n",
    "        for i, w in enumerate(words):\n",
    "            if w == s:\n",
    "                # assign 1 if current word in vocab position\n",
    "                bag[i] = 1\n",
    "                if show_details:\n",
    "                    print(f\"Found in bag: {w}\")\n",
    "    \n",
    "    return np.array(bag)"
   ]
  },
  {
   "cell_type": "markdown",
   "metadata": {},
   "source": [
    "### Example translating sentence into bag of words"
   ]
  },
  {
   "cell_type": "code",
   "execution_count": 28,
   "metadata": {},
   "outputs": [
    {
     "name": "stdout",
     "output_type": "stream",
     "text": [
      "Found in bag: load\n",
      "Found in bag: blood\n",
      "Found in bag: press\n",
      "Found in bag: for\n",
      "Found in bag: paty\n",
      "[0 0 0 0 0 0 0 0 0 0 1 0 0 0 0 0 0 0 0 0 0 0 0 0 0 0 1 0 0 0 0 0 0 0 0 0 0\n",
      " 0 0 0 0 0 1 0 0 0 0 0 0 0 0 0 0 0 0 0 1 0 1 0 0 0 0 0 0 0 0 0 0 0 0 0 0 0\n",
      " 0 0 0 0 0 0 0 0]\n",
      "['adverse_drug', 'blood_pressure', 'blood_pressure_search', 'goodbye', 'greeting', 'hospital_search', 'options', 'pharmacy_search', 'thanks']\n"
     ]
    }
   ],
   "source": [
    "p = bow(\"Load blood pressure for patient\", words)\n",
    "print(p)\n",
    "print(classes)"
   ]
  },
  {
   "cell_type": "code",
   "execution_count": null,
   "metadata": {},
   "outputs": [],
   "source": [
    "'''\n",
    "Good practice to save trained model into pickle file to reuse to publish\n",
    "through Flask REST API\n",
    "'''"
   ]
  },
  {
   "cell_type": "code",
   "execution_count": 29,
   "metadata": {},
   "outputs": [
    {
     "ename": "NameError",
     "evalue": "name 'tf' is not defined",
     "output_type": "error",
     "traceback": [
      "\u001b[0;31m---------------------------------------------------------------------------\u001b[0m",
      "\u001b[0;31mNameError\u001b[0m                                 Traceback (most recent call last)",
      "\u001b[0;32m<ipython-input-29-e185e073568c>\u001b[0m in \u001b[0;36m<module>\u001b[0;34m\u001b[0m\n\u001b[1;32m      1\u001b[0m \u001b[0;31m# Use pickle to load in pre-trained model\u001b[0m\u001b[0;34m\u001b[0m\u001b[0;34m\u001b[0m\u001b[0;34m\u001b[0m\u001b[0m\n\u001b[1;32m      2\u001b[0m \u001b[0;32mglobal\u001b[0m \u001b[0mgraph\u001b[0m\u001b[0;34m\u001b[0m\u001b[0;34m\u001b[0m\u001b[0m\n\u001b[0;32m----> 3\u001b[0;31m \u001b[0mgraph\u001b[0m \u001b[0;34m=\u001b[0m \u001b[0mtf\u001b[0m\u001b[0;34m.\u001b[0m\u001b[0mget_default_graph\u001b[0m\u001b[0;34m(\u001b[0m\u001b[0;34m)\u001b[0m\u001b[0;34m\u001b[0m\u001b[0;34m\u001b[0m\u001b[0m\n\u001b[0m\u001b[1;32m      4\u001b[0m \u001b[0;34m\u001b[0m\u001b[0m\n\u001b[1;32m      5\u001b[0m \u001b[0;32mwith\u001b[0m \u001b[0mopen\u001b[0m\u001b[0;34m(\u001b[0m\u001b[0;34mf\"katana-assistant-model.pkl\"\u001b[0m\u001b[0;34m,\u001b[0m \u001b[0;34m'rb'\u001b[0m\u001b[0;34m)\u001b[0m \u001b[0;32mas\u001b[0m \u001b[0mf\u001b[0m\u001b[0;34m:\u001b[0m\u001b[0;34m\u001b[0m\u001b[0;34m\u001b[0m\u001b[0m\n",
      "\u001b[0;31mNameError\u001b[0m: name 'tf' is not defined"
     ]
    }
   ],
   "source": [
    "# Use pickle to load in pre-trained model\n",
    "global graph\n",
    "graph = tf.get_default_graph()\n",
    "\n",
    "with open(f\"katana-assistant-model.pkl\", 'rb') as f:\n",
    "    model = pickle.load(f)"
   ]
  },
  {
   "cell_type": "code",
   "execution_count": null,
   "metadata": {},
   "outputs": [],
   "source": [
    "'''\n",
    "before publishing model through Flask REST API, always good to run extra test\n",
    "use model.predict to classify user input & based on calculated\n",
    "probability return intent (multiple intents can be returned)\n",
    "'''"
   ]
  },
  {
   "cell_type": "code",
   "execution_count": 30,
   "metadata": {},
   "outputs": [],
   "source": [
    "def classify_local(sentence):\n",
    "    ERROR_THRESHOLD = 0.25\n",
    "    \n",
    "    # generate probabilities from model\n",
    "    input_data = pd.DataFrame([bow(sentence, words)], dtype = float,\n",
    "                              index = ['input'])\n",
    "    results = model.predict([input_data])[0]\n",
    "    # filter predictions below a threshold & provide intent index\n",
    "    results = [[i, r] for i, r in enumerate(results) if r > ERROR_THRESHOLD]\n",
    "    # sort by strength of probability\n",
    "    results.sort(key = lambda x: x[1], reverse = True)\n",
    "    \n",
    "    return_list = []\n",
    "    for r in results:\n",
    "        return_list.append((classes[r[0]], str(r[1])))\n",
    "    # return tuple of intent & probability\n",
    "    return return_list"
   ]
  },
  {
   "cell_type": "code",
   "execution_count": 31,
   "metadata": {},
   "outputs": [
    {
     "name": "stdout",
     "output_type": "stream",
     "text": [
      "Found in bag: blood\n",
      "Found in bag: result\n",
      "Found in bag: for\n",
      "Found in bag: paty\n"
     ]
    },
    {
     "data": {
      "text/plain": [
       "[('blood_pressure_search', '0.9999262')]"
      ]
     },
     "execution_count": 31,
     "metadata": {},
     "output_type": "execute_result"
    }
   ],
   "source": [
    "classify_local('Fetch blood result for patient')"
   ]
  },
  {
   "cell_type": "markdown",
   "metadata": {},
   "source": [
    "### Publish same function through REST endpoint"
   ]
  },
  {
   "cell_type": "code",
   "execution_count": null,
   "metadata": {},
   "outputs": [],
   "source": []
  }
 ],
 "metadata": {
  "kernelspec": {
   "display_name": "Python 3",
   "language": "python",
   "name": "python3"
  },
  "language_info": {
   "codemirror_mode": {
    "name": "ipython",
    "version": 3
   },
   "file_extension": ".py",
   "mimetype": "text/x-python",
   "name": "python",
   "nbconvert_exporter": "python",
   "pygments_lexer": "ipython3",
   "version": "3.7.3"
  }
 },
 "nbformat": 4,
 "nbformat_minor": 2
}

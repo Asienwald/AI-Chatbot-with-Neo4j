{
 "cells": [
  {
   "cell_type": "markdown",
   "metadata": {},
   "source": [
    "# <font color='cyan'>Chatbot API with Keras Model</font>"
   ]
  },
  {
   "cell_type": "markdown",
   "metadata": {},
   "source": [
    "### Main challenges:\n",
    "- Classify user input to recognise intent\n",
    "- keep context"
   ]
  },
  {
   "cell_type": "code",
   "execution_count": 1,
   "metadata": {},
   "outputs": [
    {
     "ename": "SyntaxError",
     "evalue": "invalid syntax (<ipython-input-1-a0372b68077c>, line 1)",
     "output_type": "error",
     "traceback": [
      "\u001b[0;36m  File \u001b[0;32m\"<ipython-input-1-a0372b68077c>\"\u001b[0;36m, line \u001b[0;32m1\u001b[0m\n\u001b[0;31m    hello i added a new sentence\u001b[0m\n\u001b[0m          ^\u001b[0m\n\u001b[0;31mSyntaxError\u001b[0m\u001b[0;31m:\u001b[0m invalid syntax\n"
     ]
    }
   ],
   "source": [
    "hello i added a new sentence"
   ]
  },
  {
   "cell_type": "code",
   "execution_count": 7,
   "metadata": {},
   "outputs": [],
   "source": [
    "# Keras deep learning library to build classification model\n",
    "# Lancaster stemming library used to collapse distinct word forms\n",
    "import nltk\n",
    "from nltk.stem.lancaster import LancasterStemmer\n",
    "stemmer = LancasterStemmer()"
   ]
  },
  {
   "cell_type": "code",
   "execution_count": 8,
   "metadata": {},
   "outputs": [
    {
     "name": "stderr",
     "output_type": "stream",
     "text": [
      "Using TensorFlow backend.\n"
     ]
    }
   ],
   "source": [
    "# things we need for Tensorflow\n",
    "import numpy as np\n",
    "from keras.models import Sequential\n",
    "from keras.layers import Dense, Activation, Dropout\n",
    "from keras.optimizers import SGD\n",
    "import pandas as pd\n",
    "import pickle\n",
    "import random"
   ]
  },
  {
   "cell_type": "code",
   "execution_count": 3,
   "metadata": {},
   "outputs": [
    {
     "data": {
      "text/plain": [
       "'\\nChatbot intents & patterns to learn defined in a plain JSON file\\nClassification model can be created for small vocabulary\\nNeed to build vocabulary > patterns processed\\neach word stemmed to produce generic root > help cover more combi for inputs\\n'"
      ]
     },
     "execution_count": 3,
     "metadata": {},
     "output_type": "execute_result"
    }
   ],
   "source": [
    "'''\n",
    "Chatbot intents & patterns to learn defined in a plain JSON file\n",
    "Classification model can be created for small vocabulary\n",
    "Need to build vocabulary > patterns processed\n",
    "each word stemmed to produce generic root > help cover more combi for inputs\n",
    "'''"
   ]
  },
  {
   "cell_type": "markdown",
   "metadata": {},
   "source": [
    "### Read the JSON file"
   ]
  },
  {
   "cell_type": "code",
   "execution_count": 9,
   "metadata": {},
   "outputs": [],
   "source": [
    "import json\n",
    "\n",
    "with open('chat_intents.json') as intent_file:\n",
    "    intents = json.load(intent_file)"
   ]
  },
  {
   "cell_type": "code",
   "execution_count": 11,
   "metadata": {},
   "outputs": [
    {
     "name": "stderr",
     "output_type": "stream",
     "text": [
      "[nltk_data] Downloading package punkt to /home/lkarwei/nltk_data...\n",
      "[nltk_data]   Unzipping tokenizers/punkt.zip.\n"
     ]
    },
    {
     "data": {
      "text/plain": [
       "True"
      ]
     },
     "execution_count": 11,
     "metadata": {},
     "output_type": "execute_result"
    }
   ],
   "source": [
    "nltk.download(\"punkt\")"
   ]
  },
  {
   "cell_type": "code",
   "execution_count": 12,
   "metadata": {},
   "outputs": [
    {
     "name": "stdout",
     "output_type": "stream",
     "text": [
      "28 documents [(['are', 'cca', 'compulsory'], 'inquire_cca_general'), (['how', 'many', 'cca', 'can', 'you', 'join'], 'inquire_cca_general'), (['how', 'to', 'apply', 'for', 'a', 'cca'], 'inquire_cca_general'), (['how', 'to', 'create', 'a', 'cca'], 'inquire_cca_general'), (['benefits', 'of', 'cca'], 'inquire_cca_general'), (['what', 'cca', 'are', 'there'], 'inquire_cca_list'), (['what', 'cca', 'do', 'you', 'have'], 'inquire_cca_list'), (['what', 'are', 'cca', 'points'], 'inquire_cca_grades'), (['how', 'are', 'cca', 'points', 'awarded'], 'inquire_cca_grades'), (['what', 'cca', 'components', 'are', 'there'], 'inquire_cca_grades'), (['what', 'is', 'each', 'component'], 'inquire_cca_grades'), (['how', 'does', 'grading', 'work'], 'inquire_cca_grades'), (['how', 'are', 'points', 'consolidated'], 'inquire_cca_grades'), (['what', 'is', 'sports', 'for', 'life'], 'inquire_cca_sfl'), (['sfl'], 'inquire_cca_sfl'), (['what', 'is', 'sfl', 'pass', 'criteria'], 'inquire_cca_sfl'), (['how', 'to', 'register', 'for', 'sfl'], 'inquire_cca_sfl'), (['what', 'are', 'the', 'modules', 'in', 'sfl'], 'inquire_cca_sfl'), (['what', 'sports', 'in', 'sfl'], 'inquire_cca_sfl'), (['what', 'day', 'is', 'sfl', 'on'], 'inquire_cca_sfl'), (['sfl', 'schedule'], 'inquire_cca_sfl'), (['where', 'is', 'sfl'], 'inquire_cca_sfl'), (['sfl', 'venues'], 'inquire_cca_sfl'), (['can', 'i', 'change', 'my', 'sfl', 'date'], 'inquire_cca_sfl'), (['what', 'sports', 'facilities', 'in', 'sp'], 'inquire_cca_facilities'), (['sports', 'facilities'], 'inquire_cca_facilities'), (['courts'], 'inquire_cca_facilities'), (['sports', 'venues'], 'inquire_cca_facilities')]\n",
      "5 classes ['inquire_cca_facilities', 'inquire_cca_general', 'inquire_cca_grades', 'inquire_cca_list', 'inquire_cca_sfl']\n",
      "49 unique stemmed words ['a', 'apply', 'ar', 'award', 'benefit', 'can', 'cca', 'chang', 'compon', 'compuls', 'consolid', 'court', 'cre', 'criter', 'dat', 'day', 'do', 'doe', 'each', 'facil', 'for', 'grad', 'hav', 'how', 'i', 'in', 'is', 'join', 'lif', 'many', 'mod', 'my', 'of', 'on', 'pass', 'point', 'reg', 'schedule', 'sfl', 'sp', 'sport', 'the', 'ther', 'to', 'venu', 'what', 'wher', 'work', 'you']\n"
     ]
    }
   ],
   "source": [
    "words = []\n",
    "classes = []\n",
    "documents = []\n",
    "ignore_words = ['?']\n",
    "\n",
    "#loop through each sentence in our intents patterns\n",
    "for intent in intents['intents']:\n",
    "    for pattern in intent['patterns']:\n",
    "        # tokenize each word in sentence\n",
    "        w = nltk.word_tokenize(pattern)\n",
    "        \n",
    "        # add to words list\n",
    "        words.extend(w)\n",
    "        \n",
    "        # add documents in corpus\n",
    "        documents.append((w, intent['tag']))\n",
    "        \n",
    "        # add to our classes list\n",
    "        if intent['tag'] not in classes:\n",
    "            classes.append(intent['tag'])\n",
    "\n",
    "# stem & lower ea word & remove dupes\n",
    "words = [stemmer.stem(w.lower()) for w in words if w not in ignore_words]\n",
    "words = sorted(list(set(words)))\n",
    "\n",
    "# sort classes\n",
    "classes = sorted(list(set(classes)))\n",
    "\n",
    "# documents = combination between patterns & intents\n",
    "print(len(documents), 'documents', documents)\n",
    "# classes = intents\n",
    "print(len(classes), \"classes\", classes)\n",
    "# words = all words, vocab\n",
    "print(len(words), \"unique stemmed words\", words)"
   ]
  },
  {
   "cell_type": "code",
   "execution_count": 15,
   "metadata": {},
   "outputs": [
    {
     "data": {
      "text/plain": [
       "\"\\nTraining won't be run based on vocab of words (words meaningless for machine)\\nNeed to translate words into bags of words with arr containing 0/1\\n\\nArr length will be equal to vocab size & 1 set when word from current\\npattern is located in a given position\\n\""
      ]
     },
     "execution_count": 15,
     "metadata": {},
     "output_type": "execute_result"
    }
   ],
   "source": [
    "'''\n",
    "Training won't be run based on vocab of words (words meaningless for machine)\n",
    "Need to translate words into bags of words with arr containing 0/1\n",
    "\n",
    "Arr length will be equal to vocab size & 1 set when word from current\n",
    "pattern is located in a given position\n",
    "'''"
   ]
  },
  {
   "cell_type": "code",
   "execution_count": 13,
   "metadata": {},
   "outputs": [],
   "source": [
    "# create our training data\n",
    "training = []\n",
    "# create an empty array for our output\n",
    "output_empty = [0] * len(classes)"
   ]
  },
  {
   "cell_type": "code",
   "execution_count": 14,
   "metadata": {},
   "outputs": [],
   "source": [
    "# training set, bag of words for ea sentence\n",
    "for doc in documents:\n",
    "    # initialise our bag of words\n",
    "    bag = []\n",
    "    #list tokenized words for the pattern\n",
    "    pattern_words = doc[0]\n",
    "    # stem ea word - create base word to represent related words\n",
    "    # Please read stemming VS lemmatization\n",
    "    pattern_words = [stemmer.stem(word.lower()) for word in pattern_words]\n",
    "    \n",
    "    # create our bag of words arr with 1, if word match found in\n",
    "    # current pattern\n",
    "    for w in words:\n",
    "        bag.append(1) if w in pattern_words else bag.append(0)\n",
    "        \n",
    "    # output is '0' for ea tag & '1' for current tag (for ea pattern)\n",
    "    # output_row is basically the class/intents it falls in\n",
    "    output_row = list(output_empty)\n",
    "    output_row[classes.index(doc[1])] = 1\n",
    "    \n",
    "    training.append([bag, output_row])\n",
    "    \n",
    "    # print(training)"
   ]
  },
  {
   "cell_type": "code",
   "execution_count": 15,
   "metadata": {},
   "outputs": [],
   "source": [
    "# shuffle our features & turn into np.array\n",
    "random.shuffle(training)\n",
    "training = np.array(training)"
   ]
  },
  {
   "cell_type": "code",
   "execution_count": 16,
   "metadata": {},
   "outputs": [],
   "source": [
    "# create train & test lists. X - patterns, Y - intents\n",
    "train_x = list(training[:,0])\n",
    "train_y = list(training[:,1])"
   ]
  },
  {
   "cell_type": "code",
   "execution_count": null,
   "metadata": {},
   "outputs": [],
   "source": [
    "with open('model.pickle', 'wb') as f:\n",
    "  pickle.dump((words, labels, training))"
   ]
  },
  {
   "cell_type": "code",
   "execution_count": 20,
   "metadata": {},
   "outputs": [
    {
     "data": {
      "text/plain": [
       "'\\nTraining data - X (pattern converted into array [0,1,0,1...,0])\\nY (intents converted into arr [1,0,0,0,..,0]), will be single 1 for intents arr\\n\\nModel built on 3 layers\\n\\nClassification output will be multiclass arr > help identify encoded intent\\n\\nUse Softmax activation to produce multiclass classification output\\n(result returns arr of 0/1: [1,0,0...,0] - identifies encoded intent)\\n'"
      ]
     },
     "execution_count": 20,
     "metadata": {},
     "output_type": "execute_result"
    }
   ],
   "source": [
    "'''\n",
    "Training data - X (pattern converted into array [0,1,0,1...,0])\n",
    "Y (intents converted into arr [1,0,0,0,..,0]), will be single 1 for intents arr\n",
    "\n",
    "Model built on 3 layers\n",
    "\n",
    "Classification output will be multiclass arr > help identify encoded intent\n",
    "\n",
    "Use Softmax activation to produce multiclass classification output\n",
    "(result returns arr of 0/1: [1,0,0...,0] - identifies encoded intent)\n",
    "'''"
   ]
  },
  {
   "cell_type": "markdown",
   "metadata": {},
   "source": [
    "## <font color='red'>**NOTE</font> <br>\n",
    "Ok so Cael & Joe, <br>\n",
    "This part below is basically what makes up a Neural network in ML\n",
    "\n",
    "So basically a neural network has different layers in its hidden layer (main layer)\n",
    "that tries to sift out features to identify what is going on and learn\n",
    "\n",
    "In each layer we have number of neurons to help us know what's going on <br>\n",
    "> Simple Eg. When you touch something you have nerves to tell you if you really touched something or not\n",
    "\n",
    "Softmax is the activation function we're using to determine when to trigger these neurons <br>\n",
    "> Eg. Did you really touch something?? How do you know? > Your nerves felt something and sent signals to your brain"
   ]
  },
  {
   "cell_type": "markdown",
   "metadata": {},
   "source": [
    "Input shape = specify shape of your data its dealing with in 1st layer"
   ]
  },
  {
   "cell_type": "code",
   "execution_count": 17,
   "metadata": {},
   "outputs": [],
   "source": [
    "# Create model - 3 layers\n",
    "# 1st layer 128 neurons, 2nd layer 64 neurons & 3rd contains num of neurons\n",
    "# equal to num of intents to predict output intent with softmax\n",
    "\n",
    "model = Sequential()\n",
    "model.add(Dense(128, input_shape = (len(train_x[0]), ), activation = 'relu'))\n",
    "model.add(Dropout(0.5))\n",
    "model.add(Dense(64, activation = 'relu'))\n",
    "model.add(Dropout(0.5))\n",
    "model.add(Dense(len(train_y[0]), activation = 'softmax'))"
   ]
  },
  {
   "cell_type": "markdown",
   "metadata": {},
   "source": [
    "### Compile Keras model with SGD optimiser"
   ]
  },
  {
   "cell_type": "code",
   "execution_count": 18,
   "metadata": {},
   "outputs": [],
   "source": [
    "# Compile model. Stochastic gradient descent with Nesterov accelerated\n",
    "# gradient gives good results for this model\n",
    "\n",
    "sgd = SGD(lr = 0.01, decay = 1e-6, momentum = 0.9, nesterov = True)\n",
    "# print(dir(sgd))\n",
    "# print(sgd.lr)\n",
    "model.compile(loss = 'categorical_crossentropy', optimizer = sgd,\n",
    "              metrics = ['accuracy'])"
   ]
  },
  {
   "cell_type": "markdown",
   "metadata": {},
   "source": [
    "### Fit model"
   ]
  },
  {
   "cell_type": "code",
   "execution_count": 19,
   "metadata": {},
   "outputs": [],
   "source": [
    "# Execute training & construct classification model"
   ]
  },
  {
   "cell_type": "code",
   "execution_count": 20,
   "metadata": {},
   "outputs": [
    {
     "name": "stdout",
     "output_type": "stream",
     "text": [
      "WARNING:tensorflow:From /home/lkarwei/anaconda3/lib/python3.7/site-packages/keras/backend/tensorflow_backend.py:422: The name tf.global_variables is deprecated. Please use tf.compat.v1.global_variables instead.\n",
      "\n",
      "Epoch 1/200\n",
      "28/28 [==============================] - 0s 10ms/step - loss: 1.7224 - accuracy: 0.2143\n",
      "Epoch 2/200\n",
      "28/28 [==============================] - 0s 383us/step - loss: 1.5793 - accuracy: 0.2857\n",
      "Epoch 3/200\n",
      "28/28 [==============================] - 0s 353us/step - loss: 1.4693 - accuracy: 0.4286\n",
      "Epoch 4/200\n",
      "28/28 [==============================] - 0s 392us/step - loss: 1.3824 - accuracy: 0.3929\n",
      "Epoch 5/200\n",
      "28/28 [==============================] - 0s 373us/step - loss: 1.2511 - accuracy: 0.4286\n",
      "Epoch 6/200\n",
      "28/28 [==============================] - 0s 336us/step - loss: 1.1766 - accuracy: 0.4286\n",
      "Epoch 7/200\n",
      "28/28 [==============================] - 0s 324us/step - loss: 1.1112 - accuracy: 0.5357\n",
      "Epoch 8/200\n",
      "28/28 [==============================] - 0s 387us/step - loss: 1.0030 - accuracy: 0.5714\n",
      "Epoch 9/200\n",
      "28/28 [==============================] - 0s 371us/step - loss: 1.0861 - accuracy: 0.6071\n",
      "Epoch 10/200\n",
      "28/28 [==============================] - 0s 466us/step - loss: 0.9387 - accuracy: 0.6071\n",
      "Epoch 11/200\n",
      "28/28 [==============================] - 0s 460us/step - loss: 0.8778 - accuracy: 0.7143\n",
      "Epoch 12/200\n",
      "28/28 [==============================] - 0s 454us/step - loss: 0.8744 - accuracy: 0.6429\n",
      "Epoch 13/200\n",
      "28/28 [==============================] - 0s 432us/step - loss: 0.5978 - accuracy: 0.8929\n",
      "Epoch 14/200\n",
      "28/28 [==============================] - 0s 407us/step - loss: 0.6215 - accuracy: 0.8214\n",
      "Epoch 15/200\n",
      "28/28 [==============================] - 0s 381us/step - loss: 0.6407 - accuracy: 0.8214\n",
      "Epoch 16/200\n",
      "28/28 [==============================] - 0s 391us/step - loss: 0.5268 - accuracy: 0.8929\n",
      "Epoch 17/200\n",
      "28/28 [==============================] - 0s 430us/step - loss: 0.4576 - accuracy: 0.8214\n",
      "Epoch 18/200\n",
      "28/28 [==============================] - 0s 572us/step - loss: 0.3642 - accuracy: 0.8929\n",
      "Epoch 19/200\n",
      "28/28 [==============================] - 0s 462us/step - loss: 0.4056 - accuracy: 0.9286\n",
      "Epoch 20/200\n",
      "28/28 [==============================] - 0s 381us/step - loss: 0.4749 - accuracy: 0.8214\n",
      "Epoch 21/200\n",
      "28/28 [==============================] - 0s 438us/step - loss: 0.4213 - accuracy: 0.9286\n",
      "Epoch 22/200\n",
      "28/28 [==============================] - 0s 382us/step - loss: 0.2591 - accuracy: 0.9286\n",
      "Epoch 23/200\n",
      "28/28 [==============================] - 0s 390us/step - loss: 0.2175 - accuracy: 0.9643\n",
      "Epoch 24/200\n",
      "28/28 [==============================] - 0s 400us/step - loss: 0.2475 - accuracy: 0.9286\n",
      "Epoch 25/200\n",
      "28/28 [==============================] - 0s 399us/step - loss: 0.2705 - accuracy: 0.9286\n",
      "Epoch 26/200\n",
      "28/28 [==============================] - 0s 322us/step - loss: 0.3566 - accuracy: 0.8929\n",
      "Epoch 27/200\n",
      "28/28 [==============================] - 0s 347us/step - loss: 0.1809 - accuracy: 1.0000\n",
      "Epoch 28/200\n",
      "28/28 [==============================] - 0s 373us/step - loss: 0.2584 - accuracy: 0.9643\n",
      "Epoch 29/200\n",
      "28/28 [==============================] - 0s 407us/step - loss: 0.3147 - accuracy: 0.8214\n",
      "Epoch 30/200\n",
      "28/28 [==============================] - 0s 336us/step - loss: 0.2531 - accuracy: 0.9286\n",
      "Epoch 31/200\n",
      "28/28 [==============================] - 0s 419us/step - loss: 0.2109 - accuracy: 0.9286\n",
      "Epoch 32/200\n",
      "28/28 [==============================] - 0s 459us/step - loss: 0.2260 - accuracy: 0.9286\n",
      "Epoch 33/200\n",
      "28/28 [==============================] - 0s 400us/step - loss: 0.1582 - accuracy: 0.9643\n",
      "Epoch 34/200\n",
      "28/28 [==============================] - 0s 404us/step - loss: 0.1773 - accuracy: 1.0000\n",
      "Epoch 35/200\n",
      "28/28 [==============================] - 0s 401us/step - loss: 0.1653 - accuracy: 0.9643\n",
      "Epoch 36/200\n",
      "28/28 [==============================] - 0s 439us/step - loss: 0.1231 - accuracy: 0.9643\n",
      "Epoch 37/200\n",
      "28/28 [==============================] - 0s 459us/step - loss: 0.1664 - accuracy: 1.0000\n",
      "Epoch 38/200\n",
      "28/28 [==============================] - 0s 333us/step - loss: 0.1159 - accuracy: 0.9643\n",
      "Epoch 39/200\n",
      "28/28 [==============================] - 0s 359us/step - loss: 0.1572 - accuracy: 0.9643\n",
      "Epoch 40/200\n",
      "28/28 [==============================] - 0s 543us/step - loss: 0.0945 - accuracy: 1.0000\n",
      "Epoch 41/200\n",
      "28/28 [==============================] - 0s 471us/step - loss: 0.1239 - accuracy: 1.0000\n",
      "Epoch 42/200\n",
      "28/28 [==============================] - 0s 347us/step - loss: 0.1703 - accuracy: 0.9286\n",
      "Epoch 43/200\n",
      "28/28 [==============================] - 0s 400us/step - loss: 0.1531 - accuracy: 0.9643\n",
      "Epoch 44/200\n",
      "28/28 [==============================] - 0s 337us/step - loss: 0.3154 - accuracy: 0.8571\n",
      "Epoch 45/200\n",
      "28/28 [==============================] - 0s 384us/step - loss: 0.2004 - accuracy: 0.9286\n",
      "Epoch 46/200\n",
      "28/28 [==============================] - 0s 346us/step - loss: 0.1174 - accuracy: 0.9286\n",
      "Epoch 47/200\n",
      "28/28 [==============================] - 0s 331us/step - loss: 0.0843 - accuracy: 1.0000\n",
      "Epoch 48/200\n",
      "28/28 [==============================] - 0s 327us/step - loss: 0.0829 - accuracy: 1.0000\n",
      "Epoch 49/200\n",
      "28/28 [==============================] - 0s 310us/step - loss: 0.0379 - accuracy: 1.0000\n",
      "Epoch 50/200\n",
      "28/28 [==============================] - 0s 343us/step - loss: 0.0982 - accuracy: 1.0000\n",
      "Epoch 51/200\n",
      "28/28 [==============================] - 0s 357us/step - loss: 0.1115 - accuracy: 0.9643\n",
      "Epoch 52/200\n",
      "28/28 [==============================] - 0s 359us/step - loss: 0.0452 - accuracy: 1.0000\n",
      "Epoch 53/200\n",
      "28/28 [==============================] - 0s 347us/step - loss: 0.0836 - accuracy: 1.0000\n",
      "Epoch 54/200\n",
      "28/28 [==============================] - 0s 391us/step - loss: 0.0591 - accuracy: 1.0000\n",
      "Epoch 55/200\n",
      "28/28 [==============================] - 0s 386us/step - loss: 0.0337 - accuracy: 1.0000\n",
      "Epoch 56/200\n",
      "28/28 [==============================] - 0s 360us/step - loss: 0.0490 - accuracy: 1.0000\n",
      "Epoch 57/200\n",
      "28/28 [==============================] - 0s 474us/step - loss: 0.1165 - accuracy: 0.9643\n",
      "Epoch 58/200\n",
      "28/28 [==============================] - 0s 367us/step - loss: 0.1728 - accuracy: 0.9286\n",
      "Epoch 59/200\n",
      "28/28 [==============================] - 0s 411us/step - loss: 0.0976 - accuracy: 0.9643\n",
      "Epoch 60/200\n",
      "28/28 [==============================] - 0s 422us/step - loss: 0.0931 - accuracy: 0.9643\n",
      "Epoch 61/200\n",
      "28/28 [==============================] - 0s 291us/step - loss: 0.0383 - accuracy: 1.0000\n",
      "Epoch 62/200\n",
      "28/28 [==============================] - 0s 372us/step - loss: 0.0593 - accuracy: 1.0000\n",
      "Epoch 63/200\n",
      "28/28 [==============================] - 0s 360us/step - loss: 0.0969 - accuracy: 1.0000\n",
      "Epoch 64/200\n",
      "28/28 [==============================] - 0s 404us/step - loss: 0.1004 - accuracy: 1.0000\n",
      "Epoch 65/200\n",
      "28/28 [==============================] - 0s 358us/step - loss: 0.0634 - accuracy: 1.0000\n",
      "Epoch 66/200\n",
      "28/28 [==============================] - 0s 356us/step - loss: 0.0674 - accuracy: 1.0000\n",
      "Epoch 67/200\n",
      "28/28 [==============================] - 0s 379us/step - loss: 0.1506 - accuracy: 0.9286\n",
      "Epoch 68/200\n",
      "28/28 [==============================] - 0s 428us/step - loss: 0.0355 - accuracy: 1.0000\n",
      "Epoch 69/200\n",
      "28/28 [==============================] - 0s 397us/step - loss: 0.1091 - accuracy: 0.9286\n",
      "Epoch 70/200\n",
      "28/28 [==============================] - 0s 358us/step - loss: 0.0353 - accuracy: 1.0000\n",
      "Epoch 71/200\n",
      "28/28 [==============================] - 0s 436us/step - loss: 0.0522 - accuracy: 1.0000\n",
      "Epoch 72/200\n",
      "28/28 [==============================] - 0s 475us/step - loss: 0.0525 - accuracy: 1.0000\n",
      "Epoch 73/200\n",
      "28/28 [==============================] - 0s 400us/step - loss: 0.1118 - accuracy: 0.9643\n",
      "Epoch 74/200\n",
      "28/28 [==============================] - 0s 363us/step - loss: 0.0374 - accuracy: 1.0000\n",
      "Epoch 75/200\n",
      "28/28 [==============================] - 0s 360us/step - loss: 0.1121 - accuracy: 0.9286\n",
      "Epoch 76/200\n",
      "28/28 [==============================] - 0s 409us/step - loss: 0.0076 - accuracy: 1.0000\n",
      "Epoch 77/200\n",
      "28/28 [==============================] - 0s 405us/step - loss: 0.0341 - accuracy: 1.0000\n",
      "Epoch 78/200\n",
      "28/28 [==============================] - 0s 367us/step - loss: 0.0408 - accuracy: 1.0000\n",
      "Epoch 79/200\n",
      "28/28 [==============================] - 0s 356us/step - loss: 0.0523 - accuracy: 1.0000\n",
      "Epoch 80/200\n",
      "28/28 [==============================] - 0s 308us/step - loss: 0.0124 - accuracy: 1.0000\n",
      "Epoch 81/200\n",
      "28/28 [==============================] - 0s 350us/step - loss: 0.0366 - accuracy: 1.0000\n",
      "Epoch 82/200\n",
      "28/28 [==============================] - 0s 337us/step - loss: 0.0444 - accuracy: 1.0000\n",
      "Epoch 83/200\n",
      "28/28 [==============================] - 0s 417us/step - loss: 0.0605 - accuracy: 1.0000\n",
      "Epoch 84/200\n",
      "28/28 [==============================] - 0s 362us/step - loss: 0.1473 - accuracy: 0.9286\n",
      "Epoch 85/200\n",
      "28/28 [==============================] - 0s 385us/step - loss: 0.0239 - accuracy: 1.0000\n",
      "Epoch 86/200\n",
      "28/28 [==============================] - 0s 413us/step - loss: 0.1037 - accuracy: 0.9643\n",
      "Epoch 87/200\n",
      "28/28 [==============================] - 0s 407us/step - loss: 0.0385 - accuracy: 1.0000\n",
      "Epoch 88/200\n",
      "28/28 [==============================] - 0s 411us/step - loss: 0.0250 - accuracy: 1.0000\n",
      "Epoch 89/200\n",
      "28/28 [==============================] - 0s 370us/step - loss: 0.0230 - accuracy: 1.0000\n",
      "Epoch 90/200\n",
      "28/28 [==============================] - 0s 410us/step - loss: 0.0286 - accuracy: 1.0000\n",
      "Epoch 91/200\n",
      "28/28 [==============================] - 0s 338us/step - loss: 0.0277 - accuracy: 1.0000\n",
      "Epoch 92/200\n",
      "28/28 [==============================] - 0s 387us/step - loss: 0.0590 - accuracy: 1.0000\n",
      "Epoch 93/200\n",
      "28/28 [==============================] - 0s 412us/step - loss: 0.0848 - accuracy: 0.9286\n",
      "Epoch 94/200\n",
      "28/28 [==============================] - 0s 415us/step - loss: 0.0446 - accuracy: 1.0000\n",
      "Epoch 95/200\n",
      "28/28 [==============================] - 0s 357us/step - loss: 0.0359 - accuracy: 1.0000\n",
      "Epoch 96/200\n",
      "28/28 [==============================] - 0s 434us/step - loss: 0.0412 - accuracy: 1.0000\n",
      "Epoch 97/200\n",
      "28/28 [==============================] - 0s 405us/step - loss: 0.0278 - accuracy: 1.0000\n",
      "Epoch 98/200\n",
      "28/28 [==============================] - 0s 300us/step - loss: 0.0416 - accuracy: 1.0000\n",
      "Epoch 99/200\n",
      "28/28 [==============================] - 0s 336us/step - loss: 0.0265 - accuracy: 1.0000\n",
      "Epoch 100/200\n",
      "28/28 [==============================] - 0s 366us/step - loss: 0.0134 - accuracy: 1.0000\n",
      "Epoch 101/200\n",
      "28/28 [==============================] - 0s 465us/step - loss: 0.0271 - accuracy: 1.0000\n",
      "Epoch 102/200\n",
      "28/28 [==============================] - 0s 314us/step - loss: 0.0949 - accuracy: 0.9286\n",
      "Epoch 103/200\n",
      "28/28 [==============================] - 0s 353us/step - loss: 0.0212 - accuracy: 1.0000\n",
      "Epoch 104/200\n",
      "28/28 [==============================] - 0s 372us/step - loss: 0.0455 - accuracy: 1.0000\n",
      "Epoch 105/200\n",
      "28/28 [==============================] - 0s 312us/step - loss: 0.0106 - accuracy: 1.0000\n",
      "Epoch 106/200\n",
      "28/28 [==============================] - 0s 354us/step - loss: 0.0115 - accuracy: 1.0000\n",
      "Epoch 107/200\n",
      "28/28 [==============================] - 0s 353us/step - loss: 0.0277 - accuracy: 1.0000\n",
      "Epoch 108/200\n",
      "28/28 [==============================] - 0s 390us/step - loss: 0.0345 - accuracy: 1.0000\n",
      "Epoch 109/200\n",
      "28/28 [==============================] - 0s 352us/step - loss: 0.0143 - accuracy: 1.0000\n",
      "Epoch 110/200\n",
      "28/28 [==============================] - 0s 331us/step - loss: 0.0173 - accuracy: 1.0000\n",
      "Epoch 111/200\n",
      "28/28 [==============================] - 0s 308us/step - loss: 0.0190 - accuracy: 1.0000\n",
      "Epoch 112/200\n",
      "28/28 [==============================] - 0s 308us/step - loss: 0.0238 - accuracy: 1.0000\n",
      "Epoch 113/200\n",
      "28/28 [==============================] - 0s 370us/step - loss: 0.0126 - accuracy: 1.0000\n",
      "Epoch 114/200\n",
      "28/28 [==============================] - 0s 396us/step - loss: 0.0161 - accuracy: 1.0000\n",
      "Epoch 115/200\n",
      "28/28 [==============================] - 0s 324us/step - loss: 0.0041 - accuracy: 1.0000\n",
      "Epoch 116/200\n",
      "28/28 [==============================] - 0s 573us/step - loss: 0.0143 - accuracy: 1.0000\n",
      "Epoch 117/200\n",
      "28/28 [==============================] - 0s 401us/step - loss: 0.0133 - accuracy: 1.0000\n",
      "Epoch 118/200\n",
      "28/28 [==============================] - 0s 361us/step - loss: 0.0238 - accuracy: 1.0000\n",
      "Epoch 119/200\n",
      "28/28 [==============================] - 0s 351us/step - loss: 0.0483 - accuracy: 1.0000\n",
      "Epoch 120/200\n",
      "28/28 [==============================] - 0s 313us/step - loss: 0.0052 - accuracy: 1.0000\n",
      "Epoch 121/200\n",
      "28/28 [==============================] - 0s 369us/step - loss: 0.0135 - accuracy: 1.0000\n",
      "Epoch 122/200\n",
      "28/28 [==============================] - 0s 352us/step - loss: 0.0086 - accuracy: 1.0000\n",
      "Epoch 123/200\n",
      "28/28 [==============================] - 0s 351us/step - loss: 0.0111 - accuracy: 1.0000\n",
      "Epoch 124/200\n",
      "28/28 [==============================] - 0s 332us/step - loss: 0.0170 - accuracy: 1.0000\n",
      "Epoch 125/200\n",
      "28/28 [==============================] - 0s 321us/step - loss: 0.0822 - accuracy: 0.9643\n",
      "Epoch 126/200\n",
      "28/28 [==============================] - 0s 373us/step - loss: 0.0142 - accuracy: 1.0000\n",
      "Epoch 127/200\n",
      "28/28 [==============================] - 0s 416us/step - loss: 0.0107 - accuracy: 1.0000\n",
      "Epoch 128/200\n",
      "28/28 [==============================] - 0s 392us/step - loss: 0.0038 - accuracy: 1.0000\n",
      "Epoch 129/200\n",
      "28/28 [==============================] - 0s 346us/step - loss: 0.0119 - accuracy: 1.0000\n",
      "Epoch 130/200\n",
      "28/28 [==============================] - 0s 405us/step - loss: 0.0245 - accuracy: 1.0000\n",
      "Epoch 131/200\n",
      "28/28 [==============================] - 0s 452us/step - loss: 0.0086 - accuracy: 1.0000\n",
      "Epoch 132/200\n",
      "28/28 [==============================] - 0s 450us/step - loss: 0.0320 - accuracy: 1.0000\n",
      "Epoch 133/200\n",
      "28/28 [==============================] - 0s 414us/step - loss: 0.0059 - accuracy: 1.0000\n",
      "Epoch 134/200\n",
      "28/28 [==============================] - 0s 378us/step - loss: 0.0255 - accuracy: 1.0000\n",
      "Epoch 135/200\n",
      "28/28 [==============================] - 0s 349us/step - loss: 0.0144 - accuracy: 1.0000\n",
      "Epoch 136/200\n",
      "28/28 [==============================] - 0s 389us/step - loss: 0.0365 - accuracy: 1.0000\n",
      "Epoch 137/200\n",
      "28/28 [==============================] - 0s 405us/step - loss: 0.0599 - accuracy: 1.0000\n",
      "Epoch 138/200\n",
      "28/28 [==============================] - 0s 369us/step - loss: 0.0108 - accuracy: 1.0000\n",
      "Epoch 139/200\n",
      "28/28 [==============================] - 0s 513us/step - loss: 0.0332 - accuracy: 1.0000\n",
      "Epoch 140/200\n",
      "28/28 [==============================] - 0s 394us/step - loss: 0.0125 - accuracy: 1.0000\n",
      "Epoch 141/200\n",
      "28/28 [==============================] - 0s 415us/step - loss: 0.0398 - accuracy: 0.9643\n",
      "Epoch 142/200\n",
      "28/28 [==============================] - 0s 304us/step - loss: 0.0075 - accuracy: 1.0000\n",
      "Epoch 143/200\n",
      "28/28 [==============================] - 0s 415us/step - loss: 0.0091 - accuracy: 1.0000\n",
      "Epoch 144/200\n",
      "28/28 [==============================] - 0s 394us/step - loss: 0.0450 - accuracy: 1.0000\n",
      "Epoch 145/200\n",
      "28/28 [==============================] - 0s 359us/step - loss: 0.0289 - accuracy: 1.0000\n",
      "Epoch 146/200\n",
      "28/28 [==============================] - 0s 321us/step - loss: 0.0289 - accuracy: 1.0000\n",
      "Epoch 147/200\n",
      "28/28 [==============================] - 0s 312us/step - loss: 0.0036 - accuracy: 1.0000\n",
      "Epoch 148/200\n",
      "28/28 [==============================] - 0s 390us/step - loss: 0.0072 - accuracy: 1.0000\n",
      "Epoch 149/200\n",
      "28/28 [==============================] - 0s 356us/step - loss: 0.0097 - accuracy: 1.0000\n",
      "Epoch 150/200\n",
      "28/28 [==============================] - 0s 349us/step - loss: 0.0164 - accuracy: 1.0000\n",
      "Epoch 151/200\n",
      "28/28 [==============================] - 0s 375us/step - loss: 0.0064 - accuracy: 1.0000\n",
      "Epoch 152/200\n",
      "28/28 [==============================] - 0s 384us/step - loss: 0.0042 - accuracy: 1.0000\n",
      "Epoch 153/200\n",
      "28/28 [==============================] - 0s 415us/step - loss: 0.0140 - accuracy: 1.0000\n",
      "Epoch 154/200\n",
      "28/28 [==============================] - 0s 408us/step - loss: 0.0172 - accuracy: 1.0000\n",
      "Epoch 155/200\n",
      "28/28 [==============================] - 0s 364us/step - loss: 0.0475 - accuracy: 1.0000\n",
      "Epoch 156/200\n",
      "28/28 [==============================] - 0s 369us/step - loss: 0.0535 - accuracy: 0.9643\n",
      "Epoch 157/200\n",
      "28/28 [==============================] - 0s 364us/step - loss: 0.0174 - accuracy: 1.0000\n",
      "Epoch 158/200\n"
     ]
    },
    {
     "name": "stdout",
     "output_type": "stream",
     "text": [
      "28/28 [==============================] - 0s 409us/step - loss: 0.0066 - accuracy: 1.0000\n",
      "Epoch 159/200\n",
      "28/28 [==============================] - 0s 349us/step - loss: 0.0021 - accuracy: 1.0000\n",
      "Epoch 160/200\n",
      "28/28 [==============================] - 0s 438us/step - loss: 0.0020 - accuracy: 1.0000\n",
      "Epoch 161/200\n",
      "28/28 [==============================] - 0s 367us/step - loss: 0.0090 - accuracy: 1.0000\n",
      "Epoch 162/200\n",
      "28/28 [==============================] - 0s 406us/step - loss: 0.0079 - accuracy: 1.0000\n",
      "Epoch 163/200\n",
      "28/28 [==============================] - 0s 396us/step - loss: 6.4837e-04 - accuracy: 1.0000\n",
      "Epoch 164/200\n",
      "28/28 [==============================] - 0s 440us/step - loss: 0.0031 - accuracy: 1.0000\n",
      "Epoch 165/200\n",
      "28/28 [==============================] - 0s 413us/step - loss: 0.0014 - accuracy: 1.0000\n",
      "Epoch 166/200\n",
      "28/28 [==============================] - 0s 400us/step - loss: 0.0366 - accuracy: 1.0000\n",
      "Epoch 167/200\n",
      "28/28 [==============================] - 0s 411us/step - loss: 0.0058 - accuracy: 1.0000\n",
      "Epoch 168/200\n",
      "28/28 [==============================] - 0s 401us/step - loss: 0.0784 - accuracy: 0.9643\n",
      "Epoch 169/200\n",
      "28/28 [==============================] - 0s 385us/step - loss: 0.0056 - accuracy: 1.0000\n",
      "Epoch 170/200\n",
      "28/28 [==============================] - 0s 348us/step - loss: 0.0164 - accuracy: 1.0000\n",
      "Epoch 171/200\n",
      "28/28 [==============================] - 0s 372us/step - loss: 0.0255 - accuracy: 1.0000\n",
      "Epoch 172/200\n",
      "28/28 [==============================] - 0s 351us/step - loss: 0.0248 - accuracy: 1.0000\n",
      "Epoch 173/200\n",
      "28/28 [==============================] - 0s 388us/step - loss: 0.0185 - accuracy: 1.0000\n",
      "Epoch 174/200\n",
      "28/28 [==============================] - 0s 384us/step - loss: 0.0070 - accuracy: 1.0000\n",
      "Epoch 175/200\n",
      "28/28 [==============================] - 0s 330us/step - loss: 0.0127 - accuracy: 1.0000\n",
      "Epoch 176/200\n",
      "28/28 [==============================] - 0s 368us/step - loss: 0.0074 - accuracy: 1.0000\n",
      "Epoch 177/200\n",
      "28/28 [==============================] - 0s 354us/step - loss: 0.0363 - accuracy: 1.0000\n",
      "Epoch 178/200\n",
      "28/28 [==============================] - 0s 393us/step - loss: 0.0170 - accuracy: 1.0000\n",
      "Epoch 179/200\n",
      "28/28 [==============================] - 0s 393us/step - loss: 0.0089 - accuracy: 1.0000\n",
      "Epoch 180/200\n",
      "28/28 [==============================] - 0s 388us/step - loss: 0.0019 - accuracy: 1.0000\n",
      "Epoch 181/200\n",
      "28/28 [==============================] - 0s 370us/step - loss: 0.0154 - accuracy: 1.0000\n",
      "Epoch 182/200\n",
      "28/28 [==============================] - 0s 397us/step - loss: 0.0117 - accuracy: 1.0000\n",
      "Epoch 183/200\n",
      "28/28 [==============================] - 0s 417us/step - loss: 0.0034 - accuracy: 1.0000\n",
      "Epoch 184/200\n",
      "28/28 [==============================] - 0s 368us/step - loss: 0.0279 - accuracy: 1.0000\n",
      "Epoch 185/200\n",
      "28/28 [==============================] - 0s 439us/step - loss: 0.0290 - accuracy: 1.0000\n",
      "Epoch 186/200\n",
      "28/28 [==============================] - 0s 374us/step - loss: 0.0117 - accuracy: 1.0000\n",
      "Epoch 187/200\n",
      "28/28 [==============================] - 0s 350us/step - loss: 0.0207 - accuracy: 1.0000\n",
      "Epoch 188/200\n",
      "28/28 [==============================] - 0s 373us/step - loss: 0.0177 - accuracy: 1.0000\n",
      "Epoch 189/200\n",
      "28/28 [==============================] - 0s 366us/step - loss: 0.0070 - accuracy: 1.0000\n",
      "Epoch 190/200\n",
      "28/28 [==============================] - 0s 394us/step - loss: 0.0102 - accuracy: 1.0000\n",
      "Epoch 191/200\n",
      "28/28 [==============================] - 0s 387us/step - loss: 0.0017 - accuracy: 1.0000\n",
      "Epoch 192/200\n",
      "28/28 [==============================] - 0s 371us/step - loss: 0.0130 - accuracy: 1.0000\n",
      "Epoch 193/200\n",
      "28/28 [==============================] - 0s 378us/step - loss: 0.0217 - accuracy: 1.0000\n",
      "Epoch 194/200\n",
      "28/28 [==============================] - 0s 413us/step - loss: 0.0202 - accuracy: 1.0000\n",
      "Epoch 195/200\n",
      "28/28 [==============================] - 0s 377us/step - loss: 0.0034 - accuracy: 1.0000\n",
      "Epoch 196/200\n",
      "28/28 [==============================] - 0s 366us/step - loss: 0.0684 - accuracy: 0.9643\n",
      "Epoch 197/200\n",
      "28/28 [==============================] - 0s 465us/step - loss: 0.0092 - accuracy: 1.0000\n",
      "Epoch 198/200\n",
      "28/28 [==============================] - 0s 383us/step - loss: 0.0100 - accuracy: 1.0000\n",
      "Epoch 199/200\n",
      "28/28 [==============================] - 0s 316us/step - loss: 0.0016 - accuracy: 1.0000\n",
      "Epoch 200/200\n",
      "28/28 [==============================] - 0s 305us/step - loss: 0.0026 - accuracy: 1.0000\n"
     ]
    },
    {
     "data": {
      "text/plain": [
       "<keras.callbacks.callbacks.History at 0x7fa324fe6a20>"
      ]
     },
     "execution_count": 20,
     "metadata": {},
     "output_type": "execute_result"
    }
   ],
   "source": [
    "# Fit the model\n",
    "# Epochs means iterations\n",
    "model.fit(np.array(train_x), np.array(train_y), epochs = 200,\n",
    "          batch_size = 5, verbose = 1)"
   ]
  },
  {
   "cell_type": "markdown",
   "metadata": {},
   "source": [
    "### Define helper functions"
   ]
  },
  {
   "cell_type": "code",
   "execution_count": 21,
   "metadata": {},
   "outputs": [],
   "source": [
    "def clean_up_sentence(sentence):\n",
    "    # tokenize the pattern - split words into arr\n",
    "    sentence_words = nltk.word_tokenize(sentence)\n",
    "    # stem ea word - create short form for word\n",
    "    sentence_words = [stemmer.stem(word.lower()) for word in sentence_words]\n",
    "    return sentence_words"
   ]
  },
  {
   "cell_type": "code",
   "execution_count": 22,
   "metadata": {},
   "outputs": [],
   "source": [
    "# Translate user sentence into bag of words with arr 0/1\n",
    "# 0 or 1 for ea word in bag that exists in the sentence\n",
    "def bow(sentence, words, show_details = True):\n",
    "    # tokenize the pattern\n",
    "    sentence_words = clean_up_sentence(sentence)\n",
    "    # Initialise bag of words - matrix of N words, vocab matrix\n",
    "    bag = [0] * len(words)\n",
    "    \n",
    "    for s in sentence_words:\n",
    "        for i, w in enumerate(words):\n",
    "            if w == s:\n",
    "                # assign 1 if current word in vocab position\n",
    "                bag[i] = 1\n",
    "                if show_details:\n",
    "                    print(f\"Found in bag: {w}\")\n",
    "    \n",
    "    return np.array(bag)"
   ]
  },
  {
   "cell_type": "markdown",
   "metadata": {},
   "source": [
    "### Example translating sentence into bag of words"
   ]
  },
  {
   "cell_type": "code",
   "execution_count": 24,
   "metadata": {},
   "outputs": [
    {
     "name": "stdout",
     "output_type": "stream",
     "text": [
      "Found in bag: what\n",
      "Found in bag: is\n",
      "Found in bag: cca\n",
      "[0 0 0 0 0 0 1 0 0 0 0 0 0 0 0 0 0 0 0 0 0 0 0 0 0 0 1 0 0 0 0 0 0 0 0 0 0\n",
      " 0 0 0 0 0 0 0 0 1 0 0 0]\n",
      "['inquire_cca_facilities', 'inquire_cca_general', 'inquire_cca_grades', 'inquire_cca_list', 'inquire_cca_sfl']\n"
     ]
    }
   ],
   "source": [
    "p = bow(\"what is cca\", words)\n",
    "print(p)\n",
    "print(classes)"
   ]
  },
  {
   "cell_type": "code",
   "execution_count": 34,
   "metadata": {},
   "outputs": [
    {
     "data": {
      "text/plain": [
       "'\\nGood practice to save trained model into pickle file to reuse to publish\\nthrough Flask REST API\\n'"
      ]
     },
     "execution_count": 34,
     "metadata": {},
     "output_type": "execute_result"
    }
   ],
   "source": [
    "'''\n",
    "Good practice to save trained model into pickle file to reuse to publish\n",
    "through Flask REST API\n",
    "'''"
   ]
  },
  {
   "cell_type": "code",
   "execution_count": 35,
   "metadata": {},
   "outputs": [
    {
     "ename": "NameError",
     "evalue": "name 'tf' is not defined",
     "output_type": "error",
     "traceback": [
      "\u001b[0;31m---------------------------------------------------------------------------\u001b[0m",
      "\u001b[0;31mNameError\u001b[0m                                 Traceback (most recent call last)",
      "\u001b[0;32m<ipython-input-35-e185e073568c>\u001b[0m in \u001b[0;36m<module>\u001b[0;34m\u001b[0m\n\u001b[1;32m      1\u001b[0m \u001b[0;31m# Use pickle to load in pre-trained model\u001b[0m\u001b[0;34m\u001b[0m\u001b[0;34m\u001b[0m\u001b[0;34m\u001b[0m\u001b[0m\n\u001b[1;32m      2\u001b[0m \u001b[0;32mglobal\u001b[0m \u001b[0mgraph\u001b[0m\u001b[0;34m\u001b[0m\u001b[0;34m\u001b[0m\u001b[0m\n\u001b[0;32m----> 3\u001b[0;31m \u001b[0mgraph\u001b[0m \u001b[0;34m=\u001b[0m \u001b[0mtf\u001b[0m\u001b[0;34m.\u001b[0m\u001b[0mget_default_graph\u001b[0m\u001b[0;34m(\u001b[0m\u001b[0;34m)\u001b[0m\u001b[0;34m\u001b[0m\u001b[0;34m\u001b[0m\u001b[0m\n\u001b[0m\u001b[1;32m      4\u001b[0m \u001b[0;34m\u001b[0m\u001b[0m\n\u001b[1;32m      5\u001b[0m \u001b[0;32mwith\u001b[0m \u001b[0mopen\u001b[0m\u001b[0;34m(\u001b[0m\u001b[0;34mf\"katana-assistant-model.pkl\"\u001b[0m\u001b[0;34m,\u001b[0m \u001b[0;34m'rb'\u001b[0m\u001b[0;34m)\u001b[0m \u001b[0;32mas\u001b[0m \u001b[0mf\u001b[0m\u001b[0;34m:\u001b[0m\u001b[0;34m\u001b[0m\u001b[0;34m\u001b[0m\u001b[0m\n",
      "\u001b[0;31mNameError\u001b[0m: name 'tf' is not defined"
     ]
    }
   ],
   "source": [
    "# Use pickle to load in pre-trained model\n",
    "global graph\n",
    "graph = tf.get_default_graph()\n",
    "\n",
    "with open(f\"katana-assistant-model.pkl\", 'rb') as f:\n",
    "    model = pickle.load(f)"
   ]
  },
  {
   "cell_type": "code",
   "execution_count": 36,
   "metadata": {},
   "outputs": [
    {
     "data": {
      "text/plain": [
       "'\\nbefore publishing model through Flask REST API, always good to run extra test\\nuse model.predict to classify user input & based on calculated\\nprobability return intent (multiple intents can be returned)\\n'"
      ]
     },
     "execution_count": 36,
     "metadata": {},
     "output_type": "execute_result"
    }
   ],
   "source": [
    "'''\n",
    "before publishing model through Flask REST API, always good to run extra test\n",
    "use model.predict to classify user input & based on calculated\n",
    "probability return intent (multiple intents can be returned)\n",
    "'''"
   ]
  },
  {
   "cell_type": "code",
   "execution_count": 50,
   "metadata": {},
   "outputs": [],
   "source": [
    "def classify_local(sentence):\n",
    "    ERROR_THRESHOLD = 0.25\n",
    "    \n",
    "    # generate probabilities from model\n",
    "    input_data = pd.DataFrame([bow(sentence, words)], dtype = float,\n",
    "                              index = ['input'])\n",
    "    print([input_data])\n",
    "    \n",
    "    results = model.predict([input_data])[0]\n",
    "    # filter predictions below a threshold & provide intent index\n",
    "    \n",
    "    for i, r in enumerate(results):\n",
    "      print(i)\n",
    "      print(r)\n",
    "      print(r > ERROR_THRESHOLD)\n",
    "      print()\n",
    "    \n",
    "    results = [[i, r] for i, r in enumerate(results) if r > ERROR_THRESHOLD]\n",
    "    # sort by strength of probability\n",
    "    results.sort(key = lambda x: x[1], reverse = True)\n",
    "\n",
    "    \n",
    "    return_list = []\n",
    "    for r in results:\n",
    "        # print(r)\n",
    "        return_list.append((classes[r[0]], str(r[1])))\n",
    "    # return tuple of intent & probability\n",
    "    return return_list"
   ]
  },
  {
   "cell_type": "code",
   "execution_count": 51,
   "metadata": {},
   "outputs": [
    {
     "name": "stdout",
     "output_type": "stream",
     "text": [
      "Found in bag: how\n",
      "Found in bag: to\n",
      "Found in bag: cca\n",
      "Found in bag: point\n",
      "[        0    1    2    3    4    5    6    7    8    9   ...   39   40   41  \\\n",
      "input  0.0  0.0  0.0  0.0  0.0  0.0  1.0  0.0  0.0  0.0  ...  0.0  0.0  0.0   \n",
      "\n",
      "        42   43   44   45   46   47   48  \n",
      "input  0.0  1.0  0.0  0.0  0.0  0.0  0.0  \n",
      "\n",
      "[1 rows x 49 columns]]\n",
      "0\n",
      "5.9529964e-05\n",
      "False\n",
      "\n",
      "1\n",
      "0.05846448\n",
      "False\n",
      "\n",
      "2\n",
      "0.9407927\n",
      "True\n",
      "\n",
      "3\n",
      "0.0006276887\n",
      "False\n",
      "\n",
      "4\n",
      "5.565969e-05\n",
      "False\n",
      "\n"
     ]
    },
    {
     "data": {
      "text/plain": [
       "[('inquire_cca_grades', '0.9407927')]"
      ]
     },
     "execution_count": 51,
     "metadata": {},
     "output_type": "execute_result"
    }
   ],
   "source": [
    "classify_local('how to check cca points')"
   ]
  },
  {
   "cell_type": "markdown",
   "metadata": {},
   "source": [
    "### Publish same function through REST endpoint"
   ]
  },
  {
   "cell_type": "code",
   "execution_count": null,
   "metadata": {},
   "outputs": [],
   "source": []
  }
 ],
 "metadata": {
  "kernelspec": {
   "display_name": "Python 3",
   "language": "python",
   "name": "python3"
  },
  "language_info": {
   "codemirror_mode": {
    "name": "ipython",
    "version": 3
   },
   "file_extension": ".py",
   "mimetype": "text/x-python",
   "name": "python",
   "nbconvert_exporter": "python",
   "pygments_lexer": "ipython3",
   "version": "3.7.3"
  }
 },
 "nbformat": 4,
 "nbformat_minor": 2
}

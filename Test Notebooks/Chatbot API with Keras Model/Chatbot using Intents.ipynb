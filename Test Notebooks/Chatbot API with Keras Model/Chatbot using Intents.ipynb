{
 "cells": [
  {
   "cell_type": "markdown",
   "metadata": {},
   "source": [
    "# <font color='cyan'>Chatbot API with Keras Model</font>"
   ]
  },
  {
   "cell_type": "markdown",
   "metadata": {},
   "source": [
    "### Main challenges:\n",
    "- Classify user input to recognise intent\n",
    "- keep context"
   ]
  },
  {
   "cell_type": "code",
   "execution_count": 1,
   "metadata": {},
   "outputs": [],
   "source": [
    "# Keras deep learning library to build classification model\n",
    "# Lancaster stemming library used to collapse distinct word forms\n",
    "import nltk\n",
    "from nltk.stem.lancaster import LancasterStemmer\n",
    "stemmer = LancasterStemmer()"
   ]
  },
  {
   "cell_type": "code",
   "execution_count": 2,
   "metadata": {},
   "outputs": [
    {
     "name": "stderr",
     "output_type": "stream",
     "text": [
      "Using TensorFlow backend.\n"
     ]
    }
   ],
   "source": [
    "# things we need for Tensorflow\n",
    "import numpy as np\n",
    "from keras.models import Sequential\n",
    "from keras.layers import Dense, Activation, Dropout\n",
    "from keras.optimizers import SGD\n",
    "import pandas as pd\n",
    "import pickle\n",
    "import random"
   ]
  },
  {
   "cell_type": "code",
   "execution_count": 3,
   "metadata": {},
   "outputs": [
    {
     "data": {
      "text/plain": [
       "'\\nChatbot intents & patterns to learn defined in a plain JSON file\\nClassification model can be created for small vocabulary\\nNeed to build vocabulary > patterns processed\\neach word stemmed to produce generic root > help cover more combi for inputs\\n'"
      ]
     },
     "execution_count": 3,
     "metadata": {},
     "output_type": "execute_result"
    }
   ],
   "source": [
    "'''\n",
    "Chatbot intents & patterns to learn defined in a plain JSON file\n",
    "Classification model can be created for small vocabulary\n",
    "Need to build vocabulary > patterns processed\n",
    "each word stemmed to produce generic root > help cover more combi for inputs\n",
    "'''"
   ]
  },
  {
   "cell_type": "markdown",
   "metadata": {},
   "source": [
    "### Read the JSON file"
   ]
  },
  {
   "cell_type": "code",
   "execution_count": 4,
   "metadata": {},
   "outputs": [],
   "source": [
    "import json\n",
    "\n",
    "with open('chat_intents.json') as intent_file:\n",
    "    intents = json.load(intent_file)"
   ]
  },
  {
   "cell_type": "code",
   "execution_count": 5,
   "metadata": {},
   "outputs": [
    {
     "name": "stderr",
     "output_type": "stream",
     "text": [
      "[nltk_data] Downloading package punkt to /home/asienwald/nltk_data...\n",
      "[nltk_data]   Package punkt is already up-to-date!\n"
     ]
    },
    {
     "data": {
      "text/plain": [
       "True"
      ]
     },
     "execution_count": 5,
     "metadata": {},
     "output_type": "execute_result"
    }
   ],
   "source": [
    "nltk.download(\"punkt\")"
   ]
  },
  {
   "cell_type": "code",
   "execution_count": 6,
   "metadata": {},
   "outputs": [
    {
     "name": "stdout",
     "output_type": "stream",
     "text": [
      "58 documents [(['are', 'cca', 'compulsory'], 'cca_compulsory'), (['do', 'i', 'need', 'to', 'join', 'a', 'cca'], 'cca_compulsory'), (['can', 'I', 'not', 'join', 'a', 'club'], 'cca_compulsory'), (['do', 'i', 'have', 'to', 'join', 'a', 'cca'], 'cca_compulsory'), (['how', 'do', 'i', 'apply', 'for', 'a', 'cca'], 'cca_application'), (['how', 'to', 'join', 'cca'], 'cca_application'), (['register', 'for', 'a', 'cca'], 'cca_application'), (['quit', 'cca'], 'cca_quit'), (['leave', 'my', 'club', 'or', 'cca'], 'cca_quit'), (['retire', 'from', 'my', 'cca'], 'cca_quit'), (['how', 'to', 'create', 'cca'], 'cca_creation'), (['make', 'new', 'cca'], 'cca_creation'), (['start', 'a', 'cca'], 'cca_creation'), (['register', 'for', 'a', 'new', 'cca', 'or', 'club'], 'cca_creation'), (['benefits', 'of', 'cca'], 'cca_benefits'), (['why', 'do', 'i', 'need', 'to', 'join', 'a', 'cca'], 'cca_benefits'), (['is', 'cca', 'important'], 'cca_benefits'), (['what', 'ccas', 'are', 'there'], 'cca_list'), (['what', 'cca', 'do', 'you', 'have'], 'cca_list'), (['do', 'you', 'have', 'a', 'specific', 'cca', 'or', 'club'], 'cca_list'), (['what', 'ccas'], 'cca_list'), (['what', 'clubs'], 'cca_list'), (['what', 'are', 'cca', 'points'], 'cca_points_about'), (['what', 'is', 'the', 'grading', 'system', 'for'], 'cca_points_about'), (['what', 'are', 'cca', 'grades'], 'cca_points_about'), (['what', 'is', 'gold', ',', 'silver', 'or', 'bronze'], 'cca_points_about'), (['how', 'are', 'points', 'awarded'], 'cca_points_how'), (['how', 'will', 'i', 'get', 'my', 'cca', 'grades'], 'cca_points_how'), (['how', 'do', 'i', 'redeem', 'my', 'cca', 'points'], 'cca_points_how'), (['how', 'does', 'grading', 'work'], 'cca_points_how'), (['how', 'are', 'points', 'consolidated'], 'cca_points_how'), (['what', 'cca', 'components', 'are', 'there'], 'cca_components'), (['what', 'kind', 'of', 'points'], 'cca_components'), (['different', 'types', 'of', 'cca', 'points'], 'cca_components'), (['tell', 'me', 'more', 'about', 'each', 'component'], 'cca_components'), (['what', 'is', 'sports', 'for', 'life'], 'sfl_what'), (['sfl'], 'sfl_what'), (['tell', 'me', 'more', 'about', 'sfl'], 'sfl_what'), (['what', 'is', 'sfl', 'pass', 'criteria'], 'sfl_what'), (['how', 'does', 'sfl', 'work'], 'sfl_what'), (['how', 'to', 'register', 'for', 'sfl'], 'sfl_register'), (['sign', 'up', 'for', 'sfl', 'sports', 'for', 'life'], 'sfl_register'), (['join', 'sports', 'for', 'life', 'sfl'], 'sfl_register'), (['what', 'are', 'the', 'modules', 'in', 'sfl'], 'sfl_modules'), (['what', 'sports', 'in', 'sports', 'for', 'life', 'sfl'], 'sfl_modules'), (['list', 'of', 'activities', 'in', 'sfl'], 'sfl_modules'), (['what', 'day', 'is', 'sfl', 'on'], 'sfl_schedule'), (['sfl', 'schedule'], 'sfl_schedule'), (['where', 'is', 'sfl'], 'sfl_schedule'), (['sfl', 'venues'], 'sfl_schedule'), (['what', 'sports', 'facilities', 'in', 'sp'], 'cca_facilities'), (['sports', 'facilities'], 'cca_facilities'), (['courts'], 'cca_facilities'), (['sports', 'venues'], 'cca_facilities'), (['badminton', 'courts'], 'cca_facilities'), (['tennis', 'courts'], 'cca_facilities'), (['basketball', 'court'], 'cca_facilities'), (['football', 'field'], 'cca_facilities')]\n",
      "14 classes ['cca_application', 'cca_benefits', 'cca_components', 'cca_compulsory', 'cca_creation', 'cca_facilities', 'cca_list', 'cca_points_about', 'cca_points_how', 'cca_quit', 'sfl_modules', 'sfl_register', 'sfl_schedule', 'sfl_what']\n",
      "84 unique stemmed words [',', 'a', 'about', 'act', 'apply', 'ar', 'award', 'badminton', 'basketbal', 'benefit', 'bronz', 'can', 'cca', 'club', 'compon', 'compuls', 'consolid', 'court', 'cre', 'criter', 'day', 'diff', 'do', 'doe', 'each', 'facil', 'field', 'footbal', 'for', 'from', 'get', 'gold', 'grad', 'hav', 'how', 'i', 'import', 'in', 'is', 'join', 'kind', 'leav', 'lif', 'list', 'mak', 'me', 'mod', 'mor', 'my', 'nee', 'new', 'not', 'of', 'on', 'or', 'pass', 'point', 'quit', 'redeem', 'reg', 'retir', 'schedule', 'sfl', 'sign', 'silv', 'sp', 'spec', 'sport', 'start', 'system', 'tel', 'ten', 'the', 'ther', 'to', 'typ', 'up', 'venu', 'what', 'wher', 'why', 'wil', 'work', 'you']\n"
     ]
    }
   ],
   "source": [
    "words = []\n",
    "classes = []\n",
    "documents = []\n",
    "ignore_words = ['?']\n",
    "\n",
    "#loop through each sentence in our intents patterns\n",
    "for intent in intents['intents']:\n",
    "    for pattern in intent['patterns']:\n",
    "        # tokenize each word in sentence\n",
    "        w = nltk.word_tokenize(pattern)\n",
    "        \n",
    "        # add to words list\n",
    "        words.extend(w)\n",
    "        \n",
    "        # add documents in corpus\n",
    "        documents.append((w, intent['tag']))\n",
    "        \n",
    "        # add to our classes list\n",
    "        if intent['tag'] not in classes:\n",
    "            classes.append(intent['tag'])\n",
    "\n",
    "# stem & lower ea word & remove dupes\n",
    "words = [stemmer.stem(w.lower()) for w in words if w not in ignore_words]\n",
    "words = sorted(list(set(words)))\n",
    "\n",
    "# sort classes\n",
    "classes = sorted(list(set(classes)))\n",
    "\n",
    "# documents = combination between patterns & intents\n",
    "print(len(documents), 'documents', documents)\n",
    "# classes = intents\n",
    "print(len(classes), \"classes\", classes)\n",
    "# words = all words, vocab\n",
    "print(len(words), \"unique stemmed words\", words)"
   ]
  },
  {
   "cell_type": "code",
   "execution_count": 7,
   "metadata": {},
   "outputs": [
    {
     "data": {
      "text/plain": [
       "\"\\nTraining won't be run based on vocab of words (words meaningless for machine)\\nNeed to translate words into bags of words with arr containing 0/1\\n\\nArr length will be equal to vocab size & 1 set when word from current\\npattern is located in a given position\\n\""
      ]
     },
     "execution_count": 7,
     "metadata": {},
     "output_type": "execute_result"
    }
   ],
   "source": [
    "'''\n",
    "Training won't be run based on vocab of words (words meaningless for machine)\n",
    "Need to translate words into bags of words with arr containing 0/1\n",
    "\n",
    "Arr length will be equal to vocab size & 1 set when word from current\n",
    "pattern is located in a given position\n",
    "'''"
   ]
  },
  {
   "cell_type": "code",
   "execution_count": 8,
   "metadata": {},
   "outputs": [],
   "source": [
    "# create our training data\n",
    "training = []\n",
    "# create an empty array for our output\n",
    "output_empty = [0] * len(classes)"
   ]
  },
  {
   "cell_type": "code",
   "execution_count": 9,
   "metadata": {},
   "outputs": [],
   "source": [
    "# training set, bag of words for ea sentence\n",
    "for doc in documents:\n",
    "    # initialise our bag of words\n",
    "    bag = []\n",
    "    #list tokenized words for the pattern\n",
    "    pattern_words = doc[0]\n",
    "    # stem ea word - create base word to represent related words\n",
    "    # Please read stemming VS lemmatization\n",
    "    pattern_words = [stemmer.stem(word.lower()) for word in pattern_words]\n",
    "    \n",
    "    # create our bag of words arr with 1, if word match found in\n",
    "    # current pattern\n",
    "    for w in words:\n",
    "        bag.append(1) if w in pattern_words else bag.append(0)\n",
    "        \n",
    "    # output is '0' for ea tag & '1' for current tag (for ea pattern)\n",
    "    # output_row is basically the class/intents it falls in\n",
    "    output_row = list(output_empty)\n",
    "    output_row[classes.index(doc[1])] = 1\n",
    "    \n",
    "    training.append([bag, output_row])\n",
    "    \n",
    "    # print(training)"
   ]
  },
  {
   "cell_type": "code",
   "execution_count": 10,
   "metadata": {},
   "outputs": [],
   "source": [
    "# shuffle our features & turn into np.array\n",
    "random.shuffle(training)\n",
    "training = np.array(training)"
   ]
  },
  {
   "cell_type": "code",
   "execution_count": 11,
   "metadata": {},
   "outputs": [],
   "source": [
    "# create train & test lists. X - patterns, Y - intents\n",
    "train_x = list(training[:,0])\n",
    "train_y = list(training[:,1])"
   ]
  },
  {
   "cell_type": "code",
   "execution_count": 12,
   "metadata": {},
   "outputs": [],
   "source": [
    "#with open('model.pickle', 'wb') as f:\n",
    "#  pickle.dump((words, labels, training))"
   ]
  },
  {
   "cell_type": "code",
   "execution_count": 13,
   "metadata": {},
   "outputs": [
    {
     "data": {
      "text/plain": [
       "'\\nTraining data - X (pattern converted into array [0,1,0,1...,0])\\nY (intents converted into arr [1,0,0,0,..,0]), will be single 1 for intents arr\\n\\nModel built on 3 layers\\n\\nClassification output will be multiclass arr > help identify encoded intent\\n\\nUse Softmax activation to produce multiclass classification output\\n(result returns arr of 0/1: [1,0,0...,0] - identifies encoded intent)\\n'"
      ]
     },
     "execution_count": 13,
     "metadata": {},
     "output_type": "execute_result"
    }
   ],
   "source": [
    "'''\n",
    "Training data - X (pattern converted into array [0,1,0,1...,0])\n",
    "Y (intents converted into arr [1,0,0,0,..,0]), will be single 1 for intents arr\n",
    "\n",
    "Model built on 3 layers\n",
    "\n",
    "Classification output will be multiclass arr > help identify encoded intent\n",
    "\n",
    "Use Softmax activation to produce multiclass classification output\n",
    "(result returns arr of 0/1: [1,0,0...,0] - identifies encoded intent)\n",
    "'''"
   ]
  },
  {
   "cell_type": "markdown",
   "metadata": {},
   "source": [
    "## <font color='red'>**NOTE</font> <br>\n",
    "Ok so Cael & Joe, <br>\n",
    "This part below is basically what makes up a Neural network in ML\n",
    "\n",
    "So basically a neural network has different layers in its hidden layer (main layer)\n",
    "that tries to sift out features to identify what is going on and learn\n",
    "\n",
    "In each layer we have number of neurons to help us know what's going on <br>\n",
    "> Simple Eg. When you touch something you have nerves to tell you if you really touched something or not\n",
    "\n",
    "Softmax is the activation function we're using to determine when to trigger these neurons <br>\n",
    "> Eg. Did you really touch something?? How do you know? > Your nerves felt something and sent signals to your brain"
   ]
  },
  {
   "cell_type": "markdown",
   "metadata": {},
   "source": [
    "Input shape = specify shape of your data its dealing with in 1st layer"
   ]
  },
  {
   "cell_type": "code",
   "execution_count": 14,
   "metadata": {},
   "outputs": [],
   "source": [
    "# Create model - 3 layers\n",
    "# 1st layer 128 neurons, 2nd layer 64 neurons & 3rd contains num of neurons\n",
    "# equal to num of intents to predict output intent with softmax\n",
    "\n",
    "model = Sequential()\n",
    "model.add(Dense(128, input_shape = (len(train_x[0]), ), activation = 'relu'))\n",
    "model.add(Dropout(0.5))\n",
    "model.add(Dense(64, activation = 'relu'))\n",
    "model.add(Dropout(0.5))\n",
    "model.add(Dense(len(train_y[0]), activation = 'softmax'))"
   ]
  },
  {
   "cell_type": "markdown",
   "metadata": {},
   "source": [
    "### Compile Keras model with SGD optimiser"
   ]
  },
  {
   "cell_type": "code",
   "execution_count": 15,
   "metadata": {},
   "outputs": [],
   "source": [
    "# Compile model. Stochastic gradient descent with Nesterov accelerated\n",
    "# gradient gives good results for this model\n",
    "\n",
    "sgd = SGD(lr = 0.01, decay = 1e-6, momentum = 0.9, nesterov = True)\n",
    "# print(dir(sgd))\n",
    "# print(sgd.lr)\n",
    "model.compile(loss = 'categorical_crossentropy', optimizer = sgd,\n",
    "              metrics = ['accuracy'])"
   ]
  },
  {
   "cell_type": "markdown",
   "metadata": {},
   "source": [
    "### Fit model"
   ]
  },
  {
   "cell_type": "code",
   "execution_count": 16,
   "metadata": {},
   "outputs": [],
   "source": [
    "# Execute training & construct classification model"
   ]
  },
  {
   "cell_type": "code",
   "execution_count": 17,
   "metadata": {},
   "outputs": [
    {
     "name": "stdout",
     "output_type": "stream",
     "text": [
      "Epoch 1/200\n",
      "58/58 [==============================] - 0s 2ms/step - loss: 2.7052 - accuracy: 0.0690\n",
      "Epoch 2/200\n",
      "58/58 [==============================] - 0s 235us/step - loss: 2.6021 - accuracy: 0.1207\n",
      "Epoch 3/200\n",
      "58/58 [==============================] - 0s 249us/step - loss: 2.5443 - accuracy: 0.1379\n",
      "Epoch 4/200\n",
      "58/58 [==============================] - 0s 239us/step - loss: 2.4814 - accuracy: 0.1897\n",
      "Epoch 5/200\n",
      "58/58 [==============================] - 0s 248us/step - loss: 2.3792 - accuracy: 0.2586\n",
      "Epoch 6/200\n",
      "58/58 [==============================] - 0s 251us/step - loss: 2.3495 - accuracy: 0.2931\n",
      "Epoch 7/200\n",
      "58/58 [==============================] - 0s 265us/step - loss: 2.2385 - accuracy: 0.3966\n",
      "Epoch 8/200\n",
      "58/58 [==============================] - 0s 276us/step - loss: 2.1118 - accuracy: 0.4483\n",
      "Epoch 9/200\n",
      "58/58 [==============================] - 0s 246us/step - loss: 2.0498 - accuracy: 0.4138\n",
      "Epoch 10/200\n",
      "58/58 [==============================] - 0s 252us/step - loss: 1.8128 - accuracy: 0.5517\n",
      "Epoch 11/200\n",
      "58/58 [==============================] - 0s 277us/step - loss: 1.7785 - accuracy: 0.4655\n",
      "Epoch 12/200\n",
      "58/58 [==============================] - 0s 252us/step - loss: 1.7666 - accuracy: 0.3966\n",
      "Epoch 13/200\n",
      "58/58 [==============================] - 0s 255us/step - loss: 1.7162 - accuracy: 0.3966\n",
      "Epoch 14/200\n",
      "58/58 [==============================] - 0s 253us/step - loss: 1.3543 - accuracy: 0.6207\n",
      "Epoch 15/200\n",
      "58/58 [==============================] - 0s 285us/step - loss: 1.4280 - accuracy: 0.5690\n",
      "Epoch 16/200\n",
      "58/58 [==============================] - 0s 268us/step - loss: 1.3020 - accuracy: 0.6207\n",
      "Epoch 17/200\n",
      "58/58 [==============================] - 0s 268us/step - loss: 1.3759 - accuracy: 0.6034\n",
      "Epoch 18/200\n",
      "58/58 [==============================] - 0s 261us/step - loss: 1.1245 - accuracy: 0.6207\n",
      "Epoch 19/200\n",
      "58/58 [==============================] - 0s 257us/step - loss: 1.0456 - accuracy: 0.7069\n",
      "Epoch 20/200\n",
      "58/58 [==============================] - 0s 287us/step - loss: 1.1125 - accuracy: 0.6379\n",
      "Epoch 21/200\n",
      "58/58 [==============================] - 0s 248us/step - loss: 1.1157 - accuracy: 0.6379\n",
      "Epoch 22/200\n",
      "58/58 [==============================] - 0s 252us/step - loss: 0.9656 - accuracy: 0.7069\n",
      "Epoch 23/200\n",
      "58/58 [==============================] - 0s 275us/step - loss: 0.8252 - accuracy: 0.7759\n",
      "Epoch 24/200\n",
      "58/58 [==============================] - 0s 258us/step - loss: 0.7843 - accuracy: 0.8276\n",
      "Epoch 25/200\n",
      "58/58 [==============================] - 0s 234us/step - loss: 0.8057 - accuracy: 0.7586\n",
      "Epoch 26/200\n",
      "58/58 [==============================] - 0s 267us/step - loss: 0.7118 - accuracy: 0.7759\n",
      "Epoch 27/200\n",
      "58/58 [==============================] - 0s 261us/step - loss: 0.8922 - accuracy: 0.7069\n",
      "Epoch 28/200\n",
      "58/58 [==============================] - 0s 234us/step - loss: 0.7037 - accuracy: 0.7931\n",
      "Epoch 29/200\n",
      "58/58 [==============================] - 0s 250us/step - loss: 0.7189 - accuracy: 0.7759\n",
      "Epoch 30/200\n",
      "58/58 [==============================] - 0s 276us/step - loss: 0.6380 - accuracy: 0.7931\n",
      "Epoch 31/200\n",
      "58/58 [==============================] - 0s 227us/step - loss: 0.7948 - accuracy: 0.7241\n",
      "Epoch 32/200\n",
      "58/58 [==============================] - 0s 220us/step - loss: 0.7010 - accuracy: 0.7931\n",
      "Epoch 33/200\n",
      "58/58 [==============================] - 0s 235us/step - loss: 0.5751 - accuracy: 0.8621\n",
      "Epoch 34/200\n",
      "58/58 [==============================] - 0s 199us/step - loss: 0.6212 - accuracy: 0.8103\n",
      "Epoch 35/200\n",
      "58/58 [==============================] - 0s 249us/step - loss: 0.4585 - accuracy: 0.9310\n",
      "Epoch 36/200\n",
      "58/58 [==============================] - 0s 264us/step - loss: 0.3515 - accuracy: 0.9483\n",
      "Epoch 37/200\n",
      "58/58 [==============================] - 0s 234us/step - loss: 0.5082 - accuracy: 0.8276\n",
      "Epoch 38/200\n",
      "58/58 [==============================] - 0s 272us/step - loss: 0.4346 - accuracy: 0.8448\n",
      "Epoch 39/200\n",
      "58/58 [==============================] - 0s 238us/step - loss: 0.4239 - accuracy: 0.8276\n",
      "Epoch 40/200\n",
      "58/58 [==============================] - 0s 246us/step - loss: 0.6349 - accuracy: 0.8103\n",
      "Epoch 41/200\n",
      "58/58 [==============================] - 0s 247us/step - loss: 0.3433 - accuracy: 0.9138\n",
      "Epoch 42/200\n",
      "58/58 [==============================] - 0s 227us/step - loss: 0.4255 - accuracy: 0.8966\n",
      "Epoch 43/200\n",
      "58/58 [==============================] - 0s 228us/step - loss: 0.4232 - accuracy: 0.8621\n",
      "Epoch 44/200\n",
      "58/58 [==============================] - 0s 238us/step - loss: 0.3154 - accuracy: 0.9138\n",
      "Epoch 45/200\n",
      "58/58 [==============================] - 0s 268us/step - loss: 0.3478 - accuracy: 0.8276\n",
      "Epoch 46/200\n",
      "58/58 [==============================] - ETA: 0s - loss: 0.5756 - accuracy: 0.80 - 0s 254us/step - loss: 0.4664 - accuracy: 0.8448\n",
      "Epoch 47/200\n",
      "58/58 [==============================] - 0s 221us/step - loss: 0.3754 - accuracy: 0.9310\n",
      "Epoch 48/200\n",
      "58/58 [==============================] - 0s 252us/step - loss: 0.2621 - accuracy: 0.9483\n",
      "Epoch 49/200\n",
      "58/58 [==============================] - 0s 232us/step - loss: 0.3606 - accuracy: 0.8793\n",
      "Epoch 50/200\n",
      "58/58 [==============================] - 0s 224us/step - loss: 0.3718 - accuracy: 0.8448\n",
      "Epoch 51/200\n",
      "58/58 [==============================] - 0s 260us/step - loss: 0.2601 - accuracy: 0.8793\n",
      "Epoch 52/200\n",
      "58/58 [==============================] - 0s 272us/step - loss: 0.4475 - accuracy: 0.8276\n",
      "Epoch 53/200\n",
      "58/58 [==============================] - 0s 250us/step - loss: 0.2638 - accuracy: 0.9310\n",
      "Epoch 54/200\n",
      "58/58 [==============================] - 0s 282us/step - loss: 0.4455 - accuracy: 0.8103\n",
      "Epoch 55/200\n",
      "58/58 [==============================] - 0s 235us/step - loss: 0.2968 - accuracy: 0.9138\n",
      "Epoch 56/200\n",
      "58/58 [==============================] - 0s 240us/step - loss: 0.3449 - accuracy: 0.8621\n",
      "Epoch 57/200\n",
      "58/58 [==============================] - 0s 270us/step - loss: 0.4589 - accuracy: 0.8448\n",
      "Epoch 58/200\n",
      "58/58 [==============================] - 0s 271us/step - loss: 0.2902 - accuracy: 0.9138\n",
      "Epoch 59/200\n",
      "58/58 [==============================] - 0s 234us/step - loss: 0.3709 - accuracy: 0.9310\n",
      "Epoch 60/200\n",
      "58/58 [==============================] - 0s 214us/step - loss: 0.2556 - accuracy: 0.9310\n",
      "Epoch 61/200\n",
      "58/58 [==============================] - 0s 208us/step - loss: 0.1362 - accuracy: 0.9655\n",
      "Epoch 62/200\n",
      "58/58 [==============================] - 0s 248us/step - loss: 0.1480 - accuracy: 0.9483\n",
      "Epoch 63/200\n",
      "58/58 [==============================] - 0s 261us/step - loss: 0.3107 - accuracy: 0.9138\n",
      "Epoch 64/200\n",
      "58/58 [==============================] - 0s 207us/step - loss: 0.2792 - accuracy: 0.9310\n",
      "Epoch 65/200\n",
      "58/58 [==============================] - 0s 259us/step - loss: 0.1291 - accuracy: 0.9655\n",
      "Epoch 66/200\n",
      "58/58 [==============================] - 0s 222us/step - loss: 0.2309 - accuracy: 0.9483\n",
      "Epoch 67/200\n",
      "58/58 [==============================] - 0s 219us/step - loss: 0.2420 - accuracy: 0.9310\n",
      "Epoch 68/200\n",
      "58/58 [==============================] - 0s 236us/step - loss: 0.1704 - accuracy: 0.9483\n",
      "Epoch 69/200\n",
      "58/58 [==============================] - 0s 195us/step - loss: 0.2441 - accuracy: 0.9138\n",
      "Epoch 70/200\n",
      "58/58 [==============================] - 0s 211us/step - loss: 0.3096 - accuracy: 0.9483\n",
      "Epoch 71/200\n",
      "58/58 [==============================] - 0s 204us/step - loss: 0.1947 - accuracy: 0.9655\n",
      "Epoch 72/200\n",
      "58/58 [==============================] - 0s 212us/step - loss: 0.3656 - accuracy: 0.8793\n",
      "Epoch 73/200\n",
      "58/58 [==============================] - 0s 197us/step - loss: 0.1448 - accuracy: 0.9655\n",
      "Epoch 74/200\n",
      "58/58 [==============================] - 0s 194us/step - loss: 0.2265 - accuracy: 0.9138\n",
      "Epoch 75/200\n",
      "58/58 [==============================] - 0s 196us/step - loss: 0.1443 - accuracy: 0.9655\n",
      "Epoch 76/200\n",
      "58/58 [==============================] - 0s 225us/step - loss: 0.2091 - accuracy: 0.8966\n",
      "Epoch 77/200\n",
      "58/58 [==============================] - 0s 223us/step - loss: 0.1943 - accuracy: 0.9655\n",
      "Epoch 78/200\n",
      "58/58 [==============================] - 0s 199us/step - loss: 0.2406 - accuracy: 0.9310\n",
      "Epoch 79/200\n",
      "58/58 [==============================] - 0s 209us/step - loss: 0.1489 - accuracy: 0.9310\n",
      "Epoch 80/200\n",
      "58/58 [==============================] - 0s 190us/step - loss: 0.1193 - accuracy: 0.9655\n",
      "Epoch 81/200\n"
     ]
    },
    {
     "name": "stdout",
     "output_type": "stream",
     "text": [
      "58/58 [==============================] - 0s 205us/step - loss: 0.1314 - accuracy: 0.9828\n",
      "Epoch 82/200\n",
      "58/58 [==============================] - 0s 210us/step - loss: 0.1358 - accuracy: 0.9310\n",
      "Epoch 83/200\n",
      "58/58 [==============================] - 0s 172us/step - loss: 0.1202 - accuracy: 0.9828\n",
      "Epoch 84/200\n",
      "58/58 [==============================] - 0s 163us/step - loss: 0.1415 - accuracy: 0.9655\n",
      "Epoch 85/200\n",
      "58/58 [==============================] - 0s 180us/step - loss: 0.0946 - accuracy: 0.9828\n",
      "Epoch 86/200\n",
      "58/58 [==============================] - 0s 184us/step - loss: 0.2463 - accuracy: 0.9138\n",
      "Epoch 87/200\n",
      "58/58 [==============================] - 0s 190us/step - loss: 0.1303 - accuracy: 0.9828\n",
      "Epoch 88/200\n",
      "58/58 [==============================] - 0s 212us/step - loss: 0.1236 - accuracy: 0.9828\n",
      "Epoch 89/200\n",
      "58/58 [==============================] - 0s 191us/step - loss: 0.1165 - accuracy: 0.9655\n",
      "Epoch 90/200\n",
      "58/58 [==============================] - 0s 174us/step - loss: 0.1693 - accuracy: 0.9655\n",
      "Epoch 91/200\n",
      "58/58 [==============================] - 0s 178us/step - loss: 0.1629 - accuracy: 0.9483\n",
      "Epoch 92/200\n",
      "58/58 [==============================] - 0s 174us/step - loss: 0.1314 - accuracy: 0.9828\n",
      "Epoch 93/200\n",
      "58/58 [==============================] - 0s 186us/step - loss: 0.1337 - accuracy: 0.9310\n",
      "Epoch 94/200\n",
      "58/58 [==============================] - 0s 179us/step - loss: 0.1155 - accuracy: 0.9828\n",
      "Epoch 95/200\n",
      "58/58 [==============================] - 0s 215us/step - loss: 0.2225 - accuracy: 0.9310\n",
      "Epoch 96/200\n",
      "58/58 [==============================] - 0s 206us/step - loss: 0.2681 - accuracy: 0.8966\n",
      "Epoch 97/200\n",
      "58/58 [==============================] - 0s 198us/step - loss: 0.2162 - accuracy: 0.9483\n",
      "Epoch 98/200\n",
      "58/58 [==============================] - 0s 195us/step - loss: 0.1098 - accuracy: 0.9828\n",
      "Epoch 99/200\n",
      "58/58 [==============================] - 0s 222us/step - loss: 0.2501 - accuracy: 0.9138\n",
      "Epoch 100/200\n",
      "58/58 [==============================] - 0s 224us/step - loss: 0.1264 - accuracy: 0.9655\n",
      "Epoch 101/200\n",
      "58/58 [==============================] - 0s 212us/step - loss: 0.1899 - accuracy: 0.9138\n",
      "Epoch 102/200\n",
      "58/58 [==============================] - 0s 235us/step - loss: 0.1284 - accuracy: 0.9828\n",
      "Epoch 103/200\n",
      "58/58 [==============================] - 0s 215us/step - loss: 0.1009 - accuracy: 0.9828\n",
      "Epoch 104/200\n",
      "58/58 [==============================] - 0s 206us/step - loss: 0.1556 - accuracy: 0.9310\n",
      "Epoch 105/200\n",
      "58/58 [==============================] - 0s 230us/step - loss: 0.0867 - accuracy: 1.0000\n",
      "Epoch 106/200\n",
      "58/58 [==============================] - 0s 231us/step - loss: 0.1907 - accuracy: 0.9138\n",
      "Epoch 107/200\n",
      "58/58 [==============================] - 0s 223us/step - loss: 0.0892 - accuracy: 0.9655\n",
      "Epoch 108/200\n",
      "58/58 [==============================] - 0s 224us/step - loss: 0.1061 - accuracy: 0.9828\n",
      "Epoch 109/200\n",
      "58/58 [==============================] - 0s 190us/step - loss: 0.1016 - accuracy: 0.9483\n",
      "Epoch 110/200\n",
      "58/58 [==============================] - 0s 199us/step - loss: 0.1148 - accuracy: 0.9828\n",
      "Epoch 111/200\n",
      "58/58 [==============================] - 0s 217us/step - loss: 0.1265 - accuracy: 0.9655\n",
      "Epoch 112/200\n",
      "58/58 [==============================] - 0s 205us/step - loss: 0.1697 - accuracy: 0.9483\n",
      "Epoch 113/200\n",
      "58/58 [==============================] - 0s 203us/step - loss: 0.1036 - accuracy: 0.9655\n",
      "Epoch 114/200\n",
      "58/58 [==============================] - 0s 216us/step - loss: 0.0941 - accuracy: 1.0000\n",
      "Epoch 115/200\n",
      "58/58 [==============================] - 0s 210us/step - loss: 0.1693 - accuracy: 0.9483\n",
      "Epoch 116/200\n",
      "58/58 [==============================] - 0s 221us/step - loss: 0.2250 - accuracy: 0.9310\n",
      "Epoch 117/200\n",
      "58/58 [==============================] - 0s 203us/step - loss: 0.1657 - accuracy: 0.9483\n",
      "Epoch 118/200\n",
      "58/58 [==============================] - 0s 202us/step - loss: 0.0949 - accuracy: 0.9655\n",
      "Epoch 119/200\n",
      "58/58 [==============================] - 0s 186us/step - loss: 0.3049 - accuracy: 0.9310\n",
      "Epoch 120/200\n",
      "58/58 [==============================] - 0s 205us/step - loss: 0.1480 - accuracy: 0.9655\n",
      "Epoch 121/200\n",
      "58/58 [==============================] - 0s 200us/step - loss: 0.1074 - accuracy: 0.9483\n",
      "Epoch 122/200\n",
      "58/58 [==============================] - 0s 226us/step - loss: 0.1061 - accuracy: 0.9655\n",
      "Epoch 123/200\n",
      "58/58 [==============================] - 0s 208us/step - loss: 0.0989 - accuracy: 0.9828\n",
      "Epoch 124/200\n",
      "58/58 [==============================] - 0s 204us/step - loss: 0.1023 - accuracy: 1.0000\n",
      "Epoch 125/200\n",
      "58/58 [==============================] - 0s 201us/step - loss: 0.0959 - accuracy: 0.9828\n",
      "Epoch 126/200\n",
      "58/58 [==============================] - 0s 224us/step - loss: 0.1279 - accuracy: 0.9483\n",
      "Epoch 127/200\n",
      "58/58 [==============================] - 0s 224us/step - loss: 0.0576 - accuracy: 0.9828\n",
      "Epoch 128/200\n",
      "58/58 [==============================] - 0s 219us/step - loss: 0.0813 - accuracy: 0.9655\n",
      "Epoch 129/200\n",
      "58/58 [==============================] - 0s 202us/step - loss: 0.1493 - accuracy: 0.9310\n",
      "Epoch 130/200\n",
      "58/58 [==============================] - 0s 210us/step - loss: 0.0711 - accuracy: 0.9828\n",
      "Epoch 131/200\n",
      "58/58 [==============================] - 0s 202us/step - loss: 0.0634 - accuracy: 0.9828\n",
      "Epoch 132/200\n",
      "58/58 [==============================] - 0s 212us/step - loss: 0.0655 - accuracy: 1.0000\n",
      "Epoch 133/200\n",
      "58/58 [==============================] - 0s 215us/step - loss: 0.0749 - accuracy: 0.9655\n",
      "Epoch 134/200\n",
      "58/58 [==============================] - 0s 215us/step - loss: 0.0947 - accuracy: 0.9655\n",
      "Epoch 135/200\n",
      "58/58 [==============================] - 0s 190us/step - loss: 0.1268 - accuracy: 0.9483\n",
      "Epoch 136/200\n",
      "58/58 [==============================] - 0s 205us/step - loss: 0.1527 - accuracy: 0.9483\n",
      "Epoch 137/200\n",
      "58/58 [==============================] - 0s 212us/step - loss: 0.0991 - accuracy: 0.9828\n",
      "Epoch 138/200\n",
      "58/58 [==============================] - 0s 228us/step - loss: 0.1176 - accuracy: 0.9655\n",
      "Epoch 139/200\n",
      "58/58 [==============================] - 0s 204us/step - loss: 0.0493 - accuracy: 1.0000\n",
      "Epoch 140/200\n",
      "58/58 [==============================] - 0s 184us/step - loss: 0.0516 - accuracy: 1.0000\n",
      "Epoch 141/200\n",
      "58/58 [==============================] - 0s 218us/step - loss: 0.0876 - accuracy: 0.9655\n",
      "Epoch 142/200\n",
      "58/58 [==============================] - 0s 216us/step - loss: 0.0408 - accuracy: 1.0000\n",
      "Epoch 143/200\n",
      "58/58 [==============================] - 0s 222us/step - loss: 0.0936 - accuracy: 0.9828\n",
      "Epoch 144/200\n",
      "58/58 [==============================] - 0s 216us/step - loss: 0.0769 - accuracy: 0.9828\n",
      "Epoch 145/200\n",
      "58/58 [==============================] - 0s 208us/step - loss: 0.0817 - accuracy: 0.9655\n",
      "Epoch 146/200\n",
      "58/58 [==============================] - 0s 190us/step - loss: 0.1153 - accuracy: 0.9655\n",
      "Epoch 147/200\n",
      "58/58 [==============================] - 0s 208us/step - loss: 0.1412 - accuracy: 0.9655\n",
      "Epoch 148/200\n",
      "58/58 [==============================] - 0s 215us/step - loss: 0.0477 - accuracy: 1.0000\n",
      "Epoch 149/200\n",
      "58/58 [==============================] - 0s 203us/step - loss: 0.0442 - accuracy: 1.0000\n",
      "Epoch 150/200\n",
      "58/58 [==============================] - 0s 209us/step - loss: 0.0415 - accuracy: 1.0000\n",
      "Epoch 151/200\n",
      "58/58 [==============================] - ETA: 0s - loss: 0.1334 - accuracy: 1.00 - 0s 198us/step - loss: 0.0727 - accuracy: 0.9828\n",
      "Epoch 152/200\n",
      "58/58 [==============================] - 0s 217us/step - loss: 0.0772 - accuracy: 0.9655\n",
      "Epoch 153/200\n",
      "58/58 [==============================] - 0s 226us/step - loss: 0.0550 - accuracy: 0.9655\n",
      "Epoch 154/200\n",
      "58/58 [==============================] - 0s 215us/step - loss: 0.0594 - accuracy: 0.9828\n",
      "Epoch 155/200\n",
      "58/58 [==============================] - 0s 159us/step - loss: 0.0483 - accuracy: 0.9828\n",
      "Epoch 156/200\n",
      "58/58 [==============================] - 0s 189us/step - loss: 0.0426 - accuracy: 1.0000\n",
      "Epoch 157/200\n",
      "58/58 [==============================] - 0s 237us/step - loss: 0.0340 - accuracy: 0.9828\n",
      "Epoch 158/200\n",
      "58/58 [==============================] - 0s 197us/step - loss: 0.0388 - accuracy: 0.9828\n",
      "Epoch 159/200\n",
      "58/58 [==============================] - 0s 204us/step - loss: 0.0988 - accuracy: 0.9655\n",
      "Epoch 160/200\n"
     ]
    },
    {
     "name": "stdout",
     "output_type": "stream",
     "text": [
      "58/58 [==============================] - 0s 174us/step - loss: 0.0399 - accuracy: 1.0000\n",
      "Epoch 161/200\n",
      "58/58 [==============================] - 0s 251us/step - loss: 0.0804 - accuracy: 0.9828\n",
      "Epoch 162/200\n",
      "58/58 [==============================] - 0s 198us/step - loss: 0.0262 - accuracy: 1.0000\n",
      "Epoch 163/200\n",
      "58/58 [==============================] - 0s 174us/step - loss: 0.0447 - accuracy: 0.9828\n",
      "Epoch 164/200\n",
      "58/58 [==============================] - 0s 198us/step - loss: 0.0644 - accuracy: 0.9828\n",
      "Epoch 165/200\n",
      "58/58 [==============================] - 0s 212us/step - loss: 0.1201 - accuracy: 0.9310\n",
      "Epoch 166/200\n",
      "58/58 [==============================] - 0s 216us/step - loss: 0.0448 - accuracy: 1.0000\n",
      "Epoch 167/200\n",
      "58/58 [==============================] - 0s 213us/step - loss: 0.0338 - accuracy: 0.9828\n",
      "Epoch 168/200\n",
      "58/58 [==============================] - 0s 190us/step - loss: 0.0577 - accuracy: 0.9828\n",
      "Epoch 169/200\n",
      "58/58 [==============================] - 0s 208us/step - loss: 0.0645 - accuracy: 0.9655\n",
      "Epoch 170/200\n",
      "58/58 [==============================] - 0s 222us/step - loss: 0.0570 - accuracy: 0.9828\n",
      "Epoch 171/200\n",
      "58/58 [==============================] - 0s 218us/step - loss: 0.1114 - accuracy: 0.9655\n",
      "Epoch 172/200\n",
      "58/58 [==============================] - 0s 212us/step - loss: 0.0927 - accuracy: 0.9655\n",
      "Epoch 173/200\n",
      "58/58 [==============================] - 0s 198us/step - loss: 0.0444 - accuracy: 1.0000\n",
      "Epoch 174/200\n",
      "58/58 [==============================] - 0s 215us/step - loss: 0.0325 - accuracy: 1.0000\n",
      "Epoch 175/200\n",
      "58/58 [==============================] - 0s 215us/step - loss: 0.0215 - accuracy: 1.0000\n",
      "Epoch 176/200\n",
      "58/58 [==============================] - 0s 230us/step - loss: 0.0308 - accuracy: 1.0000\n",
      "Epoch 177/200\n",
      "58/58 [==============================] - 0s 257us/step - loss: 0.0583 - accuracy: 0.9828\n",
      "Epoch 178/200\n",
      "58/58 [==============================] - 0s 208us/step - loss: 0.0852 - accuracy: 0.9655\n",
      "Epoch 179/200\n",
      "58/58 [==============================] - 0s 192us/step - loss: 0.0589 - accuracy: 0.9828\n",
      "Epoch 180/200\n",
      "58/58 [==============================] - 0s 191us/step - loss: 0.0644 - accuracy: 0.9828\n",
      "Epoch 181/200\n",
      "58/58 [==============================] - 0s 220us/step - loss: 0.0797 - accuracy: 0.9655\n",
      "Epoch 182/200\n",
      "58/58 [==============================] - 0s 227us/step - loss: 0.0214 - accuracy: 1.0000\n",
      "Epoch 183/200\n",
      "58/58 [==============================] - 0s 211us/step - loss: 0.0832 - accuracy: 0.9828\n",
      "Epoch 184/200\n",
      "58/58 [==============================] - 0s 193us/step - loss: 0.1070 - accuracy: 0.9655\n",
      "Epoch 185/200\n",
      "58/58 [==============================] - 0s 193us/step - loss: 0.0417 - accuracy: 0.9828\n",
      "Epoch 186/200\n",
      "58/58 [==============================] - 0s 242us/step - loss: 0.0340 - accuracy: 1.0000\n",
      "Epoch 187/200\n",
      "58/58 [==============================] - 0s 230us/step - loss: 0.0789 - accuracy: 1.0000\n",
      "Epoch 188/200\n",
      "58/58 [==============================] - 0s 207us/step - loss: 0.0566 - accuracy: 0.9828\n",
      "Epoch 189/200\n",
      "58/58 [==============================] - 0s 220us/step - loss: 0.1212 - accuracy: 0.9310\n",
      "Epoch 190/200\n",
      "58/58 [==============================] - 0s 193us/step - loss: 0.0261 - accuracy: 1.0000\n",
      "Epoch 191/200\n",
      "58/58 [==============================] - 0s 209us/step - loss: 0.0443 - accuracy: 0.9828\n",
      "Epoch 192/200\n",
      "58/58 [==============================] - 0s 212us/step - loss: 0.0678 - accuracy: 0.9828\n",
      "Epoch 193/200\n",
      "58/58 [==============================] - 0s 195us/step - loss: 0.0440 - accuracy: 1.0000\n",
      "Epoch 194/200\n",
      "58/58 [==============================] - 0s 196us/step - loss: 0.0366 - accuracy: 0.9828\n",
      "Epoch 195/200\n",
      "58/58 [==============================] - 0s 203us/step - loss: 0.0604 - accuracy: 1.0000\n",
      "Epoch 196/200\n",
      "58/58 [==============================] - 0s 236us/step - loss: 0.0440 - accuracy: 0.9828\n",
      "Epoch 197/200\n",
      "58/58 [==============================] - 0s 209us/step - loss: 0.0784 - accuracy: 0.9828\n",
      "Epoch 198/200\n",
      "58/58 [==============================] - 0s 224us/step - loss: 0.0539 - accuracy: 1.0000\n",
      "Epoch 199/200\n",
      "58/58 [==============================] - 0s 216us/step - loss: 0.0339 - accuracy: 1.0000\n",
      "Epoch 200/200\n",
      "58/58 [==============================] - 0s 188us/step - loss: 0.0921 - accuracy: 0.9483\n"
     ]
    },
    {
     "data": {
      "text/plain": [
       "<keras.callbacks.callbacks.History at 0x7ff834237f98>"
      ]
     },
     "execution_count": 17,
     "metadata": {},
     "output_type": "execute_result"
    }
   ],
   "source": [
    "# Fit the model\n",
    "# Epochs means iterations\n",
    "model.fit(np.array(train_x), np.array(train_y), epochs = 200,\n",
    "          batch_size = 5, verbose = 1)"
   ]
  },
  {
   "cell_type": "markdown",
   "metadata": {},
   "source": [
    "### Define helper functions"
   ]
  },
  {
   "cell_type": "code",
   "execution_count": 18,
   "metadata": {},
   "outputs": [],
   "source": [
    "def clean_up_sentence(sentence):\n",
    "    # tokenize the pattern - split words into arr\n",
    "    sentence_words = nltk.word_tokenize(sentence)\n",
    "    # stem ea word - create short form for word\n",
    "    sentence_words = [stemmer.stem(word.lower()) for word in sentence_words]\n",
    "    return sentence_words"
   ]
  },
  {
   "cell_type": "code",
   "execution_count": 19,
   "metadata": {},
   "outputs": [],
   "source": [
    "# Translate user sentence into bag of words with arr 0/1\n",
    "# 0 or 1 for ea word in bag that exists in the sentence\n",
    "def bow(sentence, words, show_details = True):\n",
    "    # tokenize the pattern\n",
    "    sentence_words = clean_up_sentence(sentence)\n",
    "    # Initialise bag of words - matrix of N words, vocab matrix\n",
    "    bag = [0] * len(words)\n",
    "    \n",
    "    for s in sentence_words:\n",
    "        for i, w in enumerate(words):\n",
    "            if w == s:\n",
    "                # assign 1 if current word in vocab position\n",
    "                bag[i] = 1\n",
    "                if show_details:\n",
    "                    print(f\"Found in bag: {w}\")\n",
    "    \n",
    "    return np.array(bag)"
   ]
  },
  {
   "cell_type": "markdown",
   "metadata": {},
   "source": [
    "### Example translating sentence into bag of words"
   ]
  },
  {
   "cell_type": "code",
   "execution_count": 20,
   "metadata": {},
   "outputs": [
    {
     "name": "stdout",
     "output_type": "stream",
     "text": [
      "Found in bag: what\n",
      "Found in bag: is\n",
      "Found in bag: cca\n",
      "[0 0 0 0 0 0 0 0 0 0 0 0 1 0 0 0 0 0 0 0 0 0 0 0 0 0 0 0 0 0 0 0 0 0 0 0 0\n",
      " 0 1 0 0 0 0 0 0 0 0 0 0 0 0 0 0 0 0 0 0 0 0 0 0 0 0 0 0 0 0 0 0 0 0 0 0 0\n",
      " 0 0 0 0 1 0 0 0 0 0]\n",
      "['cca_application', 'cca_benefits', 'cca_components', 'cca_compulsory', 'cca_creation', 'cca_facilities', 'cca_list', 'cca_points_about', 'cca_points_how', 'cca_quit', 'sfl_modules', 'sfl_register', 'sfl_schedule', 'sfl_what']\n"
     ]
    }
   ],
   "source": [
    "p = bow(\"what is cca\", words)\n",
    "print(p)\n",
    "print(classes)"
   ]
  },
  {
   "cell_type": "code",
   "execution_count": 21,
   "metadata": {},
   "outputs": [
    {
     "data": {
      "text/plain": [
       "'\\nGood practice to save trained model into pickle file to reuse to publish\\nthrough Flask REST API\\n'"
      ]
     },
     "execution_count": 21,
     "metadata": {},
     "output_type": "execute_result"
    }
   ],
   "source": [
    "'''\n",
    "Good practice to save trained model into pickle file to reuse to publish\n",
    "through Flask REST API\n",
    "'''"
   ]
  },
  {
   "cell_type": "code",
   "execution_count": 22,
   "metadata": {},
   "outputs": [],
   "source": [
    "# Use pickle to load in pre-trained model\n",
    "# global graph\n",
    "# graph = tf.get_default_graph()\n",
    "\n",
    "# with open(f\"katana-assistant-model.pkl\", 'rb') as f:\n",
    "#     model = pickle.load(f)"
   ]
  },
  {
   "cell_type": "code",
   "execution_count": 23,
   "metadata": {},
   "outputs": [
    {
     "data": {
      "text/plain": [
       "'\\nbefore publishing model through Flask REST API, always good to run extra test\\nuse model.predict to classify user input & based on calculated\\nprobability return intent (multiple intents can be returned)\\n'"
      ]
     },
     "execution_count": 23,
     "metadata": {},
     "output_type": "execute_result"
    }
   ],
   "source": [
    "'''\n",
    "before publishing model through Flask REST API, always good to run extra test\n",
    "use model.predict to classify user input & based on calculated\n",
    "probability return intent (multiple intents can be returned)\n",
    "'''"
   ]
  },
  {
   "cell_type": "code",
   "execution_count": 24,
   "metadata": {},
   "outputs": [],
   "source": [
    "def classify_local(sentence):\n",
    "    ERROR_THRESHOLD = 0.25\n",
    "    \n",
    "    # generate probabilities from model\n",
    "    input_data = pd.DataFrame([bow(sentence, words)], dtype = float,\n",
    "                              index = ['input'])\n",
    "    # print([input_data])\n",
    "    \n",
    "    results = model.predict([input_data])[0]\n",
    "    # filter predictions below a threshold & provide intent index\n",
    "    \n",
    "#     for i, r in enumerate(results):\n",
    "#       print(i)\n",
    "#       print(r)\n",
    "#       print(r > ERROR_THRESHOLD)\n",
    "#       print()\n",
    "    \n",
    "    results = [[i, r] for i, r in enumerate(results) if r > ERROR_THRESHOLD]\n",
    "    # sort by strength of probability\n",
    "    results.sort(key = lambda x: x[1], reverse = True)\n",
    "\n",
    "    \n",
    "    return_list = []\n",
    "    for r in results:\n",
    "        # print(r)\n",
    "        return_list.append((classes[r[0]], str(r[1])))\n",
    "    # return tuple of intent & probability\n",
    "    return return_list"
   ]
  },
  {
   "cell_type": "code",
   "execution_count": 31,
   "metadata": {},
   "outputs": [
    {
     "name": "stdout",
     "output_type": "stream",
     "text": [
      "Found in bag: can\n",
      "Found in bag: i\n",
      "Found in bag: get\n"
     ]
    },
    {
     "data": {
      "text/plain": [
       "[('cca_compulsory', '0.8018518')]"
      ]
     },
     "execution_count": 31,
     "metadata": {},
     "output_type": "execute_result"
    }
   ],
   "source": [
    "classify_local('can i get smoothie')"
   ]
  },
  {
   "cell_type": "markdown",
   "metadata": {},
   "source": [
    "### Publish same function through REST endpoint"
   ]
  },
  {
   "cell_type": "code",
   "execution_count": null,
   "metadata": {},
   "outputs": [],
   "source": []
  }
 ],
 "metadata": {
  "kernelspec": {
   "display_name": "Python 3",
   "language": "python",
   "name": "python3"
  },
  "language_info": {
   "codemirror_mode": {
    "name": "ipython",
    "version": 3
   },
   "file_extension": ".py",
   "mimetype": "text/x-python",
   "name": "python",
   "nbconvert_exporter": "python",
   "pygments_lexer": "ipython3",
   "version": "3.7.3"
  }
 },
 "nbformat": 4,
 "nbformat_minor": 2
}

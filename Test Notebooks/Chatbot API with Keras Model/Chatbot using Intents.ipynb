{
 "cells": [
  {
   "cell_type": "markdown",
   "metadata": {},
   "source": [
    "# <font color='cyan'>Chatbot API with Keras Model</font>"
   ]
  },
  {
   "cell_type": "markdown",
   "metadata": {},
   "source": [
    "### Main challenges:\n",
    "- Classify user input to recognise intent\n",
    "- keep context"
   ]
  },
  {
   "cell_type": "code",
   "execution_count": 1,
   "metadata": {},
   "outputs": [],
   "source": [
    "# Keras deep learning library to build classification model\n",
    "# Lancaster stemming library used to collapse distinct word forms\n",
    "import nltk\n",
    "from nltk.stem.lancaster import LancasterStemmer\n",
    "stemmer = LancasterStemmer()"
   ]
  },
  {
   "cell_type": "code",
   "execution_count": 2,
   "metadata": {},
   "outputs": [
    {
     "name": "stderr",
     "output_type": "stream",
     "text": [
      "Using TensorFlow backend.\n"
     ]
    }
   ],
   "source": [
    "# things we need for Tensorflow\n",
    "import numpy as np\n",
    "from keras.models import Sequential\n",
    "from keras.layers import Dense, Activation, Dropout\n",
    "from keras.optimizers import SGD\n",
    "import pandas as pd\n",
    "import pickle\n",
    "import random"
   ]
  },
  {
   "cell_type": "code",
   "execution_count": 3,
   "metadata": {},
   "outputs": [
    {
     "data": {
      "text/plain": [
       "'\\nChatbot intents & patterns to learn defined in a plain JSON file\\nClassification model can be created for small vocabulary\\nNeed to build vocabulary > patterns processed\\neach word stemmed to produce generic root > help cover more combi for inputs\\n'"
      ]
     },
     "execution_count": 3,
     "metadata": {},
     "output_type": "execute_result"
    }
   ],
   "source": [
    "'''\n",
    "Chatbot intents & patterns to learn defined in a plain JSON file\n",
    "Classification model can be created for small vocabulary\n",
    "Need to build vocabulary > patterns processed\n",
    "each word stemmed to produce generic root > help cover more combi for inputs\n",
    "'''"
   ]
  },
  {
   "cell_type": "markdown",
   "metadata": {},
   "source": [
    "### Read the JSON file"
   ]
  },
  {
   "cell_type": "code",
   "execution_count": 4,
   "metadata": {},
   "outputs": [],
   "source": [
    "import json\n",
    "\n",
    "with open('intents.json') as intent_file:\n",
    "    intents = json.load(intent_file)"
   ]
  },
  {
   "cell_type": "code",
   "execution_count": 14,
   "metadata": {},
   "outputs": [
    {
     "name": "stdout",
     "output_type": "stream",
     "text": [
      "45 documents [(['Hi', 'there'], 'greeting'), (['How', 'are', 'you'], 'greeting'), (['Is', 'anyone', 'there', '?'], 'greeting'), (['Hello'], 'greeting'), (['Good', 'day'], 'greeting'), (['Bye'], 'goodbye'), (['See', 'you', 'later'], 'goodbye'), (['Goodbye'], 'goodbye'), (['Nice', 'chatting', 'to', 'you', ',', 'bye'], 'goodbye'), (['Till', 'next', 'time'], 'goodbye'), (['Thanks'], 'thanks'), (['Thank', 'you'], 'thanks'), (['That', \"'s\", 'helpful'], 'thanks'), (['Awesome', ',', 'thanks'], 'thanks'), (['Thanks', 'for', 'helping', 'me'], 'thanks'), (['How', 'you', 'could', 'help', 'me', '?'], 'options'), (['What', 'you', 'can', 'do', '?'], 'options'), (['What', 'help', 'you', 'provide', '?'], 'options'), (['How', 'you', 'can', 'be', 'helpful', '?'], 'options'), (['What', 'support', 'is', 'offered'], 'options'), (['How', 'to', 'check', 'Adverse', 'drug', 'reaction', '?'], 'adverse_drug'), (['Open', 'adverse', 'drugs', 'module'], 'adverse_drug'), (['Give', 'me', 'a', 'list', 'of', 'drugs', 'causing', 'adverse', 'behavior'], 'adverse_drug'), (['List', 'all', 'drugs', 'suitable', 'for', 'patient', 'with', 'adverse', 'reaction'], 'adverse_drug'), (['Which', 'drugs', 'dont', 'have', 'adverse', 'reaction', '?'], 'adverse_drug'), (['Open', 'blood', 'pressure', 'module'], 'blood_pressure'), (['Task', 'related', 'to', 'blood', 'pressure'], 'blood_pressure'), (['Blood', 'pressure', 'data', 'entry'], 'blood_pressure'), (['I', 'want', 'to', 'log', 'blood', 'pressure', 'results'], 'blood_pressure'), (['Blood', 'pressure', 'data', 'management'], 'blood_pressure'), (['I', 'want', 'to', 'search', 'for', 'blood', 'pressure', 'result', 'history'], 'blood_pressure_search'), (['Blood', 'pressure', 'for', 'patient'], 'blood_pressure_search'), (['Load', 'patient', 'blood', 'pressure', 'result'], 'blood_pressure_search'), (['Show', 'blood', 'pressure', 'results', 'for', 'patient'], 'blood_pressure_search'), (['Find', 'blood', 'pressure', 'results', 'by', 'ID'], 'blood_pressure_search'), (['Find', 'me', 'a', 'pharmacy'], 'pharmacy_search'), (['Find', 'pharmacy'], 'pharmacy_search'), (['List', 'of', 'pharmacies', 'nearby'], 'pharmacy_search'), (['Locate', 'pharmacy'], 'pharmacy_search'), (['Search', 'pharmacy'], 'pharmacy_search'), (['Lookup', 'for', 'hospital'], 'hospital_search'), (['Searching', 'for', 'hospital', 'to', 'transfer', 'patient'], 'hospital_search'), (['I', 'want', 'to', 'search', 'hospital', 'data'], 'hospital_search'), (['Hospital', 'lookup', 'for', 'patient'], 'hospital_search'), (['Looking', 'up', 'hospital', 'details'], 'hospital_search')]\n",
      "9 classes ['adverse_drug', 'blood_pressure', 'blood_pressure_search', 'goodbye', 'greeting', 'hospital_search', 'options', 'pharmacy_search', 'thanks']\n",
      "82 unique stemmed words [\"'s\", ',', 'a', 'advers', 'al', 'anyon', 'ar', 'awesom', 'be', 'behavy', 'blood', 'by', 'bye', 'can', 'caus', 'chat', 'check', 'could', 'dat', 'day', 'detail', 'do', 'dont', 'drug', 'entry', 'find', 'for', 'giv', 'good', 'goodby', 'hav', 'hello', 'help', 'hi', 'hist', 'hospit', 'how', 'i', 'id', 'is', 'lat', 'list', 'load', 'loc', 'log', 'look', 'lookup', 'man', 'me', 'mod', 'nearby', 'next', 'nic', 'of', 'off', 'op', 'paty', 'pharm', 'press', 'provid', 'react', 'rel', 'result', 'search', 'see', 'show', 'suit', 'support', 'task', 'thank', 'that', 'ther', 'til', 'tim', 'to', 'transf', 'up', 'want', 'what', 'which', 'with', 'you']\n"
     ]
    }
   ],
   "source": [
    "words = []\n",
    "classes = []\n",
    "documents = []\n",
    "ignore_words = ['?']\n",
    "\n",
    "#loop through each sentence in our intents patterns\n",
    "for intent in intents['intents']:\n",
    "    for pattern in intent['patterns']:\n",
    "        # tokenize each word in sentence\n",
    "        w = nltk.word_tokenize(pattern)\n",
    "        \n",
    "        # add to words list\n",
    "        words.extend(w)\n",
    "        \n",
    "        # add documents in corpus\n",
    "        documents.append((w, intent['tag']))\n",
    "        \n",
    "        # add to our classes list\n",
    "        if intent['tag'] not in classes:\n",
    "            classes.append(intent['tag'])\n",
    "\n",
    "# stem & lower ea word & remove dupes\n",
    "words = [stemmer.stem(w.lower()) for w in words if w not in ignore_words]\n",
    "words = sorted(list(set(words)))\n",
    "\n",
    "# sort classes\n",
    "classes = sorted(list(set(classes)))\n",
    "\n",
    "# documents = combination between patterns & intents\n",
    "print(len(documents), 'documents', documents)\n",
    "# classes = intents\n",
    "print(len(classes), \"classes\", classes)\n",
    "# words = all words, vocab\n",
    "print(len(words), \"unique stemmed words\", words)"
   ]
  },
  {
   "cell_type": "code",
   "execution_count": 15,
   "metadata": {},
   "outputs": [
    {
     "data": {
      "text/plain": [
       "\"\\nTraining won't be run based on vocab of words (words meaningless for machine)\\nNeed to translate words into bags of words with arr containing 0/1\\n\\nArr length will be equal to vocab size & 1 set when word from current\\npattern is located in a given position\\n\""
      ]
     },
     "execution_count": 15,
     "metadata": {},
     "output_type": "execute_result"
    }
   ],
   "source": [
    "'''\n",
    "Training won't be run based on vocab of words (words meaningless for machine)\n",
    "Need to translate words into bags of words with arr containing 0/1\n",
    "\n",
    "Arr length will be equal to vocab size & 1 set when word from current\n",
    "pattern is located in a given position\n",
    "'''"
   ]
  },
  {
   "cell_type": "code",
   "execution_count": 16,
   "metadata": {},
   "outputs": [],
   "source": [
    "# create our training data\n",
    "training = []\n",
    "# create an empty array for our output\n",
    "output_empty = [0] * len(classes)"
   ]
  },
  {
   "cell_type": "code",
   "execution_count": 17,
   "metadata": {},
   "outputs": [],
   "source": [
    "# training set, bag of words for ea sentence\n",
    "for doc in documents:\n",
    "    # initialise our bag of words\n",
    "    bag = []\n",
    "    #list tokenized words for the pattern\n",
    "    pattern_words = doc[0]\n",
    "    # stem ea word - create base word to represent related words\n",
    "    # Please read stemming VS lemmatization\n",
    "    pattern_words = [stemmer.stem(word.lower()) for word in pattern_words]\n",
    "    \n",
    "    # create our bag of words arr with 1, if word match found in\n",
    "    # current pattern\n",
    "    for w in words:\n",
    "        bag.append(1) if w in pattern_words else bag.append(0)\n",
    "        \n",
    "    # output is '0' for ea tag & '1' for current tag (for ea pattern)\n",
    "    # output_row is basically the class/intents it falls in\n",
    "    output_row = list(output_empty)\n",
    "    output_row[classes.index(doc[1])] = 1\n",
    "    \n",
    "    training.append([bag, output_row])\n",
    "    \n",
    "    # print(training)"
   ]
  },
  {
   "cell_type": "code",
   "execution_count": 18,
   "metadata": {},
   "outputs": [],
   "source": [
    "# shuffle our features & turn into np.array\n",
    "random.shuffle(training)\n",
    "training = np.array(training)"
   ]
  },
  {
   "cell_type": "code",
   "execution_count": 19,
   "metadata": {},
   "outputs": [],
   "source": [
    "# create train & test lists. X - patterns, Y - intents\n",
    "train_x = list(training[:,0])\n",
    "train_y = list(training[:,1])"
   ]
  },
  {
   "cell_type": "code",
   "execution_count": 20,
   "metadata": {},
   "outputs": [
    {
     "data": {
      "text/plain": [
       "'\\nTraining data - X (pattern converted into array [0,1,0,1...,0])\\nY (intents converted into arr [1,0,0,0,..,0]), will be single 1 for intents arr\\n\\nModel built on 3 layers\\n\\nClassification output will be multiclass arr > help identify encoded intent\\n\\nUse Softmax activation to produce multiclass classification output\\n(result returns arr of 0/1: [1,0,0...,0] - identifies encoded intent)\\n'"
      ]
     },
     "execution_count": 20,
     "metadata": {},
     "output_type": "execute_result"
    }
   ],
   "source": [
    "'''\n",
    "Training data - X (pattern converted into array [0,1,0,1...,0])\n",
    "Y (intents converted into arr [1,0,0,0,..,0]), will be single 1 for intents arr\n",
    "\n",
    "Model built on 3 layers\n",
    "\n",
    "Classification output will be multiclass arr > help identify encoded intent\n",
    "\n",
    "Use Softmax activation to produce multiclass classification output\n",
    "(result returns arr of 0/1: [1,0,0...,0] - identifies encoded intent)\n",
    "'''"
   ]
  },
  {
   "cell_type": "markdown",
   "metadata": {},
   "source": [
    "## <font color='red'>**NOTE</font> <br>\n",
    "Ok so Cael & Joe, <br>\n",
    "This part below is basically what makes up a Neural network in ML\n",
    "\n",
    "So basically a neural network has different layers in its hidden layer (main layer)\n",
    "that tries to sift out features to identify what is going on and learn\n",
    "\n",
    "In each layer we have number of neurons to help us know what's going on <br>\n",
    "> Simple Eg. When you touch something you have nerves to tell you if you really touched something or not\n",
    "\n",
    "Softmax is the activation function we're using to determine when to trigger these neurons <br>\n",
    "> Eg. Did you really touch something?? How do you know? > Your nerves felt something and sent signals to your brain"
   ]
  },
  {
   "cell_type": "code",
   "execution_count": 22,
   "metadata": {},
   "outputs": [],
   "source": [
    "# Create model - 3 layers\n",
    "# 1st layer 128 neurons, 2nd layer 64 neurons & 3rd contains num of neurons\n",
    "# equal to num of intents to predict output intent with softmax\n",
    "\n",
    "model = Sequential()\n",
    "model.add(Dense(128, input_shape = (len(train_x[0]), ), activation = 'relu'))\n",
    "model.add(Dropout(0.5))\n",
    "model.add(Dense(64, activation = 'relu'))\n",
    "model.add(Dropout(0.5))\n",
    "model.add(Dense(len(train_y[0]), activation = 'softmax'))"
   ]
  },
  {
   "cell_type": "markdown",
   "metadata": {},
   "source": [
    "### Compile Keras model with SGD optimiser"
   ]
  },
  {
   "cell_type": "code",
   "execution_count": 28,
   "metadata": {},
   "outputs": [],
   "source": [
    "# Compile model. Stochastic gradient descent with Nesterov accelerated\n",
    "# gradient gives good results for this model\n",
    "\n",
    "sgd = SGD(lr = 0.01, decay = 1e-6, momentum = 0.9, nesterov = True)\n",
    "# print(dir(sgd))\n",
    "# print(sgd.lr)\n",
    "model.compile(loss = 'categorical_crossentropy', optimizer = sgd,\n",
    "              metrics = ['accuracy'])"
   ]
  },
  {
   "cell_type": "markdown",
   "metadata": {},
   "source": [
    "### Fit model"
   ]
  },
  {
   "cell_type": "code",
   "execution_count": 29,
   "metadata": {},
   "outputs": [],
   "source": [
    "# Execute training & construct classification model"
   ]
  },
  {
   "cell_type": "code",
   "execution_count": 30,
   "metadata": {},
   "outputs": [
    {
     "name": "stdout",
     "output_type": "stream",
     "text": [
      "Epoch 1/200\n",
      "45/45 [==============================] - 0s 3ms/step - loss: 2.1916 - accuracy: 0.1556\n",
      "Epoch 2/200\n",
      "45/45 [==============================] - 0s 189us/step - loss: 2.0992 - accuracy: 0.2667\n",
      "Epoch 3/200\n",
      "45/45 [==============================] - 0s 259us/step - loss: 2.0933 - accuracy: 0.1556\n",
      "Epoch 4/200\n",
      "45/45 [==============================] - 0s 256us/step - loss: 1.9946 - accuracy: 0.2222\n",
      "Epoch 5/200\n",
      "45/45 [==============================] - 0s 239us/step - loss: 1.9184 - accuracy: 0.3556\n",
      "Epoch 6/200\n",
      "45/45 [==============================] - 0s 316us/step - loss: 1.7821 - accuracy: 0.4000\n",
      "Epoch 7/200\n",
      "45/45 [==============================] - 0s 277us/step - loss: 1.6690 - accuracy: 0.4889\n",
      "Epoch 8/200\n",
      "45/45 [==============================] - 0s 266us/step - loss: 1.5727 - accuracy: 0.5556\n",
      "Epoch 9/200\n",
      "45/45 [==============================] - 0s 311us/step - loss: 1.4105 - accuracy: 0.6667\n",
      "Epoch 10/200\n",
      "45/45 [==============================] - 0s 231us/step - loss: 1.3430 - accuracy: 0.5556\n",
      "Epoch 11/200\n",
      "45/45 [==============================] - 0s 262us/step - loss: 1.1619 - accuracy: 0.6889\n",
      "Epoch 12/200\n",
      "45/45 [==============================] - 0s 273us/step - loss: 1.0400 - accuracy: 0.7111\n",
      "Epoch 13/200\n",
      "45/45 [==============================] - 0s 258us/step - loss: 1.0981 - accuracy: 0.6667\n",
      "Epoch 14/200\n",
      "45/45 [==============================] - 0s 288us/step - loss: 0.9389 - accuracy: 0.8222\n",
      "Epoch 15/200\n",
      "45/45 [==============================] - 0s 255us/step - loss: 0.8179 - accuracy: 0.7778\n",
      "Epoch 16/200\n",
      "45/45 [==============================] - 0s 265us/step - loss: 0.7941 - accuracy: 0.8000\n",
      "Epoch 17/200\n",
      "45/45 [==============================] - 0s 256us/step - loss: 0.5808 - accuracy: 0.8222\n",
      "Epoch 18/200\n",
      "45/45 [==============================] - 0s 239us/step - loss: 0.5987 - accuracy: 0.8889\n",
      "Epoch 19/200\n",
      "45/45 [==============================] - 0s 280us/step - loss: 0.5185 - accuracy: 0.8222\n",
      "Epoch 20/200\n",
      "45/45 [==============================] - 0s 231us/step - loss: 0.3899 - accuracy: 0.9778\n",
      "Epoch 21/200\n",
      "45/45 [==============================] - 0s 254us/step - loss: 0.4013 - accuracy: 0.8889\n",
      "Epoch 22/200\n",
      "45/45 [==============================] - 0s 281us/step - loss: 0.3991 - accuracy: 0.9556\n",
      "Epoch 23/200\n",
      "45/45 [==============================] - 0s 245us/step - loss: 0.6181 - accuracy: 0.8667\n",
      "Epoch 24/200\n",
      "45/45 [==============================] - 0s 247us/step - loss: 0.3687 - accuracy: 0.9111\n",
      "Epoch 25/200\n",
      "45/45 [==============================] - 0s 236us/step - loss: 0.3503 - accuracy: 0.9333\n",
      "Epoch 26/200\n",
      "45/45 [==============================] - 0s 285us/step - loss: 0.3201 - accuracy: 0.9111\n",
      "Epoch 27/200\n",
      "45/45 [==============================] - 0s 249us/step - loss: 0.2898 - accuracy: 0.9778\n",
      "Epoch 28/200\n",
      "45/45 [==============================] - 0s 237us/step - loss: 0.3008 - accuracy: 0.9333\n",
      "Epoch 29/200\n",
      "45/45 [==============================] - 0s 246us/step - loss: 0.2947 - accuracy: 0.9333\n",
      "Epoch 30/200\n",
      "45/45 [==============================] - 0s 263us/step - loss: 0.2909 - accuracy: 0.9556\n",
      "Epoch 31/200\n",
      "45/45 [==============================] - 0s 254us/step - loss: 0.4276 - accuracy: 0.9111\n",
      "Epoch 32/200\n",
      "45/45 [==============================] - 0s 242us/step - loss: 0.3243 - accuracy: 0.8889\n",
      "Epoch 33/200\n",
      "45/45 [==============================] - 0s 282us/step - loss: 0.2123 - accuracy: 0.9333\n",
      "Epoch 34/200\n",
      "45/45 [==============================] - 0s 250us/step - loss: 0.1893 - accuracy: 0.9556\n",
      "Epoch 35/200\n",
      "45/45 [==============================] - 0s 283us/step - loss: 0.2242 - accuracy: 0.8667\n",
      "Epoch 36/200\n",
      "45/45 [==============================] - 0s 266us/step - loss: 0.2122 - accuracy: 0.9556\n",
      "Epoch 37/200\n",
      "45/45 [==============================] - 0s 200us/step - loss: 0.1347 - accuracy: 0.9556\n",
      "Epoch 38/200\n",
      "45/45 [==============================] - 0s 282us/step - loss: 0.1796 - accuracy: 0.9778\n",
      "Epoch 39/200\n",
      "45/45 [==============================] - 0s 256us/step - loss: 0.2161 - accuracy: 0.9111\n",
      "Epoch 40/200\n",
      "45/45 [==============================] - 0s 281us/step - loss: 0.1652 - accuracy: 0.9778\n",
      "Epoch 41/200\n",
      "45/45 [==============================] - 0s 233us/step - loss: 0.1504 - accuracy: 0.9333\n",
      "Epoch 42/200\n",
      "45/45 [==============================] - 0s 224us/step - loss: 0.1659 - accuracy: 0.9778\n",
      "Epoch 43/200\n",
      "45/45 [==============================] - 0s 287us/step - loss: 0.0770 - accuracy: 1.0000\n",
      "Epoch 44/200\n",
      "45/45 [==============================] - 0s 250us/step - loss: 0.1114 - accuracy: 0.9778\n",
      "Epoch 45/200\n",
      "45/45 [==============================] - 0s 198us/step - loss: 0.1349 - accuracy: 0.9778\n",
      "Epoch 46/200\n",
      "45/45 [==============================] - 0s 281us/step - loss: 0.1903 - accuracy: 0.9778\n",
      "Epoch 47/200\n",
      "45/45 [==============================] - 0s 207us/step - loss: 0.2038 - accuracy: 0.9333\n",
      "Epoch 48/200\n",
      "45/45 [==============================] - 0s 246us/step - loss: 0.1204 - accuracy: 1.0000\n",
      "Epoch 49/200\n",
      "45/45 [==============================] - 0s 246us/step - loss: 0.0651 - accuracy: 1.0000\n",
      "Epoch 50/200\n",
      "45/45 [==============================] - 0s 258us/step - loss: 0.0749 - accuracy: 0.9778\n",
      "Epoch 51/200\n",
      "45/45 [==============================] - 0s 229us/step - loss: 0.1803 - accuracy: 0.9556\n",
      "Epoch 52/200\n",
      "45/45 [==============================] - 0s 241us/step - loss: 0.0773 - accuracy: 1.0000\n",
      "Epoch 53/200\n",
      "45/45 [==============================] - 0s 257us/step - loss: 0.0821 - accuracy: 1.0000\n",
      "Epoch 54/200\n",
      "45/45 [==============================] - 0s 265us/step - loss: 0.0970 - accuracy: 0.9778\n",
      "Epoch 55/200\n",
      "45/45 [==============================] - 0s 232us/step - loss: 0.1045 - accuracy: 0.9778\n",
      "Epoch 56/200\n",
      "45/45 [==============================] - 0s 240us/step - loss: 0.0486 - accuracy: 1.0000\n",
      "Epoch 57/200\n",
      "45/45 [==============================] - 0s 218us/step - loss: 0.0579 - accuracy: 1.0000\n",
      "Epoch 58/200\n",
      "45/45 [==============================] - 0s 239us/step - loss: 0.0645 - accuracy: 0.9778\n",
      "Epoch 59/200\n",
      "45/45 [==============================] - 0s 196us/step - loss: 0.1480 - accuracy: 0.9556\n",
      "Epoch 60/200\n",
      "45/45 [==============================] - 0s 172us/step - loss: 0.0741 - accuracy: 1.0000\n",
      "Epoch 61/200\n",
      "45/45 [==============================] - 0s 288us/step - loss: 0.1133 - accuracy: 0.9556\n",
      "Epoch 62/200\n",
      "45/45 [==============================] - 0s 198us/step - loss: 0.1262 - accuracy: 0.9778\n",
      "Epoch 63/200\n",
      "45/45 [==============================] - 0s 249us/step - loss: 0.0288 - accuracy: 1.0000\n",
      "Epoch 64/200\n",
      "45/45 [==============================] - 0s 272us/step - loss: 0.0341 - accuracy: 0.9778\n",
      "Epoch 65/200\n",
      "45/45 [==============================] - 0s 226us/step - loss: 0.0687 - accuracy: 0.9778\n",
      "Epoch 66/200\n",
      "45/45 [==============================] - 0s 261us/step - loss: 0.0461 - accuracy: 1.0000\n",
      "Epoch 67/200\n",
      "45/45 [==============================] - 0s 224us/step - loss: 0.0327 - accuracy: 1.0000\n",
      "Epoch 68/200\n",
      "45/45 [==============================] - 0s 224us/step - loss: 0.0902 - accuracy: 0.9778\n",
      "Epoch 69/200\n",
      "45/45 [==============================] - 0s 176us/step - loss: 0.0911 - accuracy: 0.9778\n",
      "Epoch 70/200\n",
      "45/45 [==============================] - 0s 195us/step - loss: 0.0432 - accuracy: 1.0000\n",
      "Epoch 71/200\n",
      "45/45 [==============================] - 0s 272us/step - loss: 0.1183 - accuracy: 0.9556\n",
      "Epoch 72/200\n",
      "45/45 [==============================] - 0s 231us/step - loss: 0.1080 - accuracy: 0.9333\n",
      "Epoch 73/200\n",
      "45/45 [==============================] - 0s 188us/step - loss: 0.0681 - accuracy: 1.0000\n",
      "Epoch 74/200\n",
      "45/45 [==============================] - 0s 240us/step - loss: 0.0924 - accuracy: 0.9778\n",
      "Epoch 75/200\n",
      "45/45 [==============================] - 0s 213us/step - loss: 0.0710 - accuracy: 0.9778\n",
      "Epoch 76/200\n",
      "45/45 [==============================] - 0s 193us/step - loss: 0.0519 - accuracy: 0.9778\n",
      "Epoch 77/200\n",
      "45/45 [==============================] - 0s 248us/step - loss: 0.0638 - accuracy: 0.9778\n",
      "Epoch 78/200\n",
      "45/45 [==============================] - 0s 208us/step - loss: 0.0643 - accuracy: 0.9778\n",
      "Epoch 79/200\n",
      "45/45 [==============================] - 0s 204us/step - loss: 0.0222 - accuracy: 1.0000\n",
      "Epoch 80/200\n",
      "45/45 [==============================] - 0s 260us/step - loss: 0.0744 - accuracy: 0.9556\n",
      "Epoch 81/200\n"
     ]
    },
    {
     "name": "stdout",
     "output_type": "stream",
     "text": [
      "45/45 [==============================] - 0s 164us/step - loss: 0.0946 - accuracy: 0.9778\n",
      "Epoch 82/200\n",
      "45/45 [==============================] - 0s 193us/step - loss: 0.0198 - accuracy: 1.0000\n",
      "Epoch 83/200\n",
      "45/45 [==============================] - 0s 237us/step - loss: 0.0488 - accuracy: 1.0000\n",
      "Epoch 84/200\n",
      "45/45 [==============================] - 0s 188us/step - loss: 0.0332 - accuracy: 1.0000\n",
      "Epoch 85/200\n",
      "45/45 [==============================] - 0s 239us/step - loss: 0.0478 - accuracy: 1.0000\n",
      "Epoch 86/200\n",
      "45/45 [==============================] - 0s 247us/step - loss: 0.0576 - accuracy: 0.9778\n",
      "Epoch 87/200\n",
      "45/45 [==============================] - 0s 238us/step - loss: 0.0586 - accuracy: 1.0000\n",
      "Epoch 88/200\n",
      "45/45 [==============================] - 0s 189us/step - loss: 0.0901 - accuracy: 0.9778\n",
      "Epoch 89/200\n",
      "45/45 [==============================] - 0s 239us/step - loss: 0.0419 - accuracy: 1.0000\n",
      "Epoch 90/200\n",
      "45/45 [==============================] - 0s 236us/step - loss: 0.0426 - accuracy: 1.0000\n",
      "Epoch 91/200\n",
      "45/45 [==============================] - 0s 194us/step - loss: 0.1032 - accuracy: 0.9333\n",
      "Epoch 92/200\n",
      "45/45 [==============================] - 0s 247us/step - loss: 0.0249 - accuracy: 1.0000\n",
      "Epoch 93/200\n",
      "45/45 [==============================] - 0s 253us/step - loss: 0.0726 - accuracy: 0.9778\n",
      "Epoch 94/200\n",
      "45/45 [==============================] - 0s 214us/step - loss: 0.0388 - accuracy: 0.9778\n",
      "Epoch 95/200\n",
      "45/45 [==============================] - 0s 219us/step - loss: 0.0357 - accuracy: 1.0000\n",
      "Epoch 96/200\n",
      "45/45 [==============================] - 0s 241us/step - loss: 0.0302 - accuracy: 1.0000\n",
      "Epoch 97/200\n",
      "45/45 [==============================] - 0s 211us/step - loss: 0.0396 - accuracy: 1.0000\n",
      "Epoch 98/200\n",
      "45/45 [==============================] - 0s 205us/step - loss: 0.0309 - accuracy: 1.0000\n",
      "Epoch 99/200\n",
      "45/45 [==============================] - 0s 251us/step - loss: 0.0305 - accuracy: 1.0000\n",
      "Epoch 100/200\n",
      "45/45 [==============================] - 0s 217us/step - loss: 0.0209 - accuracy: 1.0000\n",
      "Epoch 101/200\n",
      "45/45 [==============================] - 0s 209us/step - loss: 0.0392 - accuracy: 1.0000\n",
      "Epoch 102/200\n",
      "45/45 [==============================] - 0s 246us/step - loss: 0.0196 - accuracy: 1.0000\n",
      "Epoch 103/200\n",
      "45/45 [==============================] - 0s 240us/step - loss: 0.0256 - accuracy: 1.0000\n",
      "Epoch 104/200\n",
      "45/45 [==============================] - 0s 227us/step - loss: 0.0230 - accuracy: 1.0000\n",
      "Epoch 105/200\n",
      "45/45 [==============================] - 0s 240us/step - loss: 0.0828 - accuracy: 1.0000\n",
      "Epoch 106/200\n",
      "45/45 [==============================] - 0s 242us/step - loss: 0.0270 - accuracy: 1.0000\n",
      "Epoch 107/200\n",
      "45/45 [==============================] - 0s 199us/step - loss: 0.0303 - accuracy: 1.0000\n",
      "Epoch 108/200\n",
      "45/45 [==============================] - 0s 212us/step - loss: 0.0278 - accuracy: 1.0000\n",
      "Epoch 109/200\n",
      "45/45 [==============================] - 0s 252us/step - loss: 0.0175 - accuracy: 1.0000\n",
      "Epoch 110/200\n",
      "45/45 [==============================] - 0s 220us/step - loss: 0.0424 - accuracy: 1.0000\n",
      "Epoch 111/200\n",
      "45/45 [==============================] - 0s 202us/step - loss: 0.0400 - accuracy: 1.0000\n",
      "Epoch 112/200\n",
      "45/45 [==============================] - 0s 246us/step - loss: 0.0648 - accuracy: 0.9778\n",
      "Epoch 113/200\n",
      "45/45 [==============================] - 0s 210us/step - loss: 0.0515 - accuracy: 1.0000\n",
      "Epoch 114/200\n",
      "45/45 [==============================] - 0s 210us/step - loss: 0.0125 - accuracy: 1.0000\n",
      "Epoch 115/200\n",
      "45/45 [==============================] - 0s 285us/step - loss: 0.0328 - accuracy: 0.9778\n",
      "Epoch 116/200\n",
      "45/45 [==============================] - 0s 227us/step - loss: 0.0625 - accuracy: 1.0000\n",
      "Epoch 117/200\n",
      "45/45 [==============================] - 0s 197us/step - loss: 0.0149 - accuracy: 1.0000\n",
      "Epoch 118/200\n",
      "45/45 [==============================] - 0s 227us/step - loss: 0.0121 - accuracy: 1.0000\n",
      "Epoch 119/200\n",
      "45/45 [==============================] - 0s 233us/step - loss: 0.0214 - accuracy: 1.0000\n",
      "Epoch 120/200\n",
      "45/45 [==============================] - 0s 204us/step - loss: 0.0555 - accuracy: 0.9778\n",
      "Epoch 121/200\n",
      "45/45 [==============================] - 0s 232us/step - loss: 0.0325 - accuracy: 0.9778\n",
      "Epoch 122/200\n",
      "45/45 [==============================] - 0s 264us/step - loss: 0.0463 - accuracy: 0.9778\n",
      "Epoch 123/200\n",
      "45/45 [==============================] - 0s 232us/step - loss: 0.0273 - accuracy: 1.0000\n",
      "Epoch 124/200\n",
      "45/45 [==============================] - 0s 203us/step - loss: 0.0261 - accuracy: 1.0000\n",
      "Epoch 125/200\n",
      "45/45 [==============================] - 0s 245us/step - loss: 0.0305 - accuracy: 1.0000\n",
      "Epoch 126/200\n",
      "45/45 [==============================] - 0s 231us/step - loss: 0.0870 - accuracy: 0.9778\n",
      "Epoch 127/200\n",
      "45/45 [==============================] - 0s 234us/step - loss: 0.0527 - accuracy: 0.9778\n",
      "Epoch 128/200\n",
      "45/45 [==============================] - 0s 248us/step - loss: 0.0081 - accuracy: 1.0000\n",
      "Epoch 129/200\n",
      "45/45 [==============================] - 0s 257us/step - loss: 0.0272 - accuracy: 1.0000\n",
      "Epoch 130/200\n",
      "45/45 [==============================] - 0s 234us/step - loss: 0.0235 - accuracy: 1.0000\n",
      "Epoch 131/200\n",
      "45/45 [==============================] - 0s 233us/step - loss: 0.0228 - accuracy: 1.0000\n",
      "Epoch 132/200\n",
      "45/45 [==============================] - 0s 233us/step - loss: 0.0113 - accuracy: 1.0000\n",
      "Epoch 133/200\n",
      "45/45 [==============================] - 0s 240us/step - loss: 0.0252 - accuracy: 1.0000\n",
      "Epoch 134/200\n",
      "45/45 [==============================] - 0s 216us/step - loss: 0.0140 - accuracy: 1.0000\n",
      "Epoch 135/200\n",
      "45/45 [==============================] - 0s 200us/step - loss: 0.0757 - accuracy: 0.9778\n",
      "Epoch 136/200\n",
      "45/45 [==============================] - 0s 224us/step - loss: 0.0119 - accuracy: 1.0000\n",
      "Epoch 137/200\n",
      "45/45 [==============================] - 0s 187us/step - loss: 0.0159 - accuracy: 1.0000\n",
      "Epoch 138/200\n",
      "45/45 [==============================] - 0s 224us/step - loss: 0.0434 - accuracy: 1.0000\n",
      "Epoch 139/200\n",
      "45/45 [==============================] - 0s 219us/step - loss: 0.0105 - accuracy: 1.0000\n",
      "Epoch 140/200\n",
      "45/45 [==============================] - 0s 179us/step - loss: 0.0752 - accuracy: 0.9778\n",
      "Epoch 141/200\n",
      "45/45 [==============================] - 0s 213us/step - loss: 0.0370 - accuracy: 1.0000\n",
      "Epoch 142/200\n",
      "45/45 [==============================] - 0s 205us/step - loss: 0.0328 - accuracy: 1.0000\n",
      "Epoch 143/200\n",
      "45/45 [==============================] - 0s 190us/step - loss: 0.0429 - accuracy: 0.9778\n",
      "Epoch 144/200\n",
      "45/45 [==============================] - 0s 240us/step - loss: 0.0239 - accuracy: 1.0000\n",
      "Epoch 145/200\n",
      "45/45 [==============================] - 0s 194us/step - loss: 0.0506 - accuracy: 0.9778\n",
      "Epoch 146/200\n",
      "45/45 [==============================] - 0s 195us/step - loss: 0.0044 - accuracy: 1.0000\n",
      "Epoch 147/200\n",
      "45/45 [==============================] - 0s 227us/step - loss: 0.0104 - accuracy: 1.0000\n",
      "Epoch 148/200\n",
      "45/45 [==============================] - 0s 187us/step - loss: 0.0192 - accuracy: 1.0000\n",
      "Epoch 149/200\n",
      "45/45 [==============================] - 0s 227us/step - loss: 0.0184 - accuracy: 1.0000\n",
      "Epoch 150/200\n",
      "45/45 [==============================] - 0s 240us/step - loss: 0.0304 - accuracy: 1.0000\n",
      "Epoch 151/200\n",
      "45/45 [==============================] - 0s 195us/step - loss: 0.0065 - accuracy: 1.0000\n",
      "Epoch 152/200\n",
      "45/45 [==============================] - 0s 208us/step - loss: 0.0024 - accuracy: 1.0000\n",
      "Epoch 153/200\n",
      "45/45 [==============================] - 0s 214us/step - loss: 0.0037 - accuracy: 1.0000\n",
      "Epoch 154/200\n",
      "45/45 [==============================] - 0s 176us/step - loss: 0.0066 - accuracy: 1.0000\n",
      "Epoch 155/200\n",
      "45/45 [==============================] - 0s 248us/step - loss: 0.0215 - accuracy: 1.0000\n",
      "Epoch 156/200\n",
      "45/45 [==============================] - 0s 206us/step - loss: 0.0246 - accuracy: 1.0000\n",
      "Epoch 157/200\n",
      "45/45 [==============================] - 0s 220us/step - loss: 0.0090 - accuracy: 1.0000\n",
      "Epoch 158/200\n",
      "45/45 [==============================] - 0s 236us/step - loss: 0.0060 - accuracy: 1.0000\n",
      "Epoch 159/200\n",
      "45/45 [==============================] - 0s 205us/step - loss: 0.0302 - accuracy: 1.0000\n",
      "Epoch 160/200\n"
     ]
    },
    {
     "name": "stdout",
     "output_type": "stream",
     "text": [
      "45/45 [==============================] - 0s 181us/step - loss: 0.0667 - accuracy: 0.9556\n",
      "Epoch 161/200\n",
      "45/45 [==============================] - 0s 217us/step - loss: 0.0153 - accuracy: 1.0000\n",
      "Epoch 162/200\n",
      "45/45 [==============================] - 0s 187us/step - loss: 0.0556 - accuracy: 0.9778\n",
      "Epoch 163/200\n",
      "45/45 [==============================] - 0s 203us/step - loss: 0.0412 - accuracy: 1.0000\n",
      "Epoch 164/200\n",
      "45/45 [==============================] - 0s 244us/step - loss: 0.0503 - accuracy: 0.9778\n",
      "Epoch 165/200\n",
      "45/45 [==============================] - 0s 174us/step - loss: 0.0234 - accuracy: 1.0000\n",
      "Epoch 166/200\n",
      "45/45 [==============================] - 0s 235us/step - loss: 0.0687 - accuracy: 0.9778\n",
      "Epoch 167/200\n",
      "45/45 [==============================] - 0s 246us/step - loss: 0.0433 - accuracy: 1.0000\n",
      "Epoch 168/200\n",
      "45/45 [==============================] - 0s 198us/step - loss: 0.0426 - accuracy: 1.0000\n",
      "Epoch 169/200\n",
      "45/45 [==============================] - 0s 224us/step - loss: 0.0160 - accuracy: 1.0000\n",
      "Epoch 170/200\n",
      "45/45 [==============================] - 0s 245us/step - loss: 0.0149 - accuracy: 1.0000\n",
      "Epoch 171/200\n",
      "45/45 [==============================] - 0s 188us/step - loss: 0.0229 - accuracy: 1.0000\n",
      "Epoch 172/200\n",
      "45/45 [==============================] - 0s 216us/step - loss: 0.0290 - accuracy: 1.0000\n",
      "Epoch 173/200\n",
      "45/45 [==============================] - 0s 232us/step - loss: 0.0148 - accuracy: 1.0000\n",
      "Epoch 174/200\n",
      "45/45 [==============================] - 0s 181us/step - loss: 0.0088 - accuracy: 1.0000\n",
      "Epoch 175/200\n",
      "45/45 [==============================] - 0s 222us/step - loss: 0.0551 - accuracy: 0.9778\n",
      "Epoch 176/200\n",
      "45/45 [==============================] - 0s 186us/step - loss: 0.0042 - accuracy: 1.0000\n",
      "Epoch 177/200\n",
      "45/45 [==============================] - 0s 224us/step - loss: 0.0561 - accuracy: 1.0000\n",
      "Epoch 178/200\n",
      "45/45 [==============================] - 0s 218us/step - loss: 0.0261 - accuracy: 1.0000\n",
      "Epoch 179/200\n",
      "45/45 [==============================] - 0s 200us/step - loss: 0.0080 - accuracy: 1.0000\n",
      "Epoch 180/200\n",
      "45/45 [==============================] - 0s 222us/step - loss: 0.0170 - accuracy: 1.0000\n",
      "Epoch 181/200\n",
      "45/45 [==============================] - 0s 215us/step - loss: 0.0686 - accuracy: 0.9778\n",
      "Epoch 182/200\n",
      "45/45 [==============================] - 0s 201us/step - loss: 0.0708 - accuracy: 0.9778\n",
      "Epoch 183/200\n",
      "45/45 [==============================] - 0s 249us/step - loss: 0.0156 - accuracy: 1.0000\n",
      "Epoch 184/200\n",
      "45/45 [==============================] - 0s 212us/step - loss: 0.0094 - accuracy: 1.0000\n",
      "Epoch 185/200\n",
      "45/45 [==============================] - 0s 215us/step - loss: 0.0092 - accuracy: 1.0000\n",
      "Epoch 186/200\n",
      "45/45 [==============================] - 0s 233us/step - loss: 0.0108 - accuracy: 1.0000\n",
      "Epoch 187/200\n",
      "45/45 [==============================] - 0s 236us/step - loss: 0.0090 - accuracy: 1.0000\n",
      "Epoch 188/200\n",
      "45/45 [==============================] - 0s 216us/step - loss: 0.0069 - accuracy: 1.0000\n",
      "Epoch 189/200\n",
      "45/45 [==============================] - 0s 229us/step - loss: 0.0215 - accuracy: 1.0000\n",
      "Epoch 190/200\n",
      "45/45 [==============================] - 0s 204us/step - loss: 0.0580 - accuracy: 0.9778\n",
      "Epoch 191/200\n",
      "45/45 [==============================] - 0s 210us/step - loss: 0.0191 - accuracy: 1.0000\n",
      "Epoch 192/200\n",
      "45/45 [==============================] - 0s 231us/step - loss: 0.0234 - accuracy: 1.0000\n",
      "Epoch 193/200\n",
      "45/45 [==============================] - 0s 201us/step - loss: 0.0180 - accuracy: 1.0000\n",
      "Epoch 194/200\n",
      "45/45 [==============================] - 0s 238us/step - loss: 0.0266 - accuracy: 1.0000\n",
      "Epoch 195/200\n",
      "45/45 [==============================] - 0s 203us/step - loss: 0.0040 - accuracy: 1.0000\n",
      "Epoch 196/200\n",
      "45/45 [==============================] - 0s 229us/step - loss: 0.0039 - accuracy: 1.0000\n",
      "Epoch 197/200\n",
      "45/45 [==============================] - 0s 220us/step - loss: 0.0068 - accuracy: 1.0000\n",
      "Epoch 198/200\n",
      "45/45 [==============================] - 0s 206us/step - loss: 0.0032 - accuracy: 1.0000\n",
      "Epoch 199/200\n",
      "45/45 [==============================] - 0s 202us/step - loss: 0.0210 - accuracy: 1.0000\n",
      "Epoch 200/200\n",
      "45/45 [==============================] - 0s 226us/step - loss: 0.0163 - accuracy: 1.0000\n"
     ]
    },
    {
     "data": {
      "text/plain": [
       "<keras.callbacks.callbacks.History at 0x7fcda833af28>"
      ]
     },
     "execution_count": 30,
     "metadata": {},
     "output_type": "execute_result"
    }
   ],
   "source": [
    "# Fit the model\n",
    "# Epochs means iterations\n",
    "model.fit(np.array(train_x), np.array(train_y), epochs = 200,\n",
    "          batch_size = 5, verbose = 1)"
   ]
  },
  {
   "cell_type": "markdown",
   "metadata": {},
   "source": [
    "### Define helper functions"
   ]
  },
  {
   "cell_type": "code",
   "execution_count": 31,
   "metadata": {},
   "outputs": [],
   "source": [
    "def clean_up_sentence(sentence):\n",
    "    # tokenize the pattern - split words into arr\n",
    "    sentence_words = nltk.word_tokenize(sentence)\n",
    "    # stem ea word - create short form for word\n",
    "    sentence_words = [stemmer.stem(word.lower()) for word in sentence_words]\n",
    "    return sentence_words"
   ]
  },
  {
   "cell_type": "code",
   "execution_count": 32,
   "metadata": {},
   "outputs": [],
   "source": [
    "# Translate user sentence into bag of words with arr 0/1\n",
    "# 0 or 1 for ea word in bag that exists in the sentence\n",
    "def bow(sentence, words, show_details = True):\n",
    "    # tokenize the pattern\n",
    "    sentence_words = clean_up_sentence(sentence)\n",
    "    # Initialise bag of words - matrix of N words, vocab matrix\n",
    "    bag = [0] * len(words)\n",
    "    \n",
    "    for s in sentence_words:\n",
    "        for i, w in enumerate(words):\n",
    "            if w == s:\n",
    "                # assign 1 if current word in vocab position\n",
    "                bag[i] = 1\n",
    "                if show_details:\n",
    "                    print(f\"Found in bag: {w}\")\n",
    "    \n",
    "    return np.array(bag)"
   ]
  },
  {
   "cell_type": "markdown",
   "metadata": {},
   "source": [
    "### Example translating sentence into bag of words"
   ]
  },
  {
   "cell_type": "code",
   "execution_count": 33,
   "metadata": {},
   "outputs": [
    {
     "name": "stdout",
     "output_type": "stream",
     "text": [
      "Found in bag: load\n",
      "Found in bag: blood\n",
      "Found in bag: press\n",
      "Found in bag: for\n",
      "Found in bag: paty\n",
      "[0 0 0 0 0 0 0 0 0 0 1 0 0 0 0 0 0 0 0 0 0 0 0 0 0 0 1 0 0 0 0 0 0 0 0 0 0\n",
      " 0 0 0 0 0 1 0 0 0 0 0 0 0 0 0 0 0 0 0 1 0 1 0 0 0 0 0 0 0 0 0 0 0 0 0 0 0\n",
      " 0 0 0 0 0 0 0 0]\n",
      "['adverse_drug', 'blood_pressure', 'blood_pressure_search', 'goodbye', 'greeting', 'hospital_search', 'options', 'pharmacy_search', 'thanks']\n"
     ]
    }
   ],
   "source": [
    "p = bow(\"Load blood pressure for patient\", words)\n",
    "print(p)\n",
    "print(classes)"
   ]
  },
  {
   "cell_type": "code",
   "execution_count": 34,
   "metadata": {},
   "outputs": [
    {
     "data": {
      "text/plain": [
       "'\\nGood practice to save trained model into pickle file to reuse to publish\\nthrough Flask REST API\\n'"
      ]
     },
     "execution_count": 34,
     "metadata": {},
     "output_type": "execute_result"
    }
   ],
   "source": [
    "'''\n",
    "Good practice to save trained model into pickle file to reuse to publish\n",
    "through Flask REST API\n",
    "'''"
   ]
  },
  {
   "cell_type": "code",
   "execution_count": 35,
   "metadata": {},
   "outputs": [
    {
     "ename": "NameError",
     "evalue": "name 'tf' is not defined",
     "output_type": "error",
     "traceback": [
      "\u001b[0;31m---------------------------------------------------------------------------\u001b[0m",
      "\u001b[0;31mNameError\u001b[0m                                 Traceback (most recent call last)",
      "\u001b[0;32m<ipython-input-35-e185e073568c>\u001b[0m in \u001b[0;36m<module>\u001b[0;34m\u001b[0m\n\u001b[1;32m      1\u001b[0m \u001b[0;31m# Use pickle to load in pre-trained model\u001b[0m\u001b[0;34m\u001b[0m\u001b[0;34m\u001b[0m\u001b[0;34m\u001b[0m\u001b[0m\n\u001b[1;32m      2\u001b[0m \u001b[0;32mglobal\u001b[0m \u001b[0mgraph\u001b[0m\u001b[0;34m\u001b[0m\u001b[0;34m\u001b[0m\u001b[0m\n\u001b[0;32m----> 3\u001b[0;31m \u001b[0mgraph\u001b[0m \u001b[0;34m=\u001b[0m \u001b[0mtf\u001b[0m\u001b[0;34m.\u001b[0m\u001b[0mget_default_graph\u001b[0m\u001b[0;34m(\u001b[0m\u001b[0;34m)\u001b[0m\u001b[0;34m\u001b[0m\u001b[0;34m\u001b[0m\u001b[0m\n\u001b[0m\u001b[1;32m      4\u001b[0m \u001b[0;34m\u001b[0m\u001b[0m\n\u001b[1;32m      5\u001b[0m \u001b[0;32mwith\u001b[0m \u001b[0mopen\u001b[0m\u001b[0;34m(\u001b[0m\u001b[0;34mf\"katana-assistant-model.pkl\"\u001b[0m\u001b[0;34m,\u001b[0m \u001b[0;34m'rb'\u001b[0m\u001b[0;34m)\u001b[0m \u001b[0;32mas\u001b[0m \u001b[0mf\u001b[0m\u001b[0;34m:\u001b[0m\u001b[0;34m\u001b[0m\u001b[0;34m\u001b[0m\u001b[0m\n",
      "\u001b[0;31mNameError\u001b[0m: name 'tf' is not defined"
     ]
    }
   ],
   "source": [
    "# Use pickle to load in pre-trained model\n",
    "global graph\n",
    "graph = tf.get_default_graph()\n",
    "\n",
    "with open(f\"katana-assistant-model.pkl\", 'rb') as f:\n",
    "    model = pickle.load(f)"
   ]
  },
  {
   "cell_type": "code",
   "execution_count": 36,
   "metadata": {},
   "outputs": [
    {
     "data": {
      "text/plain": [
       "'\\nbefore publishing model through Flask REST API, always good to run extra test\\nuse model.predict to classify user input & based on calculated\\nprobability return intent (multiple intents can be returned)\\n'"
      ]
     },
     "execution_count": 36,
     "metadata": {},
     "output_type": "execute_result"
    }
   ],
   "source": [
    "'''\n",
    "before publishing model through Flask REST API, always good to run extra test\n",
    "use model.predict to classify user input & based on calculated\n",
    "probability return intent (multiple intents can be returned)\n",
    "'''"
   ]
  },
  {
   "cell_type": "code",
   "execution_count": 47,
   "metadata": {},
   "outputs": [],
   "source": [
    "def classify_local(sentence):\n",
    "    ERROR_THRESHOLD = 0.25\n",
    "    \n",
    "    # generate probabilities from model\n",
    "    input_data = pd.DataFrame([bow(sentence, words)], dtype = float,\n",
    "                              index = ['input'])\n",
    "    # print(input_data.shape)\n",
    "    \n",
    "    results = model.predict([input_data])[0]\n",
    "    # filter predictions below a threshold & provide intent index\n",
    "    results = [[i, r] for i, r in enumerate(results) if r > ERROR_THRESHOLD]\n",
    "    # sort by strength of probability\n",
    "    results.sort(key = lambda x: x[1], reverse = True)\n",
    "    \n",
    "    return_list = []\n",
    "    for r in results:\n",
    "        # print(r)\n",
    "        return_list.append((classes[r[0]], str(r[1])))\n",
    "    # return tuple of intent & probability\n",
    "    return return_list"
   ]
  },
  {
   "cell_type": "code",
   "execution_count": 48,
   "metadata": {},
   "outputs": [
    {
     "name": "stdout",
     "output_type": "stream",
     "text": [
      "Found in bag: blood\n",
      "Found in bag: result\n",
      "Found in bag: for\n",
      "Found in bag: paty\n"
     ]
    },
    {
     "data": {
      "text/plain": [
       "[('blood_pressure_search', '0.9998901')]"
      ]
     },
     "execution_count": 48,
     "metadata": {},
     "output_type": "execute_result"
    }
   ],
   "source": [
    "classify_local('Fetch blood result for patient')"
   ]
  },
  {
   "cell_type": "markdown",
   "metadata": {},
   "source": [
    "### Publish same function through REST endpoint"
   ]
  },
  {
   "cell_type": "code",
   "execution_count": null,
   "metadata": {},
   "outputs": [],
   "source": []
  }
 ],
 "metadata": {
  "kernelspec": {
   "display_name": "Python 3",
   "language": "python",
   "name": "python3"
  },
  "language_info": {
   "codemirror_mode": {
    "name": "ipython",
    "version": 3
   },
   "file_extension": ".py",
   "mimetype": "text/x-python",
   "name": "python",
   "nbconvert_exporter": "python",
   "pygments_lexer": "ipython3",
   "version": "3.7.3"
  }
 },
 "nbformat": 4,
 "nbformat_minor": 2
}

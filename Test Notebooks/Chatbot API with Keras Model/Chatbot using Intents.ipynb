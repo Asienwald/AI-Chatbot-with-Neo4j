{
 "cells": [
  {
   "cell_type": "markdown",
   "metadata": {},
   "source": [
    "# <font color='cyan'>Chatbot API with Keras Model</font>"
   ]
  },
  {
   "cell_type": "markdown",
   "metadata": {},
   "source": [
    "### Main challenges:\n",
    "- Classify user input to recognise intent\n",
    "- keep context"
   ]
  },
  {
   "cell_type": "code",
   "execution_count": 1,
   "metadata": {},
   "outputs": [],
   "source": [
    "# Keras deep learning library to build classification model\n",
    "# Lancaster stemming library used to collapse distinct word forms\n",
    "import nltk\n",
    "from nltk.stem.lancaster import LancasterStemmer\n",
    "stemmer = LancasterStemmer()"
   ]
  },
  {
   "cell_type": "code",
   "execution_count": 2,
   "metadata": {},
   "outputs": [
    {
     "name": "stderr",
     "output_type": "stream",
     "text": [
      "Using TensorFlow backend.\n"
     ]
    }
   ],
   "source": [
    "# things we need for Tensorflow\n",
    "import numpy as np\n",
    "from keras.models import Sequential\n",
    "from keras.layers import Dense, Activation, Dropout\n",
    "from keras.optimizers import SGD\n",
    "import pandas as pd\n",
    "import pickle\n",
    "import random"
   ]
  },
  {
   "cell_type": "code",
   "execution_count": 3,
   "metadata": {},
   "outputs": [
    {
     "data": {
      "text/plain": [
       "'\\nChatbot intents & patterns to learn defined in a plain JSON file\\nClassification model can be created for small vocabulary\\nNeed to build vocabulary > patterns processed\\neach word stemmed to produce generic root > help cover more combi for inputs\\n'"
      ]
     },
     "execution_count": 3,
     "metadata": {},
     "output_type": "execute_result"
    }
   ],
   "source": [
    "'''\n",
    "Chatbot intents & patterns to learn defined in a plain JSON file\n",
    "Classification model can be created for small vocabulary\n",
    "Need to build vocabulary > patterns processed\n",
    "each word stemmed to produce generic root > help cover more combi for inputs\n",
    "'''"
   ]
  },
  {
   "cell_type": "markdown",
   "metadata": {},
   "source": [
    "### Read the JSON file"
   ]
  },
  {
   "cell_type": "code",
   "execution_count": 4,
   "metadata": {},
   "outputs": [],
   "source": [
    "import json\n",
    "\n",
    "with open('chat_intents.json') as intent_file:\n",
    "    intents = json.load(intent_file)"
   ]
  },
  {
   "cell_type": "code",
   "execution_count": 5,
   "metadata": {},
   "outputs": [
    {
     "name": "stderr",
     "output_type": "stream",
     "text": [
      "[nltk_data] Downloading package punkt to /home/lkarwei/nltk_data...\n",
      "[nltk_data]   Package punkt is already up-to-date!\n"
     ]
    },
    {
     "data": {
      "text/plain": [
       "True"
      ]
     },
     "execution_count": 5,
     "metadata": {},
     "output_type": "execute_result"
    }
   ],
   "source": [
    "nltk.download(\"punkt\")"
   ]
  },
  {
   "cell_type": "code",
   "execution_count": 6,
   "metadata": {},
   "outputs": [
    {
     "name": "stdout",
     "output_type": "stream",
     "text": [
      "61 documents [(['are', 'cca', 'compulsory'], 'cca_compulsory'), (['need', 'to', 'join', 'a', 'cca'], 'cca_compulsory'), (['not', 'join', 'a', 'club'], 'cca_compulsory'), (['have', 'to', 'join', 'a', 'cca'], 'cca_compulsory'), (['necessary', 'to', 'join', 'a', 'cca'], 'cca_compulsory'), (['how', 'to', 'apply', 'for', 'a', 'cca'], 'cca_application'), (['how', 'to', 'join', 'cca'], 'cca_application'), (['register', 'for', 'a', 'cca'], 'cca_application'), (['how', 'to', 'enter', 'a', 'club'], 'cca_application'), (['quit', 'cca'], 'cca_quit'), (['leave', 'my', 'club', 'or', 'cca'], 'cca_quit'), (['retire', 'from', 'my', 'cca'], 'cca_quit'), (['how', 'to', 'create', 'cca'], 'cca_creation'), (['make', 'new', 'cca'], 'cca_creation'), (['start', 'a', 'cca'], 'cca_creation'), (['register', 'for', 'a', 'new', 'cca', 'or', 'club'], 'cca_creation'), (['benefits', 'of', 'cca'], 'cca_benefits'), (['why', 'do', 'i', 'need', 'to', 'join', 'a', 'cca'], 'cca_benefits'), (['is', 'cca', 'important'], 'cca_benefits'), (['why', 'join', 'a', 'club'], 'cca_benefits'), (['what', 'ccas', 'are', 'there'], 'cca_list'), (['what', 'cca', 'do', 'you', 'have'], 'cca_list'), (['do', 'you', 'have', 'a', 'specific', 'cca', 'or', 'club'], 'cca_list'), (['what', 'ccas'], 'cca_list'), (['what', 'clubs'], 'cca_list'), (['what', 'are', 'cca', 'points'], 'cca_points_about'), (['what', 'is', 'the', 'grading', 'system', 'for'], 'cca_points_about'), (['what', 'are', 'cca', 'grades'], 'cca_points_about'), (['what', 'is', 'gold', ',', 'silver', 'or', 'bronze'], 'cca_points_about'), (['how', 'are', 'points', 'awarded'], 'cca_points_how'), (['how', 'will', 'i', 'get', 'my', 'cca', 'grades'], 'cca_points_how'), (['how', 'do', 'i', 'redeem', 'my', 'cca', 'points'], 'cca_points_how'), (['how', 'does', 'grading', 'work'], 'cca_points_how'), (['how', 'are', 'points', 'consolidated'], 'cca_points_how'), (['what', 'cca', 'components', 'are', 'there'], 'cca_components'), (['what', 'kind', 'of', 'points'], 'cca_components'), (['different', 'types', 'of', 'cca', 'points'], 'cca_components'), (['tell', 'me', 'more', 'about', 'each', 'component'], 'cca_components'), (['what', 'is', 'sports', 'for', 'life'], 'sfl_what'), (['sfl'], 'sfl_what'), (['tell', 'me', 'more', 'about', 'sfl'], 'sfl_what'), (['what', 'is', 'sfl', 'pass', 'criteria'], 'sfl_what'), (['how', 'does', 'sfl', 'work'], 'sfl_what'), (['how', 'to', 'register', 'for', 'sfl'], 'sfl_register'), (['sign', 'up', 'for', 'sfl', 'sports', 'for', 'life'], 'sfl_register'), (['join', 'sports', 'for', 'life', 'sfl'], 'sfl_register'), (['what', 'are', 'the', 'modules', 'in', 'sfl'], 'sfl_modules'), (['what', 'sports', 'in', 'sports', 'for', 'life', 'sfl'], 'sfl_modules'), (['list', 'of', 'activities', 'in', 'sfl'], 'sfl_modules'), (['what', 'day', 'is', 'sfl', 'on'], 'sfl_schedule'), (['sfl', 'schedule'], 'sfl_schedule'), (['where', 'is', 'sfl'], 'sfl_schedule'), (['sfl', 'venues'], 'sfl_schedule'), (['what', 'sports', 'facilities', 'in', 'sp'], 'cca_facilities'), (['sports', 'facilities'], 'cca_facilities'), (['courts'], 'cca_facilities'), (['sports', 'venues'], 'cca_facilities'), (['badminton', 'courts'], 'cca_facilities'), (['tennis', 'courts'], 'cca_facilities'), (['basketball', 'court'], 'cca_facilities'), (['football', 'field'], 'cca_facilities')]\n",
      "14 classes ['cca_application', 'cca_benefits', 'cca_components', 'cca_compulsory', 'cca_creation', 'cca_facilities', 'cca_list', 'cca_points_about', 'cca_points_how', 'cca_quit', 'sfl_modules', 'sfl_register', 'sfl_schedule', 'sfl_what']\n",
      "85 unique stemmed words [',', 'a', 'about', 'act', 'apply', 'ar', 'award', 'badminton', 'basketbal', 'benefit', 'bronz', 'cca', 'club', 'compon', 'compuls', 'consolid', 'court', 'cre', 'criter', 'day', 'diff', 'do', 'doe', 'each', 'ent', 'facil', 'field', 'footbal', 'for', 'from', 'get', 'gold', 'grad', 'hav', 'how', 'i', 'import', 'in', 'is', 'join', 'kind', 'leav', 'lif', 'list', 'mak', 'me', 'mod', 'mor', 'my', 'necess', 'nee', 'new', 'not', 'of', 'on', 'or', 'pass', 'point', 'quit', 'redeem', 'reg', 'retir', 'schedule', 'sfl', 'sign', 'silv', 'sp', 'spec', 'sport', 'start', 'system', 'tel', 'ten', 'the', 'ther', 'to', 'typ', 'up', 'venu', 'what', 'wher', 'why', 'wil', 'work', 'you']\n"
     ]
    }
   ],
   "source": [
    "words = []\n",
    "classes = []\n",
    "documents = []\n",
    "ignore_words = ['?']\n",
    "\n",
    "#loop through each sentence in our intents patterns\n",
    "for intent in intents['intents']:\n",
    "    for pattern in intent['patterns']:\n",
    "        # tokenize each word in sentence\n",
    "        w = nltk.word_tokenize(pattern)\n",
    "        \n",
    "        # add to words list\n",
    "        words.extend(w)\n",
    "        \n",
    "        # add documents in corpus\n",
    "        documents.append((w, intent['tag']))\n",
    "        \n",
    "        # add to our classes list\n",
    "        if intent['tag'] not in classes:\n",
    "            classes.append(intent['tag'])\n",
    "\n",
    "# stem & lower ea word & remove dupes\n",
    "words = [stemmer.stem(w.lower()) for w in words if w not in ignore_words]\n",
    "words = sorted(list(set(words)))\n",
    "\n",
    "# sort classes\n",
    "classes = sorted(list(set(classes)))\n",
    "\n",
    "# documents = combination between patterns & intents\n",
    "print(len(documents), 'documents', documents)\n",
    "# classes = intents\n",
    "print(len(classes), \"classes\", classes)\n",
    "# words = all words, vocab\n",
    "print(len(words), \"unique stemmed words\", words)"
   ]
  },
  {
   "cell_type": "code",
   "execution_count": 7,
   "metadata": {},
   "outputs": [
    {
     "data": {
      "text/plain": [
       "\"\\nTraining won't be run based on vocab of words (words meaningless for machine)\\nNeed to translate words into bags of words with arr containing 0/1\\n\\nArr length will be equal to vocab size & 1 set when word from current\\npattern is located in a given position\\n\""
      ]
     },
     "execution_count": 7,
     "metadata": {},
     "output_type": "execute_result"
    }
   ],
   "source": [
    "'''\n",
    "Training won't be run based on vocab of words (words meaningless for machine)\n",
    "Need to translate words into bags of words with arr containing 0/1\n",
    "\n",
    "Arr length will be equal to vocab size & 1 set when word from current\n",
    "pattern is located in a given position\n",
    "'''"
   ]
  },
  {
   "cell_type": "code",
   "execution_count": 8,
   "metadata": {},
   "outputs": [],
   "source": [
    "# create our training data\n",
    "training = []\n",
    "# create an empty array for our output\n",
    "output_empty = [0] * len(classes)"
   ]
  },
  {
   "cell_type": "code",
   "execution_count": 9,
   "metadata": {},
   "outputs": [],
   "source": [
    "# training set, bag of words for ea sentence\n",
    "for doc in documents:\n",
    "    # initialise our bag of words\n",
    "    bag = []\n",
    "    #list tokenized words for the pattern\n",
    "    pattern_words = doc[0]\n",
    "    # stem ea word - create base word to represent related words\n",
    "    # Please read stemming VS lemmatization\n",
    "    pattern_words = [stemmer.stem(word.lower()) for word in pattern_words]\n",
    "    \n",
    "    # create our bag of words arr with 1, if word match found in\n",
    "    # current pattern\n",
    "    length = 0\n",
    "    for w in words:\n",
    "        # bag.append(1) if w in pattern_words else bag.append(0)\n",
    "        if w in pattern_words:\n",
    "          bag.append(1)\n",
    "          length += 1\n",
    "        else:\n",
    "          bag.append(0)\n",
    "        \n",
    "    # output is '0' for ea tag & '1' for current tag (for ea pattern)\n",
    "    # output_row is basically the class/intents it falls in\n",
    "    output_row = list(output_empty)\n",
    "    output_row[classes.index(doc[1])] = 1\n",
    "    \n",
    "    # append length of sentence into training data\n",
    "    # bag.append(length)\n",
    "    \n",
    "    training.append([bag, output_row])\n",
    "    \n",
    "    # print(training)"
   ]
  },
  {
   "cell_type": "code",
   "execution_count": 10,
   "metadata": {},
   "outputs": [],
   "source": [
    "# shuffle our features & turn into np.array\n",
    "random.shuffle(training)\n",
    "training = np.array(training)"
   ]
  },
  {
   "cell_type": "code",
   "execution_count": 11,
   "metadata": {},
   "outputs": [
    {
     "name": "stdout",
     "output_type": "stream",
     "text": [
      "[[0, 0, 0, 0, 0, 0, 0, 0, 0, 0, 0, 0, 0, 0, 0, 0, 1, 0, 0, 0, 0, 0, 0, 0, 0, 0, 0, 0, 0, 0, 0, 0, 0, 0, 0, 0, 0, 0, 0, 0, 0, 0, 0, 0, 0, 0, 0, 0, 0, 0, 0, 0, 0, 0, 0, 0, 0, 0, 0, 0, 0, 0, 0, 0, 0, 0, 0, 0, 0, 0, 0, 0, 0, 0, 0, 0, 0, 0, 0, 0, 0, 0, 0, 0, 0], [0, 0, 0, 0, 0, 0, 0, 0, 0, 0, 0, 0, 0, 0, 0, 0, 0, 0, 0, 0, 0, 0, 0, 0, 0, 0, 0, 0, 1, 0, 0, 0, 0, 0, 0, 0, 0, 0, 0, 1, 0, 0, 1, 0, 0, 0, 0, 0, 0, 0, 0, 0, 0, 0, 0, 0, 0, 0, 0, 0, 0, 0, 0, 1, 0, 0, 0, 0, 1, 0, 0, 0, 0, 0, 0, 0, 0, 0, 0, 0, 0, 0, 0, 0, 0], [0, 0, 0, 0, 0, 0, 0, 0, 0, 0, 0, 0, 0, 0, 0, 0, 0, 0, 0, 1, 0, 0, 0, 0, 0, 0, 0, 0, 0, 0, 0, 0, 0, 0, 0, 0, 0, 0, 1, 0, 0, 0, 0, 0, 0, 0, 0, 0, 0, 0, 0, 0, 0, 0, 1, 0, 0, 0, 0, 0, 0, 0, 0, 1, 0, 0, 0, 0, 0, 0, 0, 0, 0, 0, 0, 0, 0, 0, 0, 1, 0, 0, 0, 0, 0], [0, 0, 0, 0, 0, 0, 0, 0, 0, 0, 0, 0, 0, 0, 0, 0, 0, 0, 0, 0, 0, 0, 0, 0, 0, 0, 0, 0, 1, 0, 0, 0, 0, 0, 0, 0, 0, 0, 1, 0, 0, 0, 1, 0, 0, 0, 0, 0, 0, 0, 0, 0, 0, 0, 0, 0, 0, 0, 0, 0, 0, 0, 0, 0, 0, 0, 0, 0, 1, 0, 0, 0, 0, 0, 0, 0, 0, 0, 0, 1, 0, 0, 0, 0, 0], [0, 0, 0, 0, 0, 1, 0, 0, 0, 0, 0, 1, 0, 0, 1, 0, 0, 0, 0, 0, 0, 0, 0, 0, 0, 0, 0, 0, 0, 0, 0, 0, 0, 0, 0, 0, 0, 0, 0, 0, 0, 0, 0, 0, 0, 0, 0, 0, 0, 0, 0, 0, 0, 0, 0, 0, 0, 0, 0, 0, 0, 0, 0, 0, 0, 0, 0, 0, 0, 0, 0, 0, 0, 0, 0, 0, 0, 0, 0, 0, 0, 0, 0, 0, 0], [0, 1, 0, 0, 0, 0, 0, 0, 0, 0, 0, 1, 0, 0, 0, 0, 0, 0, 0, 0, 0, 0, 0, 0, 0, 0, 0, 0, 0, 0, 0, 0, 0, 0, 0, 0, 0, 0, 0, 1, 0, 0, 0, 0, 0, 0, 0, 0, 0, 0, 1, 0, 0, 0, 0, 0, 0, 0, 0, 0, 0, 0, 0, 0, 0, 0, 0, 0, 0, 0, 0, 0, 0, 0, 0, 1, 0, 0, 0, 0, 0, 0, 0, 0, 0], [0, 1, 0, 0, 0, 0, 0, 0, 0, 0, 0, 1, 0, 0, 0, 0, 0, 0, 0, 0, 0, 0, 0, 0, 0, 0, 0, 0, 0, 0, 0, 0, 0, 0, 0, 0, 0, 0, 0, 0, 0, 0, 0, 0, 0, 0, 0, 0, 0, 0, 0, 0, 0, 0, 0, 0, 0, 0, 0, 0, 0, 0, 0, 0, 0, 0, 0, 0, 0, 1, 0, 0, 0, 0, 0, 0, 0, 0, 0, 0, 0, 0, 0, 0, 0], [0, 0, 0, 0, 0, 0, 0, 0, 0, 0, 0, 0, 0, 0, 0, 0, 0, 0, 0, 0, 0, 0, 0, 0, 0, 0, 0, 0, 0, 0, 0, 0, 0, 0, 0, 0, 0, 0, 0, 0, 1, 0, 0, 0, 0, 0, 0, 0, 0, 0, 0, 0, 0, 1, 0, 0, 0, 1, 0, 0, 0, 0, 0, 0, 0, 0, 0, 0, 0, 0, 0, 0, 0, 0, 0, 0, 0, 0, 0, 1, 0, 0, 0, 0, 0], [0, 0, 0, 0, 0, 0, 0, 1, 0, 0, 0, 0, 0, 0, 0, 0, 1, 0, 0, 0, 0, 0, 0, 0, 0, 0, 0, 0, 0, 0, 0, 0, 0, 0, 0, 0, 0, 0, 0, 0, 0, 0, 0, 0, 0, 0, 0, 0, 0, 0, 0, 0, 0, 0, 0, 0, 0, 0, 0, 0, 0, 0, 0, 0, 0, 0, 0, 0, 0, 0, 0, 0, 0, 0, 0, 0, 0, 0, 0, 0, 0, 0, 0, 0, 0], [0, 0, 0, 0, 0, 0, 0, 0, 0, 0, 0, 1, 0, 0, 0, 0, 0, 0, 0, 0, 1, 0, 0, 0, 0, 0, 0, 0, 0, 0, 0, 0, 0, 0, 0, 0, 0, 0, 0, 0, 0, 0, 0, 0, 0, 0, 0, 0, 0, 0, 0, 0, 0, 1, 0, 0, 0, 1, 0, 0, 0, 0, 0, 0, 0, 0, 0, 0, 0, 0, 0, 0, 0, 0, 0, 0, 1, 0, 0, 0, 0, 0, 0, 0, 0], [0, 0, 0, 0, 0, 1, 0, 0, 0, 0, 0, 0, 0, 0, 0, 0, 0, 0, 0, 0, 0, 0, 0, 0, 0, 0, 0, 0, 0, 0, 0, 0, 0, 0, 0, 0, 0, 1, 0, 0, 0, 0, 0, 0, 0, 0, 1, 0, 0, 0, 0, 0, 0, 0, 0, 0, 0, 0, 0, 0, 0, 0, 0, 1, 0, 0, 0, 0, 0, 0, 0, 0, 0, 1, 0, 0, 0, 0, 0, 1, 0, 0, 0, 0, 0], [0, 0, 0, 0, 0, 1, 0, 0, 0, 0, 0, 1, 0, 0, 0, 0, 0, 0, 0, 0, 0, 0, 0, 0, 0, 0, 0, 0, 0, 0, 0, 0, 0, 0, 0, 0, 0, 0, 0, 0, 0, 0, 0, 0, 0, 0, 0, 0, 0, 0, 0, 0, 0, 0, 0, 0, 0, 0, 0, 0, 0, 0, 0, 0, 0, 0, 0, 0, 0, 0, 0, 0, 0, 0, 1, 0, 0, 0, 0, 1, 0, 0, 0, 0, 0], [0, 0, 0, 0, 0, 0, 0, 0, 0, 0, 0, 1, 0, 0, 0, 0, 0, 0, 0, 0, 0, 0, 0, 0, 0, 0, 0, 0, 0, 0, 0, 0, 0, 0, 0, 0, 0, 0, 0, 0, 0, 0, 0, 0, 0, 0, 0, 0, 0, 0, 0, 0, 0, 0, 0, 0, 0, 0, 1, 0, 0, 0, 0, 0, 0, 0, 0, 0, 0, 0, 0, 0, 0, 0, 0, 0, 0, 0, 0, 0, 0, 0, 0, 0, 0], [0, 0, 0, 0, 0, 1, 0, 0, 0, 0, 0, 1, 0, 0, 0, 0, 0, 0, 0, 0, 0, 0, 0, 0, 0, 0, 0, 0, 0, 0, 0, 0, 0, 0, 0, 0, 0, 0, 0, 0, 0, 0, 0, 0, 0, 0, 0, 0, 0, 0, 0, 0, 0, 0, 0, 0, 0, 1, 0, 0, 0, 0, 0, 0, 0, 0, 0, 0, 0, 0, 0, 0, 0, 0, 0, 0, 0, 0, 0, 1, 0, 0, 0, 0, 0], [0, 1, 0, 0, 0, 0, 0, 0, 0, 0, 0, 0, 1, 0, 0, 0, 0, 0, 0, 0, 0, 0, 0, 0, 0, 0, 0, 0, 0, 0, 0, 0, 0, 0, 0, 0, 0, 0, 0, 1, 0, 0, 0, 0, 0, 0, 0, 0, 0, 0, 0, 0, 0, 0, 0, 0, 0, 0, 0, 0, 0, 0, 0, 0, 0, 0, 0, 0, 0, 0, 0, 0, 0, 0, 0, 0, 0, 0, 0, 0, 0, 1, 0, 0, 0], [0, 0, 1, 0, 0, 0, 0, 0, 0, 0, 0, 0, 0, 0, 0, 0, 0, 0, 0, 0, 0, 0, 0, 0, 0, 0, 0, 0, 0, 0, 0, 0, 0, 0, 0, 0, 0, 0, 0, 0, 0, 0, 0, 0, 0, 1, 0, 1, 0, 0, 0, 0, 0, 0, 0, 0, 0, 0, 0, 0, 0, 0, 0, 1, 0, 0, 0, 0, 0, 0, 0, 1, 0, 0, 0, 0, 0, 0, 0, 0, 0, 0, 0, 0, 0], [0, 0, 0, 0, 0, 0, 0, 0, 0, 0, 0, 0, 0, 0, 0, 0, 0, 0, 0, 0, 0, 0, 0, 0, 0, 0, 0, 0, 0, 0, 0, 0, 0, 0, 0, 0, 0, 0, 1, 0, 0, 0, 0, 0, 0, 0, 0, 0, 0, 0, 0, 0, 0, 0, 0, 0, 0, 0, 0, 0, 0, 0, 0, 1, 0, 0, 0, 0, 0, 0, 0, 0, 0, 0, 0, 0, 0, 0, 0, 0, 1, 0, 0, 0, 0], [0, 0, 0, 0, 0, 0, 0, 0, 0, 0, 0, 0, 1, 0, 0, 0, 0, 0, 0, 0, 0, 0, 0, 0, 0, 0, 0, 0, 0, 0, 0, 0, 0, 0, 0, 0, 0, 0, 0, 0, 0, 0, 0, 0, 0, 0, 0, 0, 0, 0, 0, 0, 0, 0, 0, 0, 0, 0, 0, 0, 0, 0, 0, 0, 0, 0, 0, 0, 0, 0, 0, 0, 0, 0, 0, 0, 0, 0, 0, 1, 0, 0, 0, 0, 0], [0, 0, 0, 0, 0, 0, 0, 0, 0, 0, 0, 0, 0, 0, 0, 0, 0, 0, 0, 0, 0, 0, 0, 0, 0, 0, 0, 0, 1, 0, 0, 0, 1, 0, 0, 0, 0, 0, 1, 0, 0, 0, 0, 0, 0, 0, 0, 0, 0, 0, 0, 0, 0, 0, 0, 0, 0, 0, 0, 0, 0, 0, 0, 0, 0, 0, 0, 0, 0, 0, 1, 0, 0, 1, 0, 0, 0, 0, 0, 1, 0, 0, 0, 0, 0], [0, 0, 0, 0, 0, 0, 0, 0, 0, 0, 0, 1, 0, 0, 0, 0, 0, 1, 0, 0, 0, 0, 0, 0, 0, 0, 0, 0, 0, 0, 0, 0, 0, 0, 1, 0, 0, 0, 0, 0, 0, 0, 0, 0, 0, 0, 0, 0, 0, 0, 0, 0, 0, 0, 0, 0, 0, 0, 0, 0, 0, 0, 0, 0, 0, 0, 0, 0, 0, 0, 0, 0, 0, 0, 0, 1, 0, 0, 0, 0, 0, 0, 0, 0, 0], [0, 0, 0, 0, 0, 0, 0, 0, 0, 0, 0, 0, 0, 0, 0, 0, 0, 0, 0, 0, 0, 0, 0, 0, 0, 0, 0, 0, 0, 0, 0, 0, 0, 0, 0, 0, 0, 0, 0, 0, 0, 0, 0, 0, 0, 0, 0, 0, 0, 0, 0, 0, 0, 0, 0, 0, 0, 0, 0, 0, 0, 0, 0, 1, 0, 0, 0, 0, 0, 0, 0, 0, 0, 0, 0, 0, 0, 0, 0, 0, 0, 0, 0, 0, 0], [0, 0, 0, 0, 0, 0, 0, 0, 0, 0, 0, 0, 0, 0, 0, 0, 0, 0, 0, 0, 0, 0, 0, 0, 0, 0, 0, 0, 1, 0, 0, 0, 0, 0, 0, 0, 0, 0, 0, 0, 0, 0, 1, 0, 0, 0, 0, 0, 0, 0, 0, 0, 0, 0, 0, 0, 0, 0, 0, 0, 0, 0, 0, 1, 1, 0, 0, 0, 1, 0, 0, 0, 0, 0, 0, 0, 0, 1, 0, 0, 0, 0, 0, 0, 0], [0, 0, 0, 0, 0, 0, 0, 0, 0, 0, 0, 0, 0, 0, 0, 0, 0, 0, 0, 0, 0, 0, 0, 0, 0, 1, 0, 0, 0, 0, 0, 0, 0, 0, 0, 0, 0, 1, 0, 0, 0, 0, 0, 0, 0, 0, 0, 0, 0, 0, 0, 0, 0, 0, 0, 0, 0, 0, 0, 0, 0, 0, 0, 0, 0, 0, 1, 0, 1, 0, 0, 0, 0, 0, 0, 0, 0, 0, 0, 1, 0, 0, 0, 0, 0], [0, 0, 0, 0, 0, 0, 0, 0, 0, 0, 0, 1, 0, 0, 0, 0, 0, 0, 0, 0, 0, 0, 0, 0, 0, 0, 0, 0, 0, 1, 0, 0, 0, 0, 0, 0, 0, 0, 0, 0, 0, 0, 0, 0, 0, 0, 0, 0, 1, 0, 0, 0, 0, 0, 0, 0, 0, 0, 0, 0, 0, 1, 0, 0, 0, 0, 0, 0, 0, 0, 0, 0, 0, 0, 0, 0, 0, 0, 0, 0, 0, 0, 0, 0, 0], [0, 1, 0, 0, 0, 0, 0, 0, 0, 0, 0, 1, 0, 0, 0, 0, 0, 0, 0, 0, 0, 0, 0, 0, 0, 0, 0, 0, 0, 0, 0, 0, 0, 1, 0, 0, 0, 0, 0, 1, 0, 0, 0, 0, 0, 0, 0, 0, 0, 0, 0, 0, 0, 0, 0, 0, 0, 0, 0, 0, 0, 0, 0, 0, 0, 0, 0, 0, 0, 0, 0, 0, 0, 0, 0, 1, 0, 0, 0, 0, 0, 0, 0, 0, 0], [0, 1, 0, 0, 0, 0, 0, 0, 0, 0, 0, 0, 1, 0, 0, 0, 0, 0, 0, 0, 0, 0, 0, 0, 1, 0, 0, 0, 0, 0, 0, 0, 0, 0, 1, 0, 0, 0, 0, 0, 0, 0, 0, 0, 0, 0, 0, 0, 0, 0, 0, 0, 0, 0, 0, 0, 0, 0, 0, 0, 0, 0, 0, 0, 0, 0, 0, 0, 0, 0, 0, 0, 0, 0, 0, 1, 0, 0, 0, 0, 0, 0, 0, 0, 0], [0, 0, 0, 0, 0, 1, 0, 0, 0, 0, 0, 1, 0, 0, 0, 0, 0, 0, 0, 0, 0, 0, 0, 0, 0, 0, 0, 0, 0, 0, 0, 0, 1, 0, 0, 0, 0, 0, 0, 0, 0, 0, 0, 0, 0, 0, 0, 0, 0, 0, 0, 0, 0, 0, 0, 0, 0, 0, 0, 0, 0, 0, 0, 0, 0, 0, 0, 0, 0, 0, 0, 0, 0, 0, 0, 0, 0, 0, 0, 1, 0, 0, 0, 0, 0], [0, 0, 0, 0, 0, 0, 0, 0, 1, 0, 0, 0, 0, 0, 0, 0, 1, 0, 0, 0, 0, 0, 0, 0, 0, 0, 0, 0, 0, 0, 0, 0, 0, 0, 0, 0, 0, 0, 0, 0, 0, 0, 0, 0, 0, 0, 0, 0, 0, 0, 0, 0, 0, 0, 0, 0, 0, 0, 0, 0, 0, 0, 0, 0, 0, 0, 0, 0, 0, 0, 0, 0, 0, 0, 0, 0, 0, 0, 0, 0, 0, 0, 0, 0, 0], [0, 1, 0, 0, 0, 0, 0, 0, 0, 0, 0, 1, 0, 0, 0, 0, 0, 0, 0, 0, 0, 0, 0, 0, 0, 0, 0, 0, 1, 0, 0, 0, 0, 0, 0, 0, 0, 0, 0, 0, 0, 0, 0, 0, 0, 0, 0, 0, 0, 0, 0, 0, 0, 0, 0, 0, 0, 0, 0, 0, 1, 0, 0, 0, 0, 0, 0, 0, 0, 0, 0, 0, 0, 0, 0, 0, 0, 0, 0, 0, 0, 0, 0, 0, 0], [0, 0, 0, 1, 0, 0, 0, 0, 0, 0, 0, 0, 0, 0, 0, 0, 0, 0, 0, 0, 0, 0, 0, 0, 0, 0, 0, 0, 0, 0, 0, 0, 0, 0, 0, 0, 0, 1, 0, 0, 0, 0, 0, 1, 0, 0, 0, 0, 0, 0, 0, 0, 0, 1, 0, 0, 0, 0, 0, 0, 0, 0, 0, 1, 0, 0, 0, 0, 0, 0, 0, 0, 0, 0, 0, 0, 0, 0, 0, 0, 0, 0, 0, 0, 0], [0, 0, 0, 0, 0, 0, 0, 0, 0, 0, 0, 1, 0, 0, 0, 0, 0, 0, 0, 0, 0, 0, 0, 0, 0, 0, 0, 0, 0, 0, 0, 0, 0, 0, 0, 0, 1, 0, 1, 0, 0, 0, 0, 0, 0, 0, 0, 0, 0, 0, 0, 0, 0, 0, 0, 0, 0, 0, 0, 0, 0, 0, 0, 0, 0, 0, 0, 0, 0, 0, 0, 0, 0, 0, 0, 0, 0, 0, 0, 0, 0, 0, 0, 0, 0], [0, 0, 0, 0, 0, 0, 0, 0, 0, 0, 0, 0, 0, 0, 0, 0, 0, 0, 0, 0, 0, 0, 0, 0, 0, 0, 1, 1, 0, 0, 0, 0, 0, 0, 0, 0, 0, 0, 0, 0, 0, 0, 0, 0, 0, 0, 0, 0, 0, 0, 0, 0, 0, 0, 0, 0, 0, 0, 0, 0, 0, 0, 0, 0, 0, 0, 0, 0, 0, 0, 0, 0, 0, 0, 0, 0, 0, 0, 0, 0, 0, 0, 0, 0, 0], [0, 0, 0, 0, 0, 0, 0, 0, 0, 0, 0, 1, 0, 0, 0, 0, 0, 0, 0, 0, 0, 1, 0, 0, 0, 0, 0, 0, 0, 0, 0, 0, 0, 0, 1, 1, 0, 0, 0, 0, 0, 0, 0, 0, 0, 0, 0, 0, 1, 0, 0, 0, 0, 0, 0, 0, 0, 1, 0, 1, 0, 0, 0, 0, 0, 0, 0, 0, 0, 0, 0, 0, 0, 0, 0, 0, 0, 0, 0, 0, 0, 0, 0, 0, 0], [0, 0, 0, 0, 0, 1, 1, 0, 0, 0, 0, 0, 0, 0, 0, 0, 0, 0, 0, 0, 0, 0, 0, 0, 0, 0, 0, 0, 0, 0, 0, 0, 0, 0, 1, 0, 0, 0, 0, 0, 0, 0, 0, 0, 0, 0, 0, 0, 0, 0, 0, 0, 0, 0, 0, 0, 0, 1, 0, 0, 0, 0, 0, 0, 0, 0, 0, 0, 0, 0, 0, 0, 0, 0, 0, 0, 0, 0, 0, 0, 0, 0, 0, 0, 0], [0, 0, 0, 0, 0, 0, 0, 0, 0, 0, 0, 0, 0, 0, 0, 0, 0, 0, 0, 0, 0, 0, 0, 0, 0, 0, 0, 0, 1, 0, 0, 0, 0, 0, 0, 0, 0, 1, 0, 0, 0, 0, 1, 0, 0, 0, 0, 0, 0, 0, 0, 0, 0, 0, 0, 0, 0, 0, 0, 0, 0, 0, 0, 1, 0, 0, 0, 0, 1, 0, 0, 0, 0, 0, 0, 0, 0, 0, 0, 1, 0, 0, 0, 0, 0], [0, 0, 0, 0, 0, 0, 0, 0, 0, 0, 0, 1, 0, 0, 0, 0, 0, 0, 0, 0, 0, 0, 0, 0, 0, 0, 0, 0, 0, 0, 1, 0, 1, 0, 1, 1, 0, 0, 0, 0, 0, 0, 0, 0, 0, 0, 0, 0, 1, 0, 0, 0, 0, 0, 0, 0, 0, 0, 0, 0, 0, 0, 0, 0, 0, 0, 0, 0, 0, 0, 0, 0, 0, 0, 0, 0, 0, 0, 0, 0, 0, 0, 1, 0, 0], [0, 0, 0, 0, 0, 0, 0, 0, 0, 0, 0, 0, 0, 0, 0, 0, 0, 0, 0, 0, 0, 0, 1, 0, 0, 0, 0, 0, 0, 0, 0, 0, 0, 0, 1, 0, 0, 0, 0, 0, 0, 0, 0, 0, 0, 0, 0, 0, 0, 0, 0, 0, 0, 0, 0, 0, 0, 0, 0, 0, 0, 0, 0, 1, 0, 0, 0, 0, 0, 0, 0, 0, 0, 0, 0, 0, 0, 0, 0, 0, 0, 0, 0, 1, 0], [0, 0, 1, 0, 0, 0, 0, 0, 0, 0, 0, 0, 0, 1, 0, 0, 0, 0, 0, 0, 0, 0, 0, 1, 0, 0, 0, 0, 0, 0, 0, 0, 0, 0, 0, 0, 0, 0, 0, 0, 0, 0, 0, 0, 0, 1, 0, 1, 0, 0, 0, 0, 0, 0, 0, 0, 0, 0, 0, 0, 0, 0, 0, 0, 0, 0, 0, 0, 0, 0, 0, 1, 0, 0, 0, 0, 0, 0, 0, 0, 0, 0, 0, 0, 0], [0, 0, 0, 0, 0, 0, 0, 0, 0, 0, 0, 0, 0, 0, 0, 0, 1, 0, 0, 0, 0, 0, 0, 0, 0, 0, 0, 0, 0, 0, 0, 0, 0, 0, 0, 0, 0, 0, 0, 0, 0, 0, 0, 0, 0, 0, 0, 0, 0, 0, 0, 0, 0, 0, 0, 0, 0, 0, 0, 0, 0, 0, 0, 0, 0, 0, 0, 0, 0, 0, 0, 0, 1, 0, 0, 0, 0, 0, 0, 0, 0, 0, 0, 0, 0], [0, 0, 0, 0, 0, 0, 0, 0, 0, 0, 0, 1, 0, 0, 0, 0, 0, 0, 0, 0, 0, 0, 0, 0, 0, 0, 0, 0, 0, 0, 0, 0, 0, 0, 0, 0, 0, 0, 0, 0, 0, 0, 0, 0, 0, 0, 0, 0, 0, 0, 0, 0, 0, 0, 0, 0, 0, 0, 0, 0, 0, 0, 0, 0, 0, 0, 0, 0, 0, 0, 0, 0, 0, 0, 0, 0, 0, 0, 0, 1, 0, 0, 0, 0, 0], [0, 0, 0, 0, 0, 0, 0, 0, 0, 0, 0, 0, 0, 0, 0, 0, 0, 0, 0, 0, 0, 0, 1, 0, 0, 0, 0, 0, 0, 0, 0, 0, 1, 0, 1, 0, 0, 0, 0, 0, 0, 0, 0, 0, 0, 0, 0, 0, 0, 0, 0, 0, 0, 0, 0, 0, 0, 0, 0, 0, 0, 0, 0, 0, 0, 0, 0, 0, 0, 0, 0, 0, 0, 0, 0, 0, 0, 0, 0, 0, 0, 0, 0, 1, 0], [0, 0, 0, 0, 0, 0, 0, 0, 0, 0, 0, 1, 0, 0, 0, 0, 0, 0, 0, 0, 0, 0, 0, 0, 0, 0, 0, 0, 0, 0, 0, 0, 0, 0, 0, 0, 0, 0, 0, 0, 0, 0, 0, 0, 1, 0, 0, 0, 0, 0, 0, 1, 0, 0, 0, 0, 0, 0, 0, 0, 0, 0, 0, 0, 0, 0, 0, 0, 0, 0, 0, 0, 0, 0, 0, 0, 0, 0, 0, 0, 0, 0, 0, 0, 0], [0, 1, 0, 0, 0, 0, 0, 0, 0, 0, 0, 1, 1, 0, 0, 0, 0, 0, 0, 0, 0, 1, 0, 0, 0, 0, 0, 0, 0, 0, 0, 0, 0, 1, 0, 0, 0, 0, 0, 0, 0, 0, 0, 0, 0, 0, 0, 0, 0, 0, 0, 0, 0, 0, 0, 1, 0, 0, 0, 0, 0, 0, 0, 0, 0, 0, 0, 1, 0, 0, 0, 0, 0, 0, 0, 0, 0, 0, 0, 0, 0, 0, 0, 0, 1], [0, 1, 0, 0, 0, 0, 0, 0, 0, 0, 0, 1, 0, 0, 0, 0, 0, 0, 0, 0, 0, 1, 0, 0, 0, 0, 0, 0, 0, 0, 0, 0, 0, 0, 0, 1, 0, 0, 0, 1, 0, 0, 0, 0, 0, 0, 0, 0, 0, 0, 1, 0, 0, 0, 0, 0, 0, 0, 0, 0, 0, 0, 0, 0, 0, 0, 0, 0, 0, 0, 0, 0, 0, 0, 0, 1, 0, 0, 0, 0, 0, 1, 0, 0, 0], [0, 1, 0, 0, 0, 0, 0, 0, 0, 0, 0, 1, 1, 0, 0, 0, 0, 0, 0, 0, 0, 0, 0, 0, 0, 0, 0, 0, 1, 0, 0, 0, 0, 0, 0, 0, 0, 0, 0, 0, 0, 0, 0, 0, 0, 0, 0, 0, 0, 0, 0, 1, 0, 0, 0, 1, 0, 0, 0, 0, 1, 0, 0, 0, 0, 0, 0, 0, 0, 0, 0, 0, 0, 0, 0, 0, 0, 0, 0, 0, 0, 0, 0, 0, 0], [0, 0, 0, 0, 0, 0, 0, 0, 0, 0, 0, 0, 0, 0, 0, 0, 0, 0, 0, 0, 0, 0, 0, 0, 0, 0, 0, 0, 0, 0, 0, 0, 0, 0, 0, 0, 0, 0, 0, 0, 0, 0, 0, 0, 0, 0, 0, 0, 0, 0, 0, 0, 0, 0, 0, 0, 0, 0, 0, 0, 0, 0, 0, 1, 0, 0, 0, 0, 0, 0, 0, 0, 0, 0, 0, 0, 0, 0, 1, 0, 0, 0, 0, 0, 0], [0, 0, 0, 0, 0, 0, 0, 0, 0, 0, 0, 1, 0, 0, 0, 0, 0, 0, 0, 0, 0, 1, 0, 0, 0, 0, 0, 0, 0, 0, 0, 0, 0, 1, 0, 0, 0, 0, 0, 0, 0, 0, 0, 0, 0, 0, 0, 0, 0, 0, 0, 0, 0, 0, 0, 0, 0, 0, 0, 0, 0, 0, 0, 0, 0, 0, 0, 0, 0, 0, 0, 0, 0, 0, 0, 0, 0, 0, 0, 1, 0, 0, 0, 0, 1], [0, 0, 0, 0, 0, 0, 0, 0, 0, 0, 0, 1, 1, 0, 0, 0, 0, 0, 0, 0, 0, 0, 0, 0, 0, 0, 0, 0, 0, 0, 0, 0, 0, 0, 0, 0, 0, 0, 0, 0, 0, 1, 0, 0, 0, 0, 0, 0, 1, 0, 0, 0, 0, 0, 0, 1, 0, 0, 0, 0, 0, 0, 0, 0, 0, 0, 0, 0, 0, 0, 0, 0, 0, 0, 0, 0, 0, 0, 0, 0, 0, 0, 0, 0, 0], [0, 0, 0, 0, 0, 0, 0, 0, 0, 0, 0, 0, 0, 0, 0, 0, 0, 0, 0, 0, 0, 0, 0, 0, 0, 0, 0, 0, 1, 0, 0, 0, 0, 0, 1, 0, 0, 0, 0, 0, 0, 0, 0, 0, 0, 0, 0, 0, 0, 0, 0, 0, 0, 0, 0, 0, 0, 0, 0, 0, 1, 0, 0, 1, 0, 0, 0, 0, 0, 0, 0, 0, 0, 0, 0, 1, 0, 0, 0, 0, 0, 0, 0, 0, 0], [0, 0, 0, 0, 0, 1, 0, 0, 0, 0, 0, 1, 0, 1, 0, 0, 0, 0, 0, 0, 0, 0, 0, 0, 0, 0, 0, 0, 0, 0, 0, 0, 0, 0, 0, 0, 0, 0, 0, 0, 0, 0, 0, 0, 0, 0, 0, 0, 0, 0, 0, 0, 0, 0, 0, 0, 0, 0, 0, 0, 0, 0, 0, 0, 0, 0, 0, 0, 0, 0, 0, 0, 0, 0, 1, 0, 0, 0, 0, 1, 0, 0, 0, 0, 0], [0, 0, 0, 0, 0, 0, 0, 0, 0, 0, 0, 0, 0, 0, 0, 0, 0, 0, 0, 0, 0, 0, 0, 0, 0, 0, 0, 0, 0, 0, 0, 0, 0, 0, 0, 0, 0, 0, 0, 0, 0, 0, 0, 0, 0, 0, 0, 0, 0, 0, 0, 0, 0, 0, 0, 0, 0, 0, 0, 0, 0, 0, 0, 0, 0, 0, 0, 0, 1, 0, 0, 0, 0, 0, 0, 0, 0, 0, 1, 0, 0, 0, 0, 0, 0], [0, 1, 0, 0, 0, 0, 0, 0, 0, 0, 0, 1, 0, 0, 0, 0, 0, 0, 0, 0, 0, 0, 0, 0, 0, 0, 0, 0, 0, 0, 0, 0, 0, 0, 0, 0, 0, 0, 0, 1, 0, 0, 0, 0, 0, 0, 0, 0, 0, 1, 0, 0, 0, 0, 0, 0, 0, 0, 0, 0, 0, 0, 0, 0, 0, 0, 0, 0, 0, 0, 0, 0, 0, 0, 0, 1, 0, 0, 0, 0, 0, 0, 0, 0, 0], [0, 1, 0, 0, 1, 0, 0, 0, 0, 0, 0, 1, 0, 0, 0, 0, 0, 0, 0, 0, 0, 0, 0, 0, 0, 0, 0, 0, 1, 0, 0, 0, 0, 0, 1, 0, 0, 0, 0, 0, 0, 0, 0, 0, 0, 0, 0, 0, 0, 0, 0, 0, 0, 0, 0, 0, 0, 0, 0, 0, 0, 0, 0, 0, 0, 0, 0, 0, 0, 0, 0, 0, 0, 0, 0, 1, 0, 0, 0, 0, 0, 0, 0, 0, 0], [0, 0, 0, 0, 0, 1, 0, 0, 0, 0, 0, 0, 0, 0, 0, 1, 0, 0, 0, 0, 0, 0, 0, 0, 0, 0, 0, 0, 0, 0, 0, 0, 0, 0, 1, 0, 0, 0, 0, 0, 0, 0, 0, 0, 0, 0, 0, 0, 0, 0, 0, 0, 0, 0, 0, 0, 0, 1, 0, 0, 0, 0, 0, 0, 0, 0, 0, 0, 0, 0, 0, 0, 0, 0, 0, 0, 0, 0, 0, 0, 0, 0, 0, 0, 0], [0, 0, 0, 0, 0, 0, 0, 0, 0, 1, 0, 1, 0, 0, 0, 0, 0, 0, 0, 0, 0, 0, 0, 0, 0, 0, 0, 0, 0, 0, 0, 0, 0, 0, 0, 0, 0, 0, 0, 0, 0, 0, 0, 0, 0, 0, 0, 0, 0, 0, 0, 0, 0, 1, 0, 0, 0, 0, 0, 0, 0, 0, 0, 0, 0, 0, 0, 0, 0, 0, 0, 0, 0, 0, 0, 0, 0, 0, 0, 0, 0, 0, 0, 0, 0], [1, 0, 0, 0, 0, 0, 0, 0, 0, 0, 1, 0, 0, 0, 0, 0, 0, 0, 0, 0, 0, 0, 0, 0, 0, 0, 0, 0, 0, 0, 0, 1, 0, 0, 0, 0, 0, 0, 1, 0, 0, 0, 0, 0, 0, 0, 0, 0, 0, 0, 0, 0, 0, 0, 0, 1, 0, 0, 0, 0, 0, 0, 0, 0, 0, 1, 0, 0, 0, 0, 0, 0, 0, 0, 0, 0, 0, 0, 0, 1, 0, 0, 0, 0, 0], [0, 0, 0, 0, 0, 0, 0, 0, 0, 0, 0, 0, 0, 0, 0, 0, 0, 0, 0, 0, 0, 0, 0, 0, 0, 1, 0, 0, 0, 0, 0, 0, 0, 0, 0, 0, 0, 0, 0, 0, 0, 0, 0, 0, 0, 0, 0, 0, 0, 0, 0, 0, 0, 0, 0, 0, 0, 0, 0, 0, 0, 0, 0, 0, 0, 0, 0, 0, 1, 0, 0, 0, 0, 0, 0, 0, 0, 0, 0, 0, 0, 0, 0, 0, 0], [0, 1, 0, 0, 0, 0, 0, 0, 0, 0, 0, 0, 1, 0, 0, 0, 0, 0, 0, 0, 0, 0, 0, 0, 0, 0, 0, 0, 0, 0, 0, 0, 0, 0, 0, 0, 0, 0, 0, 1, 0, 0, 0, 0, 0, 0, 0, 0, 0, 0, 0, 0, 1, 0, 0, 0, 0, 0, 0, 0, 0, 0, 0, 0, 0, 0, 0, 0, 0, 0, 0, 0, 0, 0, 0, 0, 0, 0, 0, 0, 0, 0, 0, 0, 0], [0, 0, 0, 0, 0, 0, 0, 0, 0, 0, 0, 0, 0, 0, 0, 0, 0, 0, 0, 0, 0, 0, 0, 0, 0, 0, 0, 0, 0, 0, 0, 0, 0, 0, 0, 0, 0, 0, 0, 0, 0, 0, 0, 0, 0, 0, 0, 0, 0, 0, 0, 0, 0, 0, 0, 0, 0, 0, 0, 0, 0, 0, 1, 1, 0, 0, 0, 0, 0, 0, 0, 0, 0, 0, 0, 0, 0, 0, 0, 0, 0, 0, 0, 0, 0], [0, 0, 0, 0, 0, 0, 0, 0, 0, 0, 0, 1, 0, 0, 0, 0, 0, 0, 0, 0, 0, 0, 0, 0, 0, 0, 0, 0, 0, 0, 0, 0, 0, 0, 1, 0, 0, 0, 0, 1, 0, 0, 0, 0, 0, 0, 0, 0, 0, 0, 0, 0, 0, 0, 0, 0, 0, 0, 0, 0, 0, 0, 0, 0, 0, 0, 0, 0, 0, 0, 0, 0, 0, 0, 0, 1, 0, 0, 0, 0, 0, 0, 0, 0, 0], [0, 0, 0, 0, 0, 0, 0, 0, 0, 0, 0, 0, 0, 0, 0, 0, 0, 0, 1, 0, 0, 0, 0, 0, 0, 0, 0, 0, 0, 0, 0, 0, 0, 0, 0, 0, 0, 0, 1, 0, 0, 0, 0, 0, 0, 0, 0, 0, 0, 0, 0, 0, 0, 0, 0, 0, 1, 0, 0, 0, 0, 0, 0, 1, 0, 0, 0, 0, 0, 0, 0, 0, 0, 0, 0, 0, 0, 0, 0, 1, 0, 0, 0, 0, 0]]\n",
      "85\n"
     ]
    }
   ],
   "source": [
    "# create train & test lists. X - patterns, Y - intents\n",
    "# training_x = [training[:,0], training[:,2]]\n",
    "train_x = list(training[:,0])\n",
    "train_y = list(training[:,1])\n",
    "print(train_x)\n",
    "print(len(train_x[0]))"
   ]
  },
  {
   "cell_type": "code",
   "execution_count": 12,
   "metadata": {},
   "outputs": [],
   "source": [
    "#with open('model.pickle', 'wb') as f:\n",
    "#  pickle.dump((words, labels, training))"
   ]
  },
  {
   "cell_type": "code",
   "execution_count": 13,
   "metadata": {},
   "outputs": [
    {
     "data": {
      "text/plain": [
       "'\\nTraining data - X (pattern converted into array [0,1,0,1...,0])\\nY (intents converted into arr [1,0,0,0,..,0]), will be single 1 for intents arr\\n\\nModel built on 3 layers\\n\\nClassification output will be multiclass arr > help identify encoded intent\\n\\nUse Softmax activation to produce multiclass classification output\\n(result returns arr of 0/1: [1,0,0...,0] - identifies encoded intent)\\n'"
      ]
     },
     "execution_count": 13,
     "metadata": {},
     "output_type": "execute_result"
    }
   ],
   "source": [
    "'''\n",
    "Training data - X (pattern converted into array [0,1,0,1...,0])\n",
    "Y (intents converted into arr [1,0,0,0,..,0]), will be single 1 for intents arr\n",
    "\n",
    "Model built on 3 layers\n",
    "\n",
    "Classification output will be multiclass arr > help identify encoded intent\n",
    "\n",
    "Use Softmax activation to produce multiclass classification output\n",
    "(result returns arr of 0/1: [1,0,0...,0] - identifies encoded intent)\n",
    "'''"
   ]
  },
  {
   "cell_type": "markdown",
   "metadata": {},
   "source": [
    "## <font color='red'>**NOTE</font> <br>\n",
    "Ok so Cael & Joe, <br>\n",
    "This part below is basically what makes up a Neural network in ML\n",
    "\n",
    "So basically a neural network has different layers in its hidden layer (main layer)\n",
    "that tries to sift out features to identify what is going on and learn\n",
    "\n",
    "In each layer we have number of neurons to help us know what's going on <br>\n",
    "> Simple Eg. When you touch something you have nerves to tell you if you really touched something or not\n",
    "\n",
    "Softmax is the activation function we're using to determine when to trigger these neurons <br>\n",
    "> Eg. Did you really touch something?? How do you know? > Your nerves felt something and sent signals to your brain"
   ]
  },
  {
   "cell_type": "markdown",
   "metadata": {},
   "source": [
    "Input shape = specify shape of your data its dealing with in 1st layer"
   ]
  },
  {
   "cell_type": "code",
   "execution_count": 14,
   "metadata": {},
   "outputs": [],
   "source": [
    "# Create model - 3 layers\n",
    "# 1st layer 128 neurons, 2nd layer 64 neurons & 3rd contains num of neurons\n",
    "# equal to num of intents to predict output intent with softmax\n",
    "\n",
    "model = Sequential()\n",
    "model.add(Dense(128, input_shape = (len(train_x[0]), ), activation = 'relu'))\n",
    "model.add(Dropout(0.5))\n",
    "model.add(Dense(64, activation = 'relu'))\n",
    "model.add(Dropout(0.5))\n",
    "model.add(Dense(len(train_y[0]), activation = 'softmax'))"
   ]
  },
  {
   "cell_type": "markdown",
   "metadata": {},
   "source": [
    "### Compile Keras model with SGD optimiser"
   ]
  },
  {
   "cell_type": "code",
   "execution_count": 15,
   "metadata": {},
   "outputs": [],
   "source": [
    "# Compile model. Stochastic gradient descent with Nesterov accelerated\n",
    "# gradient gives good results for this model\n",
    "\n",
    "sgd = SGD(lr = 0.01, decay = 1e-6, momentum = 0.9, nesterov = True)\n",
    "# print(dir(sgd))\n",
    "# print(sgd.lr)\n",
    "model.compile(loss = 'categorical_crossentropy', optimizer = sgd,\n",
    "              metrics = ['accuracy'])"
   ]
  },
  {
   "cell_type": "markdown",
   "metadata": {},
   "source": [
    "### Fit model"
   ]
  },
  {
   "cell_type": "code",
   "execution_count": 16,
   "metadata": {},
   "outputs": [],
   "source": [
    "# Execute training & construct classification model"
   ]
  },
  {
   "cell_type": "code",
   "execution_count": 17,
   "metadata": {},
   "outputs": [
    {
     "name": "stdout",
     "output_type": "stream",
     "text": [
      "WARNING:tensorflow:From /home/lkarwei/anaconda3/lib/python3.7/site-packages/keras/backend/tensorflow_backend.py:422: The name tf.global_variables is deprecated. Please use tf.compat.v1.global_variables instead.\n",
      "\n",
      "Epoch 1/200\n",
      "61/61 [==============================] - 0s 4ms/step - loss: 2.7240 - accuracy: 0.1148\n",
      "Epoch 2/200\n",
      "61/61 [==============================] - 0s 338us/step - loss: 2.6288 - accuracy: 0.0820\n",
      "Epoch 3/200\n",
      "61/61 [==============================] - 0s 323us/step - loss: 2.5798 - accuracy: 0.1475\n",
      "Epoch 4/200\n",
      "61/61 [==============================] - 0s 326us/step - loss: 2.5049 - accuracy: 0.1967\n",
      "Epoch 5/200\n",
      "61/61 [==============================] - 0s 366us/step - loss: 2.4067 - accuracy: 0.2787\n",
      "Epoch 6/200\n",
      "61/61 [==============================] - 0s 370us/step - loss: 2.3729 - accuracy: 0.3279\n",
      "Epoch 7/200\n",
      "61/61 [==============================] - 0s 412us/step - loss: 2.2053 - accuracy: 0.3443\n",
      "Epoch 8/200\n",
      "61/61 [==============================] - 0s 374us/step - loss: 2.0221 - accuracy: 0.3770\n",
      "Epoch 9/200\n",
      "61/61 [==============================] - 0s 359us/step - loss: 1.8812 - accuracy: 0.4426\n",
      "Epoch 10/200\n",
      "61/61 [==============================] - 0s 446us/step - loss: 1.8777 - accuracy: 0.3607\n",
      "Epoch 11/200\n",
      "61/61 [==============================] - 0s 362us/step - loss: 1.6864 - accuracy: 0.4754\n",
      "Epoch 12/200\n",
      "61/61 [==============================] - 0s 374us/step - loss: 1.6968 - accuracy: 0.4590\n",
      "Epoch 13/200\n",
      "61/61 [==============================] - 0s 321us/step - loss: 1.4456 - accuracy: 0.6066\n",
      "Epoch 14/200\n",
      "61/61 [==============================] - 0s 371us/step - loss: 1.2944 - accuracy: 0.5574\n",
      "Epoch 15/200\n",
      "61/61 [==============================] - 0s 357us/step - loss: 1.3935 - accuracy: 0.4590\n",
      "Epoch 16/200\n",
      "61/61 [==============================] - 0s 296us/step - loss: 1.3598 - accuracy: 0.5082\n",
      "Epoch 17/200\n",
      "61/61 [==============================] - 0s 314us/step - loss: 1.2860 - accuracy: 0.5246\n",
      "Epoch 18/200\n",
      "61/61 [==============================] - 0s 300us/step - loss: 0.9082 - accuracy: 0.7541\n",
      "Epoch 19/200\n",
      "61/61 [==============================] - 0s 419us/step - loss: 1.1557 - accuracy: 0.6066\n",
      "Epoch 20/200\n",
      "61/61 [==============================] - 0s 349us/step - loss: 1.2964 - accuracy: 0.5410\n",
      "Epoch 21/200\n",
      "61/61 [==============================] - 0s 342us/step - loss: 0.8047 - accuracy: 0.7705\n",
      "Epoch 22/200\n",
      "61/61 [==============================] - 0s 321us/step - loss: 0.8997 - accuracy: 0.7049\n",
      "Epoch 23/200\n",
      "61/61 [==============================] - 0s 360us/step - loss: 0.8750 - accuracy: 0.7213\n",
      "Epoch 24/200\n",
      "61/61 [==============================] - 0s 350us/step - loss: 0.8669 - accuracy: 0.7213\n",
      "Epoch 25/200\n",
      "61/61 [==============================] - 0s 355us/step - loss: 0.8470 - accuracy: 0.7049\n",
      "Epoch 26/200\n",
      "61/61 [==============================] - 0s 383us/step - loss: 0.9139 - accuracy: 0.6721\n",
      "Epoch 27/200\n",
      "61/61 [==============================] - 0s 347us/step - loss: 0.7634 - accuracy: 0.7049\n",
      "Epoch 28/200\n",
      "61/61 [==============================] - 0s 365us/step - loss: 0.8683 - accuracy: 0.6557\n",
      "Epoch 29/200\n",
      "61/61 [==============================] - 0s 356us/step - loss: 0.7153 - accuracy: 0.7213\n",
      "Epoch 30/200\n",
      "61/61 [==============================] - 0s 338us/step - loss: 0.7620 - accuracy: 0.7049\n",
      "Epoch 31/200\n",
      "61/61 [==============================] - 0s 428us/step - loss: 0.7868 - accuracy: 0.7049\n",
      "Epoch 32/200\n",
      "61/61 [==============================] - 0s 352us/step - loss: 0.4409 - accuracy: 0.8852\n",
      "Epoch 33/200\n",
      "61/61 [==============================] - 0s 345us/step - loss: 0.7554 - accuracy: 0.7541\n",
      "Epoch 34/200\n",
      "61/61 [==============================] - 0s 367us/step - loss: 0.6526 - accuracy: 0.7541\n",
      "Epoch 35/200\n",
      "61/61 [==============================] - 0s 409us/step - loss: 0.4847 - accuracy: 0.8689\n",
      "Epoch 36/200\n",
      "61/61 [==============================] - 0s 346us/step - loss: 0.5911 - accuracy: 0.8197\n",
      "Epoch 37/200\n",
      "61/61 [==============================] - 0s 347us/step - loss: 0.4017 - accuracy: 0.9180\n",
      "Epoch 38/200\n",
      "61/61 [==============================] - 0s 347us/step - loss: 0.5293 - accuracy: 0.8033\n",
      "Epoch 39/200\n",
      "61/61 [==============================] - 0s 307us/step - loss: 0.5146 - accuracy: 0.8689\n",
      "Epoch 40/200\n",
      "61/61 [==============================] - 0s 335us/step - loss: 0.5247 - accuracy: 0.8525\n",
      "Epoch 41/200\n",
      "61/61 [==============================] - 0s 336us/step - loss: 0.5141 - accuracy: 0.8689\n",
      "Epoch 42/200\n",
      "61/61 [==============================] - 0s 321us/step - loss: 0.4266 - accuracy: 0.8852\n",
      "Epoch 43/200\n",
      "61/61 [==============================] - 0s 331us/step - loss: 0.4145 - accuracy: 0.8852\n",
      "Epoch 44/200\n",
      "61/61 [==============================] - 0s 412us/step - loss: 0.5238 - accuracy: 0.8361\n",
      "Epoch 45/200\n",
      "61/61 [==============================] - 0s 338us/step - loss: 0.4152 - accuracy: 0.8852\n",
      "Epoch 46/200\n",
      "61/61 [==============================] - 0s 341us/step - loss: 0.4543 - accuracy: 0.8033\n",
      "Epoch 47/200\n",
      "61/61 [==============================] - 0s 372us/step - loss: 0.3391 - accuracy: 0.9016\n",
      "Epoch 48/200\n",
      "61/61 [==============================] - 0s 302us/step - loss: 0.2881 - accuracy: 0.9016\n",
      "Epoch 49/200\n",
      "61/61 [==============================] - 0s 355us/step - loss: 0.2853 - accuracy: 0.9344\n",
      "Epoch 50/200\n",
      "61/61 [==============================] - 0s 357us/step - loss: 0.4391 - accuracy: 0.9016\n",
      "Epoch 51/200\n",
      "61/61 [==============================] - 0s 402us/step - loss: 0.3020 - accuracy: 0.9180\n",
      "Epoch 52/200\n",
      "61/61 [==============================] - 0s 349us/step - loss: 0.3750 - accuracy: 0.8852\n",
      "Epoch 53/200\n",
      "61/61 [==============================] - 0s 349us/step - loss: 0.2785 - accuracy: 0.9180\n",
      "Epoch 54/200\n",
      "61/61 [==============================] - 0s 328us/step - loss: 0.2722 - accuracy: 0.9180\n",
      "Epoch 55/200\n",
      "61/61 [==============================] - 0s 360us/step - loss: 0.2266 - accuracy: 0.9344\n",
      "Epoch 56/200\n",
      "61/61 [==============================] - 0s 334us/step - loss: 0.2296 - accuracy: 0.9016\n",
      "Epoch 57/200\n",
      "61/61 [==============================] - 0s 324us/step - loss: 0.4375 - accuracy: 0.8852\n",
      "Epoch 58/200\n",
      "61/61 [==============================] - 0s 320us/step - loss: 0.2930 - accuracy: 0.9344\n",
      "Epoch 59/200\n",
      "61/61 [==============================] - 0s 347us/step - loss: 0.2852 - accuracy: 0.9180\n",
      "Epoch 60/200\n",
      "61/61 [==============================] - 0s 342us/step - loss: 0.1807 - accuracy: 0.9508\n",
      "Epoch 61/200\n",
      "61/61 [==============================] - 0s 304us/step - loss: 0.2379 - accuracy: 0.9180\n",
      "Epoch 62/200\n",
      "61/61 [==============================] - 0s 369us/step - loss: 0.1904 - accuracy: 0.9672\n",
      "Epoch 63/200\n",
      "61/61 [==============================] - 0s 327us/step - loss: 0.2159 - accuracy: 0.9344\n",
      "Epoch 64/200\n",
      "61/61 [==============================] - 0s 351us/step - loss: 0.2041 - accuracy: 0.9180\n",
      "Epoch 65/200\n",
      "61/61 [==============================] - 0s 355us/step - loss: 0.3205 - accuracy: 0.8852\n",
      "Epoch 66/200\n",
      "61/61 [==============================] - 0s 352us/step - loss: 0.2061 - accuracy: 0.9672\n",
      "Epoch 67/200\n",
      "61/61 [==============================] - 0s 387us/step - loss: 0.3894 - accuracy: 0.8852\n",
      "Epoch 68/200\n",
      "61/61 [==============================] - 0s 351us/step - loss: 0.1649 - accuracy: 0.9508\n",
      "Epoch 69/200\n",
      "61/61 [==============================] - 0s 344us/step - loss: 0.2039 - accuracy: 0.9344\n",
      "Epoch 70/200\n",
      "61/61 [==============================] - 0s 354us/step - loss: 0.2732 - accuracy: 0.9016\n",
      "Epoch 71/200\n",
      "61/61 [==============================] - 0s 328us/step - loss: 0.3167 - accuracy: 0.9016\n",
      "Epoch 72/200\n",
      "61/61 [==============================] - 0s 329us/step - loss: 0.4546 - accuracy: 0.8689\n",
      "Epoch 73/200\n",
      "61/61 [==============================] - 0s 315us/step - loss: 0.1311 - accuracy: 0.9836\n",
      "Epoch 74/200\n",
      "61/61 [==============================] - 0s 313us/step - loss: 0.2561 - accuracy: 0.9344\n",
      "Epoch 75/200\n",
      "61/61 [==============================] - 0s 337us/step - loss: 0.1915 - accuracy: 0.9508\n",
      "Epoch 76/200\n",
      "61/61 [==============================] - 0s 337us/step - loss: 0.1871 - accuracy: 0.9344\n",
      "Epoch 77/200\n",
      "61/61 [==============================] - 0s 342us/step - loss: 0.2243 - accuracy: 0.9344\n",
      "Epoch 78/200\n",
      "61/61 [==============================] - 0s 379us/step - loss: 0.1467 - accuracy: 0.9672\n",
      "Epoch 79/200\n"
     ]
    },
    {
     "name": "stdout",
     "output_type": "stream",
     "text": [
      "61/61 [==============================] - 0s 324us/step - loss: 0.2073 - accuracy: 0.9344\n",
      "Epoch 80/200\n",
      "61/61 [==============================] - 0s 383us/step - loss: 0.2215 - accuracy: 0.9180\n",
      "Epoch 81/200\n",
      "61/61 [==============================] - 0s 347us/step - loss: 0.1378 - accuracy: 0.9672\n",
      "Epoch 82/200\n",
      "61/61 [==============================] - 0s 359us/step - loss: 0.2303 - accuracy: 0.9508\n",
      "Epoch 83/200\n",
      "61/61 [==============================] - 0s 339us/step - loss: 0.1422 - accuracy: 0.9508\n",
      "Epoch 84/200\n",
      "61/61 [==============================] - 0s 341us/step - loss: 0.2831 - accuracy: 0.9344\n",
      "Epoch 85/200\n",
      "61/61 [==============================] - 0s 372us/step - loss: 0.1730 - accuracy: 0.9180\n",
      "Epoch 86/200\n",
      "61/61 [==============================] - 0s 366us/step - loss: 0.1519 - accuracy: 0.9508\n",
      "Epoch 87/200\n",
      "61/61 [==============================] - 0s 361us/step - loss: 0.2032 - accuracy: 0.9672\n",
      "Epoch 88/200\n",
      "61/61 [==============================] - 0s 344us/step - loss: 0.1031 - accuracy: 0.9508\n",
      "Epoch 89/200\n",
      "61/61 [==============================] - 0s 336us/step - loss: 0.1198 - accuracy: 0.9836\n",
      "Epoch 90/200\n",
      "61/61 [==============================] - 0s 324us/step - loss: 0.0947 - accuracy: 0.9672\n",
      "Epoch 91/200\n",
      "61/61 [==============================] - 0s 325us/step - loss: 0.1218 - accuracy: 0.9672\n",
      "Epoch 92/200\n",
      "61/61 [==============================] - 0s 339us/step - loss: 0.1166 - accuracy: 0.9508\n",
      "Epoch 93/200\n",
      "61/61 [==============================] - 0s 353us/step - loss: 0.0799 - accuracy: 1.0000\n",
      "Epoch 94/200\n",
      "61/61 [==============================] - 0s 334us/step - loss: 0.3595 - accuracy: 0.8852\n",
      "Epoch 95/200\n",
      "61/61 [==============================] - 0s 397us/step - loss: 0.1211 - accuracy: 0.9672\n",
      "Epoch 96/200\n",
      "61/61 [==============================] - 0s 362us/step - loss: 0.2293 - accuracy: 0.9180\n",
      "Epoch 97/200\n",
      "61/61 [==============================] - 0s 334us/step - loss: 0.1535 - accuracy: 0.9508\n",
      "Epoch 98/200\n",
      "61/61 [==============================] - 0s 355us/step - loss: 0.1366 - accuracy: 0.9344\n",
      "Epoch 99/200\n",
      "61/61 [==============================] - 0s 373us/step - loss: 0.2315 - accuracy: 0.9672\n",
      "Epoch 100/200\n",
      "61/61 [==============================] - 0s 342us/step - loss: 0.0801 - accuracy: 0.9672\n",
      "Epoch 101/200\n",
      "61/61 [==============================] - 0s 277us/step - loss: 0.0961 - accuracy: 0.9836\n",
      "Epoch 102/200\n",
      "61/61 [==============================] - 0s 313us/step - loss: 0.0759 - accuracy: 0.9836\n",
      "Epoch 103/200\n",
      "61/61 [==============================] - 0s 318us/step - loss: 0.1311 - accuracy: 0.9508\n",
      "Epoch 104/200\n",
      "61/61 [==============================] - 0s 306us/step - loss: 0.1504 - accuracy: 0.9344\n",
      "Epoch 105/200\n",
      "61/61 [==============================] - 0s 382us/step - loss: 0.2219 - accuracy: 0.9180\n",
      "Epoch 106/200\n",
      "61/61 [==============================] - 0s 395us/step - loss: 0.1509 - accuracy: 0.9672\n",
      "Epoch 107/200\n",
      "61/61 [==============================] - 0s 334us/step - loss: 0.2249 - accuracy: 0.9016\n",
      "Epoch 108/200\n",
      "61/61 [==============================] - 0s 343us/step - loss: 0.0874 - accuracy: 0.9508\n",
      "Epoch 109/200\n",
      "61/61 [==============================] - 0s 336us/step - loss: 0.2831 - accuracy: 0.8852\n",
      "Epoch 110/200\n",
      "61/61 [==============================] - 0s 380us/step - loss: 0.1147 - accuracy: 0.9672\n",
      "Epoch 111/200\n",
      "61/61 [==============================] - 0s 299us/step - loss: 0.1191 - accuracy: 0.9836\n",
      "Epoch 112/200\n",
      "61/61 [==============================] - 0s 330us/step - loss: 0.1235 - accuracy: 0.9836\n",
      "Epoch 113/200\n",
      "61/61 [==============================] - 0s 283us/step - loss: 0.1397 - accuracy: 0.9508\n",
      "Epoch 114/200\n",
      "61/61 [==============================] - 0s 337us/step - loss: 0.1077 - accuracy: 0.9672\n",
      "Epoch 115/200\n",
      "61/61 [==============================] - 0s 358us/step - loss: 0.1128 - accuracy: 0.9672\n",
      "Epoch 116/200\n",
      "61/61 [==============================] - 0s 347us/step - loss: 0.0978 - accuracy: 0.9672\n",
      "Epoch 117/200\n",
      "61/61 [==============================] - 0s 402us/step - loss: 0.0735 - accuracy: 0.9672\n",
      "Epoch 118/200\n",
      "61/61 [==============================] - 0s 355us/step - loss: 0.0646 - accuracy: 0.9836\n",
      "Epoch 119/200\n",
      "61/61 [==============================] - 0s 359us/step - loss: 0.0734 - accuracy: 0.9836\n",
      "Epoch 120/200\n",
      "61/61 [==============================] - 0s 405us/step - loss: 0.1485 - accuracy: 0.9344\n",
      "Epoch 121/200\n",
      "61/61 [==============================] - 0s 351us/step - loss: 0.0349 - accuracy: 1.0000\n",
      "Epoch 122/200\n",
      "61/61 [==============================] - 0s 386us/step - loss: 0.1825 - accuracy: 0.9344\n",
      "Epoch 123/200\n",
      "61/61 [==============================] - 0s 373us/step - loss: 0.1575 - accuracy: 0.9344\n",
      "Epoch 124/200\n",
      "61/61 [==============================] - 0s 420us/step - loss: 0.1262 - accuracy: 0.9344\n",
      "Epoch 125/200\n",
      "61/61 [==============================] - 0s 350us/step - loss: 0.0997 - accuracy: 0.9672\n",
      "Epoch 126/200\n",
      "61/61 [==============================] - 0s 386us/step - loss: 0.0925 - accuracy: 0.9344\n",
      "Epoch 127/200\n",
      "61/61 [==============================] - 0s 360us/step - loss: 0.0925 - accuracy: 0.9672\n",
      "Epoch 128/200\n",
      "61/61 [==============================] - 0s 342us/step - loss: 0.1049 - accuracy: 0.9672\n",
      "Epoch 129/200\n",
      "61/61 [==============================] - 0s 409us/step - loss: 0.0557 - accuracy: 1.0000\n",
      "Epoch 130/200\n",
      "61/61 [==============================] - 0s 344us/step - loss: 0.1247 - accuracy: 0.9508\n",
      "Epoch 131/200\n",
      "61/61 [==============================] - 0s 387us/step - loss: 0.0143 - accuracy: 1.0000\n",
      "Epoch 132/200\n",
      "61/61 [==============================] - 0s 337us/step - loss: 0.0768 - accuracy: 0.9672\n",
      "Epoch 133/200\n",
      "61/61 [==============================] - 0s 325us/step - loss: 0.1237 - accuracy: 0.9672\n",
      "Epoch 134/200\n",
      "61/61 [==============================] - 0s 364us/step - loss: 0.0956 - accuracy: 0.9672\n",
      "Epoch 135/200\n",
      "61/61 [==============================] - 0s 400us/step - loss: 0.0860 - accuracy: 0.9672\n",
      "Epoch 136/200\n",
      "61/61 [==============================] - 0s 342us/step - loss: 0.1260 - accuracy: 0.9672\n",
      "Epoch 137/200\n",
      "61/61 [==============================] - 0s 402us/step - loss: 0.1379 - accuracy: 0.9672\n",
      "Epoch 138/200\n",
      "61/61 [==============================] - 0s 381us/step - loss: 0.0787 - accuracy: 0.9672\n",
      "Epoch 139/200\n",
      "61/61 [==============================] - 0s 370us/step - loss: 0.0441 - accuracy: 1.0000\n",
      "Epoch 140/200\n",
      "61/61 [==============================] - 0s 356us/step - loss: 0.0863 - accuracy: 0.9672\n",
      "Epoch 141/200\n",
      "61/61 [==============================] - 0s 365us/step - loss: 0.0230 - accuracy: 1.0000\n",
      "Epoch 142/200\n",
      "61/61 [==============================] - 0s 349us/step - loss: 0.0821 - accuracy: 0.9836\n",
      "Epoch 143/200\n",
      "61/61 [==============================] - 0s 340us/step - loss: 0.0779 - accuracy: 0.9672\n",
      "Epoch 144/200\n",
      "61/61 [==============================] - 0s 360us/step - loss: 0.0700 - accuracy: 0.9672\n",
      "Epoch 145/200\n",
      "61/61 [==============================] - 0s 341us/step - loss: 0.0525 - accuracy: 1.0000\n",
      "Epoch 146/200\n",
      "61/61 [==============================] - 0s 452us/step - loss: 0.0509 - accuracy: 0.9672\n",
      "Epoch 147/200\n",
      "61/61 [==============================] - 0s 371us/step - loss: 0.0834 - accuracy: 0.9836\n",
      "Epoch 148/200\n",
      "61/61 [==============================] - 0s 371us/step - loss: 0.0584 - accuracy: 0.9836\n",
      "Epoch 149/200\n",
      "61/61 [==============================] - 0s 315us/step - loss: 0.0284 - accuracy: 1.0000\n",
      "Epoch 150/200\n",
      "61/61 [==============================] - 0s 340us/step - loss: 0.0965 - accuracy: 0.9672\n",
      "Epoch 151/200\n",
      "61/61 [==============================] - 0s 323us/step - loss: 0.0508 - accuracy: 1.0000\n",
      "Epoch 152/200\n",
      "61/61 [==============================] - 0s 371us/step - loss: 0.0846 - accuracy: 1.0000\n",
      "Epoch 153/200\n",
      "61/61 [==============================] - 0s 314us/step - loss: 0.1021 - accuracy: 0.9672\n",
      "Epoch 154/200\n",
      "61/61 [==============================] - 0s 335us/step - loss: 0.1185 - accuracy: 0.9672\n",
      "Epoch 155/200\n",
      "61/61 [==============================] - 0s 333us/step - loss: 0.1059 - accuracy: 0.9672\n",
      "Epoch 156/200\n",
      "61/61 [==============================] - 0s 334us/step - loss: 0.1078 - accuracy: 0.9344\n",
      "Epoch 157/200\n",
      "61/61 [==============================] - 0s 315us/step - loss: 0.1562 - accuracy: 0.9344\n",
      "Epoch 158/200\n"
     ]
    },
    {
     "name": "stdout",
     "output_type": "stream",
     "text": [
      "61/61 [==============================] - 0s 345us/step - loss: 0.1091 - accuracy: 0.9672\n",
      "Epoch 159/200\n",
      "61/61 [==============================] - 0s 403us/step - loss: 0.0675 - accuracy: 0.9836\n",
      "Epoch 160/200\n",
      "61/61 [==============================] - 0s 400us/step - loss: 0.0474 - accuracy: 0.9836\n",
      "Epoch 161/200\n",
      "61/61 [==============================] - 0s 337us/step - loss: 0.0919 - accuracy: 0.9836\n",
      "Epoch 162/200\n",
      "61/61 [==============================] - 0s 332us/step - loss: 0.0595 - accuracy: 0.9836\n",
      "Epoch 163/200\n",
      "61/61 [==============================] - 0s 314us/step - loss: 0.1433 - accuracy: 0.9672\n",
      "Epoch 164/200\n",
      "61/61 [==============================] - 0s 341us/step - loss: 0.0319 - accuracy: 1.0000\n",
      "Epoch 165/200\n",
      "61/61 [==============================] - 0s 331us/step - loss: 0.0598 - accuracy: 0.9836\n",
      "Epoch 166/200\n",
      "61/61 [==============================] - 0s 342us/step - loss: 0.0660 - accuracy: 0.9836\n",
      "Epoch 167/200\n",
      "61/61 [==============================] - 0s 337us/step - loss: 0.0596 - accuracy: 0.9836\n",
      "Epoch 168/200\n",
      "61/61 [==============================] - 0s 361us/step - loss: 0.0524 - accuracy: 1.0000\n",
      "Epoch 169/200\n",
      "61/61 [==============================] - 0s 346us/step - loss: 0.0557 - accuracy: 0.9672\n",
      "Epoch 170/200\n",
      "61/61 [==============================] - 0s 438us/step - loss: 0.0213 - accuracy: 1.0000\n",
      "Epoch 171/200\n",
      "61/61 [==============================] - 0s 342us/step - loss: 0.0496 - accuracy: 0.9836\n",
      "Epoch 172/200\n",
      "61/61 [==============================] - 0s 371us/step - loss: 0.0572 - accuracy: 0.9672\n",
      "Epoch 173/200\n",
      "61/61 [==============================] - 0s 337us/step - loss: 0.0481 - accuracy: 0.9672\n",
      "Epoch 174/200\n",
      "61/61 [==============================] - 0s 317us/step - loss: 0.0390 - accuracy: 0.9836\n",
      "Epoch 175/200\n",
      "61/61 [==============================] - 0s 331us/step - loss: 0.1167 - accuracy: 0.9672\n",
      "Epoch 176/200\n",
      "61/61 [==============================] - 0s 350us/step - loss: 0.0829 - accuracy: 0.9672\n",
      "Epoch 177/200\n",
      "61/61 [==============================] - 0s 360us/step - loss: 0.0961 - accuracy: 0.9836\n",
      "Epoch 178/200\n",
      "61/61 [==============================] - 0s 409us/step - loss: 0.0762 - accuracy: 0.9672\n",
      "Epoch 179/200\n",
      "61/61 [==============================] - 0s 324us/step - loss: 0.0764 - accuracy: 0.9836\n",
      "Epoch 180/200\n",
      "61/61 [==============================] - 0s 341us/step - loss: 0.0667 - accuracy: 0.9836\n",
      "Epoch 181/200\n",
      "61/61 [==============================] - 0s 387us/step - loss: 0.0786 - accuracy: 0.9672\n",
      "Epoch 182/200\n",
      "61/61 [==============================] - 0s 334us/step - loss: 0.0273 - accuracy: 1.0000\n",
      "Epoch 183/200\n",
      "61/61 [==============================] - 0s 360us/step - loss: 0.1152 - accuracy: 0.9508\n",
      "Epoch 184/200\n",
      "61/61 [==============================] - 0s 349us/step - loss: 0.0634 - accuracy: 0.9836\n",
      "Epoch 185/200\n",
      "61/61 [==============================] - 0s 337us/step - loss: 0.0156 - accuracy: 1.0000\n",
      "Epoch 186/200\n",
      "61/61 [==============================] - 0s 314us/step - loss: 0.0280 - accuracy: 1.0000\n",
      "Epoch 187/200\n",
      "61/61 [==============================] - 0s 315us/step - loss: 0.0545 - accuracy: 0.9836\n",
      "Epoch 188/200\n",
      "61/61 [==============================] - 0s 345us/step - loss: 0.0902 - accuracy: 0.9508\n",
      "Epoch 189/200\n",
      "61/61 [==============================] - 0s 332us/step - loss: 0.1306 - accuracy: 0.9508\n",
      "Epoch 190/200\n",
      "61/61 [==============================] - 0s 362us/step - loss: 0.1809 - accuracy: 0.9672\n",
      "Epoch 191/200\n",
      "61/61 [==============================] - 0s 341us/step - loss: 0.0444 - accuracy: 0.9836\n",
      "Epoch 192/200\n",
      "61/61 [==============================] - 0s 340us/step - loss: 0.0726 - accuracy: 0.9672\n",
      "Epoch 193/200\n",
      "61/61 [==============================] - 0s 322us/step - loss: 0.0353 - accuracy: 1.0000\n",
      "Epoch 194/200\n",
      "61/61 [==============================] - 0s 392us/step - loss: 0.0390 - accuracy: 1.0000\n",
      "Epoch 195/200\n",
      "61/61 [==============================] - 0s 367us/step - loss: 0.1010 - accuracy: 0.9508\n",
      "Epoch 196/200\n",
      "61/61 [==============================] - 0s 353us/step - loss: 0.0478 - accuracy: 0.9836\n",
      "Epoch 197/200\n",
      "61/61 [==============================] - 0s 387us/step - loss: 0.0204 - accuracy: 1.0000\n",
      "Epoch 198/200\n",
      "61/61 [==============================] - 0s 298us/step - loss: 0.0222 - accuracy: 1.0000\n",
      "Epoch 199/200\n",
      "61/61 [==============================] - 0s 291us/step - loss: 0.0785 - accuracy: 0.9672\n",
      "Epoch 200/200\n",
      "61/61 [==============================] - 0s 392us/step - loss: 0.0389 - accuracy: 1.0000\n"
     ]
    },
    {
     "data": {
      "text/plain": [
       "<keras.callbacks.callbacks.History at 0x7f0a03182fd0>"
      ]
     },
     "execution_count": 17,
     "metadata": {},
     "output_type": "execute_result"
    }
   ],
   "source": [
    "# Fit the model\n",
    "# Epochs means iterations\n",
    "model.fit(np.array(train_x), np.array(train_y), epochs = 200,\n",
    "          batch_size = 5, verbose = 1)"
   ]
  },
  {
   "cell_type": "markdown",
   "metadata": {},
   "source": [
    "### Define helper functions"
   ]
  },
  {
   "cell_type": "code",
   "execution_count": 18,
   "metadata": {},
   "outputs": [],
   "source": [
    "def clean_up_sentence(sentence):\n",
    "    # tokenize the pattern - split words into arr\n",
    "    sentence_words = nltk.word_tokenize(sentence)\n",
    "    # stem ea word - create short form for word\n",
    "    sentence_words = [stemmer.stem(word.lower()) for word in sentence_words]\n",
    "    return sentence_words"
   ]
  },
  {
   "cell_type": "code",
   "execution_count": 19,
   "metadata": {},
   "outputs": [],
   "source": [
    "# Translate user sentence into bag of words with arr 0/1\n",
    "# 0 or 1 for ea word in bag that exists in the sentence\n",
    "def bow(sentence, words, show_details = True):\n",
    "    # tokenize the pattern\n",
    "    sentence_words = clean_up_sentence(sentence)\n",
    "    # Initialise bag of words - matrix of N words, vocab matrix\n",
    "    bag = [0] * len(words)\n",
    "    \n",
    "    for s in sentence_words:\n",
    "        for i, w in enumerate(words):\n",
    "            if w == s:\n",
    "                # assign 1 if current word in vocab position\n",
    "                bag[i] = 1\n",
    "                if show_details:\n",
    "                    print(f\"Found in bag: {w}\")\n",
    "                    \n",
    "    # bag.append(len(sentence_words))\n",
    "    return np.array(bag)"
   ]
  },
  {
   "cell_type": "markdown",
   "metadata": {},
   "source": [
    "### Example translating sentence into bag of words"
   ]
  },
  {
   "cell_type": "code",
   "execution_count": 20,
   "metadata": {},
   "outputs": [
    {
     "name": "stdout",
     "output_type": "stream",
     "text": [
      "Found in bag: what\n",
      "Found in bag: is\n",
      "Found in bag: cca\n",
      "[0 0 0 0 0 0 0 0 0 0 0 1 0 0 0 0 0 0 0 0 0 0 0 0 0 0 0 0 0 0 0 0 0 0 0 0 0\n",
      " 0 1 0 0 0 0 0 0 0 0 0 0 0 0 0 0 0 0 0 0 0 0 0 0 0 0 0 0 0 0 0 0 0 0 0 0 0\n",
      " 0 0 0 0 0 1 0 0 0 0 0]\n",
      "['cca_application', 'cca_benefits', 'cca_components', 'cca_compulsory', 'cca_creation', 'cca_facilities', 'cca_list', 'cca_points_about', 'cca_points_how', 'cca_quit', 'sfl_modules', 'sfl_register', 'sfl_schedule', 'sfl_what']\n"
     ]
    }
   ],
   "source": [
    "p = bow(\"what is cca\", words)\n",
    "print(p)\n",
    "print(classes)"
   ]
  },
  {
   "cell_type": "code",
   "execution_count": 21,
   "metadata": {},
   "outputs": [
    {
     "data": {
      "text/plain": [
       "'\\nGood practice to save trained model into pickle file to reuse to publish\\nthrough Flask REST API\\n'"
      ]
     },
     "execution_count": 21,
     "metadata": {},
     "output_type": "execute_result"
    }
   ],
   "source": [
    "'''\n",
    "Good practice to save trained model into pickle file to reuse to publish\n",
    "through Flask REST API\n",
    "'''"
   ]
  },
  {
   "cell_type": "code",
   "execution_count": 22,
   "metadata": {},
   "outputs": [],
   "source": [
    "# Use pickle to load in pre-trained model\n",
    "# global graph\n",
    "# graph = tf.get_default_graph()\n",
    "\n",
    "# with open(f\"katana-assistant-model.pkl\", 'rb') as f:\n",
    "#     model = pickle.load(f)"
   ]
  },
  {
   "cell_type": "code",
   "execution_count": 23,
   "metadata": {},
   "outputs": [
    {
     "data": {
      "text/plain": [
       "'\\nbefore publishing model through Flask REST API, always good to run extra test\\nuse model.predict to classify user input & based on calculated\\nprobability return intent (multiple intents can be returned)\\n'"
      ]
     },
     "execution_count": 23,
     "metadata": {},
     "output_type": "execute_result"
    }
   ],
   "source": [
    "'''\n",
    "before publishing model through Flask REST API, always good to run extra test\n",
    "use model.predict to classify user input & based on calculated\n",
    "probability return intent (multiple intents can be returned)\n",
    "'''"
   ]
  },
  {
   "cell_type": "code",
   "execution_count": 31,
   "metadata": {},
   "outputs": [],
   "source": [
    "def classify_local(sentence):\n",
    "    ERROR_THRESHOLD = 0.5\n",
    "    \n",
    "    # generate probabilities from model\n",
    "    input_data = pd.DataFrame([bow(sentence, words)], dtype = float,\n",
    "                              index = ['input'])\n",
    "    print([input_data])\n",
    "    \n",
    "    results = model.predict([input_data])[0]\n",
    "    print(results)\n",
    "    # filter predictions below a threshold & provide intent index\n",
    "    \n",
    "#     for i, r in enumerate(results):\n",
    "#       print(i)\n",
    "#       print(r)\n",
    "#       print(r > ERROR_THRESHOLD)\n",
    "#       print()\n",
    "    \n",
    "    results = [[i, r] for i, r in enumerate(results) if r > ERROR_THRESHOLD]\n",
    "    # sort by strength of probability\n",
    "    results.sort(key = lambda x: x[1], reverse = True)\n",
    "    \n",
    "    return_list = []\n",
    "    for r in results:\n",
    "        # print(r)\n",
    "        return_list.append((classes[r[0]], str(r[1])))\n",
    "    # return tuple of intent & probability\n",
    "    return return_list"
   ]
  },
  {
   "cell_type": "code",
   "execution_count": 39,
   "metadata": {
    "scrolled": true
   },
   "outputs": [
    {
     "name": "stdout",
     "output_type": "stream",
     "text": [
      "[        0    1    2    3    4    5    6    7    8    9   ...   75   76   77  \\\n",
      "input  0.0  0.0  0.0  0.0  0.0  0.0  0.0  0.0  0.0  0.0  ...  0.0  0.0  0.0   \n",
      "\n",
      "        78   79   80   81   82   83   84  \n",
      "input  0.0  0.0  0.0  0.0  0.0  0.0  0.0  \n",
      "\n",
      "[1 rows x 85 columns]]\n",
      "[0.00211071 0.00372976 0.01797276 0.00115429 0.00189931 0.930704\n",
      " 0.00516101 0.0021963  0.00438551 0.01522186 0.00325284 0.00121916\n",
      " 0.00613044 0.00486208]\n"
     ]
    },
    {
     "data": {
      "text/plain": [
       "[('cca_facilities', '0.930704')]"
      ]
     },
     "execution_count": 39,
     "metadata": {},
     "output_type": "execute_result"
    }
   ],
   "source": [
    "classify_local(\"cum\")"
   ]
  },
  {
   "cell_type": "markdown",
   "metadata": {},
   "source": [
    "### Publish same function through REST endpoint"
   ]
  },
  {
   "cell_type": "code",
   "execution_count": null,
   "metadata": {},
   "outputs": [],
   "source": []
  }
 ],
 "metadata": {
  "kernelspec": {
   "display_name": "Python 3",
   "language": "python",
   "name": "python3"
  },
  "language_info": {
   "codemirror_mode": {
    "name": "ipython",
    "version": 3
   },
   "file_extension": ".py",
   "mimetype": "text/x-python",
   "name": "python",
   "nbconvert_exporter": "python",
   "pygments_lexer": "ipython3",
   "version": "3.7.3"
  }
 },
 "nbformat": 4,
 "nbformat_minor": 2
}

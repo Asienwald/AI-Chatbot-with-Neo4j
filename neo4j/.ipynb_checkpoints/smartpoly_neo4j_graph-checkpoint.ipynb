{
 "cells": [
  {
   "cell_type": "markdown",
   "metadata": {},
   "source": [
    "# Neo4j Map of SP"
   ]
  },
  {
   "cell_type": "code",
   "execution_count": 1,
   "metadata": {},
   "outputs": [],
   "source": [
    "from py2neo import Graph, Node, Relationship"
   ]
  },
  {
   "cell_type": "markdown",
   "metadata": {},
   "source": [
    "Start your neo4j graph server\n",
    "- port 7687 is where the data stuff goes through\n",
    "- port 7474 is what you'll use to view the graph (localhost:7474)\n",
    "\n",
    "### Note: The password is configured on your own but you can usethe same password (ILikeYuri) because why not"
   ]
  },
  {
   "cell_type": "code",
   "execution_count": 2,
   "metadata": {},
   "outputs": [],
   "source": [
    "graph = Graph(\"bolt://localhost:7687\", auth = (\"neo4j\", \n",
    "                                       \"ILikeYuri\"))"
   ]
  },
  {
   "cell_type": "code",
   "execution_count": 3,
   "metadata": {},
   "outputs": [],
   "source": [
    "from graph_nodes import graph_nodes, relation_nodes"
   ]
  },
  {
   "cell_type": "code",
   "execution_count": 4,
   "metadata": {},
   "outputs": [],
   "source": [
    "def ResetNeo():\n",
    "    graph.run('''\n",
    "      MATCH (n)\n",
    "      OPTIONAL MATCH (n)-[r]-()\n",
    "      WITH n,r LIMIT 50000\n",
    "      DELETE n,r\n",
    "      RETURN count(n) as deletedNodesCount\n",
    "    ''')\n",
    "ResetNeo()"
   ]
  },
  {
   "cell_type": "code",
   "execution_count": 5,
   "metadata": {},
   "outputs": [],
   "source": [
    "for node_type in graph_nodes:\n",
    "    for node_name, node in node_type.items():\n",
    "        graph.create(node)"
   ]
  },
  {
   "cell_type": "code",
   "execution_count": 6,
   "metadata": {},
   "outputs": [],
   "source": [
    "for rel_type in relation_nodes:\n",
    "    for rel in rel_type:\n",
    "        graph.create(rel)"
   ]
  },
  {
   "cell_type": "code",
   "execution_count": 7,
   "metadata": {},
   "outputs": [],
   "source": [
    "def get_node(name: str):\n",
    "    query = f\"match (n) where n.name = '{name}' return n\"\n",
    "    node = graph.evaluate(query)\n",
    "    return node"
   ]
  },
  {
   "cell_type": "code",
   "execution_count": 8,
   "metadata": {},
   "outputs": [],
   "source": [
    "# Get the label of that node\n",
    "def get_node_label(node: Node):\n",
    "    label = str(node.labels).replace(':', '')\n",
    "    return label"
   ]
  },
  {
   "cell_type": "code",
   "execution_count": 9,
   "metadata": {},
   "outputs": [],
   "source": [
    "# returns list of all paths (as tuple of relationship objects)\n",
    "def get_paths(node_a_name: str, node_b_name: str):\n",
    "    node_a = get_node(node_a_name)\n",
    "    node_a_label = get_node_label(node_a)\n",
    "    \n",
    "    node_b = get_node(node_b_name)\n",
    "    node_b_label = get_node_label(node_b)\n",
    "    \n",
    "    if node_a == None or node_b == None:\n",
    "        print(\"Node not found.\")\n",
    "    \n",
    "    param_a = '{' + f\"name: '{node_a_name}'\" + '}'\n",
    "    param_b = '{' + f\"name: '{node_b_name}'\" + '}'\n",
    "    query_string = f\"match p=(:{node_a_label}{param_a})-[*]-(:{node_b_label}{param_b}) return p\"\n",
    "    \n",
    "    path_list = []\n",
    "    path_obj_list = [] # contains real path objects\n",
    "    result = graph.run(query_string).data()\n",
    "\n",
    "    for path in result:\n",
    "        for x, y in path.items():\n",
    "            # print(type(y), y)\n",
    "            path_list.append(y.relationships)\n",
    "            path_obj_list.append(y)\n",
    "    return path_list, path_obj_list"
   ]
  },
  {
   "cell_type": "code",
   "execution_count": 10,
   "metadata": {},
   "outputs": [],
   "source": [
    "def get_path_dist(path: tuple):\n",
    "    total_dist = 0\n",
    "    for rel in path:\n",
    "        dist = rel['distance']\n",
    "        total_dist += dist\n",
    "    return total_dist"
   ]
  },
  {
   "cell_type": "code",
   "execution_count": 11,
   "metadata": {},
   "outputs": [],
   "source": [
    "def get_shortest_path_dist(path_list: list, real_paths_list):\n",
    "    all_path_dist = []\n",
    "    for path_tuple in path_list:\n",
    "        # print(path_tuple)\n",
    "        all_path_dist.append(get_path_dist(path_tuple))\n",
    "    # all_path_dist.append(7)\n",
    "    # print(all_path_dist)\n",
    "    shortest_path_ind = all_path_dist.index(min(all_path_dist))\n",
    "    return real_paths_list[shortest_path_ind]"
   ]
  },
  {
   "cell_type": "code",
   "execution_count": 43,
   "metadata": {},
   "outputs": [],
   "source": [
    "def walk_path(path):\n",
    "    \n",
    "    count = 0\n",
    "    total_dist = 0\n",
    "    path_size = len(path.nodes) + len(path.relationships)\n",
    "    while count < path_size:\n",
    "        try:\n",
    "            node_name = path.nodes[count]['name']\n",
    "            print(f\"At <{node_name}>,\")\n",
    "            print(path.relationships[count]['description'])\n",
    "            path_dist = path.relationships[count]['distance']\n",
    "            if path_dist == 0:\n",
    "                print(\"\")\n",
    "            print(f\"This path is around {path_dist} metres\")\n",
    "            #print(path.nodes[count]['name'])\n",
    "            #print(path.relationships[count]['distance'])\n",
    "            total_dist += path.relationships[count]['distance']\n",
    "            print()\n",
    "            count += 1\n",
    "        except IndexError:\n",
    "            print(f\"Total Distance: {total_dist}\")\n",
    "            return"
   ]
  },
  {
   "cell_type": "code",
   "execution_count": 44,
   "metadata": {},
   "outputs": [],
   "source": [
    "# main function\n",
    "def walk_shortest_path(node_a_name: str, node_b_name: str):\n",
    "    print(f\"Fetching directions from <{node_a_name}> to <{node_b_name}>\\n\")\n",
    "    paths, real_paths_list = get_paths(node_a_name, node_b_name)\n",
    "    shortest_path = get_shortest_path_dist(paths, real_paths_list)\n",
    "    walk_path(shortest_path)"
   ]
  },
  {
   "cell_type": "code",
   "execution_count": 45,
   "metadata": {},
   "outputs": [
    {
     "name": "stdout",
     "output_type": "stream",
     "text": [
      "Fetching directions from <T19> to <Hilltop Library>\n",
      "\n",
      "At <T19>,\n",
      "None\n",
      "This path is around 0 metres\n",
      "\n",
      "At <T20>,\n",
      "None\n",
      "This path is around 0 metres\n",
      "\n",
      "At <T21>,\n",
      "None\n",
      "This path is around 0 metres\n",
      "\n",
      "At <T22>,\n",
      "t19 -> hilltop: walk toward t22 and go to the 4th floor and walk to the end of the corridor, there should be a glass door to hilltop\n",
      "This path is around 0 metres\n",
      "\n",
      "At <Hilltop Library>,\n",
      "Total Distance: 0\n"
     ]
    }
   ],
   "source": [
    "walk_shortest_path('T19', \"Hilltop Library\")"
   ]
  },
  {
   "cell_type": "code",
   "execution_count": null,
   "metadata": {},
   "outputs": [],
   "source": []
  },
  {
   "cell_type": "code",
   "execution_count": null,
   "metadata": {},
   "outputs": [],
   "source": []
  },
  {
   "cell_type": "code",
   "execution_count": null,
   "metadata": {},
   "outputs": [],
   "source": []
  },
  {
   "cell_type": "code",
   "execution_count": null,
   "metadata": {},
   "outputs": [],
   "source": []
  },
  {
   "cell_type": "code",
   "execution_count": null,
   "metadata": {},
   "outputs": [],
   "source": []
  },
  {
   "cell_type": "code",
   "execution_count": 15,
   "metadata": {},
   "outputs": [],
   "source": [
    "# t19_node = Node(\"Building\", name = 'T19', heck = 'yeet')"
   ]
  },
  {
   "cell_type": "code",
   "execution_count": 16,
   "metadata": {},
   "outputs": [],
   "source": [
    "# graph.create(t19_node)"
   ]
  },
  {
   "cell_type": "code",
   "execution_count": 17,
   "metadata": {},
   "outputs": [],
   "source": [
    "# fc6 = Node(\"FoodCourt\", name = \"Food Court 6\", meh = \"heck\")"
   ]
  },
  {
   "cell_type": "code",
   "execution_count": 18,
   "metadata": {},
   "outputs": [],
   "source": [
    "# graph.create(fc6)"
   ]
  },
  {
   "cell_type": "code",
   "execution_count": 19,
   "metadata": {},
   "outputs": [],
   "source": [
    "# connected_to_rel = Relationship(t19_node, \"Connected_to\", fc6, distance = 7, descrip = \"VER LONG\")\n",
    "# graph.create(connected_to_rel)"
   ]
  }
 ],
 "metadata": {
  "kernelspec": {
   "display_name": "Python 3",
   "language": "python",
   "name": "python3"
  },
  "language_info": {
   "codemirror_mode": {
    "name": "ipython",
    "version": 3
   },
   "file_extension": ".py",
   "mimetype": "text/x-python",
   "name": "python",
   "nbconvert_exporter": "python",
   "pygments_lexer": "ipython3",
   "version": "3.7.3"
  }
 },
 "nbformat": 4,
 "nbformat_minor": 2
}

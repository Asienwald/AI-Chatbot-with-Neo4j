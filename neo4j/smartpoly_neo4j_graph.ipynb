{
 "cells": [
  {
   "cell_type": "markdown",
   "metadata": {},
   "source": [
    "# Neo4j Map of SP"
   ]
  },
  {
   "cell_type": "code",
   "execution_count": 1,
   "metadata": {},
   "outputs": [],
   "source": [
    "from py2neo import Graph, Node, Relationship"
   ]
  },
  {
   "cell_type": "markdown",
   "metadata": {},
   "source": [
    "Start your neo4j graph server\n",
    "- port 7687 is where the data stuff goes through\n",
    "- port 7474 is what you'll use to view the graph (localhost:7474)\n",
    "\n",
    "### Note: The password is configured on your own but you can usethe same password (ILikeYuri) because why not"
   ]
  },
  {
   "cell_type": "code",
   "execution_count": 2,
   "metadata": {},
   "outputs": [],
   "source": [
    "graph = Graph(\"bolt://localhost:7687\", auth = (\"neo4j\", \n",
    "                                       \"ILikeYuri\"))"
   ]
  },
  {
   "cell_type": "code",
   "execution_count": 3,
   "metadata": {},
   "outputs": [],
   "source": [
    "from graph_nodes import graph_nodes, relation_nodes"
   ]
  },
  {
   "cell_type": "code",
   "execution_count": 4,
   "metadata": {},
   "outputs": [],
   "source": [
    "def ResetNeo():\n",
    "    graph.run('''\n",
    "      MATCH (n)\n",
    "      OPTIONAL MATCH (n)-[r]-()\n",
    "      WITH n,r LIMIT 50000\n",
    "      DELETE n,r\n",
    "      RETURN count(n) as deletedNodesCount\n",
    "    ''')\n",
    "ResetNeo()"
   ]
  },
  {
   "cell_type": "code",
   "execution_count": 5,
   "metadata": {},
   "outputs": [],
   "source": [
    "for node_type in graph_nodes:\n",
    "    for node_name, node in node_type.items():\n",
    "        graph.create(node)"
   ]
  },
  {
   "cell_type": "code",
   "execution_count": 6,
   "metadata": {},
   "outputs": [],
   "source": [
    "for rel_type in relation_nodes:\n",
    "    for rel in rel_type:\n",
    "        graph.create(rel)"
   ]
  },
  {
   "cell_type": "code",
   "execution_count": 7,
   "metadata": {},
   "outputs": [],
   "source": [
    "def get_node(name: str):\n",
    "    query = f\"match (n) where n.name = '{name}' return n\"\n",
    "    node = graph.evaluate(query)\n",
    "    return node"
   ]
  },
  {
   "cell_type": "code",
   "execution_count": 8,
   "metadata": {},
   "outputs": [],
   "source": [
    "# Get the label of that node\n",
    "def get_node_label(node: Node):\n",
    "    label = str(node.labels).replace(':', '')\n",
    "    return label"
   ]
  },
  {
   "cell_type": "code",
   "execution_count": 9,
   "metadata": {},
   "outputs": [],
   "source": [
    "# returns list of all paths (as tuple of relationship objects)\n",
    "def get_paths(node_a_name: str, node_b_name: str):\n",
    "    node_a = get_node(node_a_name)\n",
    "    node_a_label = get_node_label(node_a)\n",
    "    \n",
    "    node_b = get_node(node_b_name)\n",
    "    node_b_label = get_node_label(node_b)\n",
    "    \n",
    "    if node_a == None or node_b == None:\n",
    "        print(\"Node not found.\")\n",
    "    \n",
    "    param_a = '{' + f\"name: '{node_a_name}'\" + '}'\n",
    "    param_b = '{' + f\"name: '{node_b_name}'\" + '}'\n",
    "    query_string = f\"match p=(:{node_a_label}{param_a})-[*]-(:{node_b_label}{param_b}) return p\"\n",
    "    \n",
    "    path_list = []\n",
    "    path_obj_list = [] # contains real path objects\n",
    "    result = graph.run(query_string).data()\n",
    "\n",
    "    for path in result:\n",
    "        for x, y in path.items():\n",
    "            # print(type(y), y)\n",
    "            path_list.append(y.relationships)\n",
    "            path_obj_list.append(y)\n",
    "    return path_list, path_obj_list"
   ]
  },
  {
   "cell_type": "code",
   "execution_count": 10,
   "metadata": {},
   "outputs": [],
   "source": [
    "def get_path_dist(path: tuple):\n",
    "    total_dist = 0\n",
    "    for rel in path:\n",
    "        dist = rel['distance']\n",
    "        total_dist += dist\n",
    "    return total_dist"
   ]
  },
  {
   "cell_type": "code",
   "execution_count": 11,
   "metadata": {},
   "outputs": [],
   "source": [
    "def get_shortest_path_dist(path_list: list, real_paths_list):\n",
    "    all_path_dist = []\n",
    "    for path_tuple in path_list:\n",
    "        # print(path_tuple)\n",
    "        all_path_dist.append(get_path_dist(path_tuple))\n",
    "    # all_path_dist.append(7)\n",
    "    # print(all_path_dist)\n",
    "    shortest_path_ind = all_path_dist.index(min(all_path_dist))\n",
    "    return real_paths_list[shortest_path_ind]"
   ]
  },
  {
   "cell_type": "code",
   "execution_count": 33,
   "metadata": {},
   "outputs": [],
   "source": [
    "def walk_path(path):\n",
    "    \n",
    "    count = 0\n",
    "    total_dist = 0\n",
    "    path_size = len(path.nodes) + len(path.relationships)\n",
    "    while count < path_size:\n",
    "        try:\n",
    "            node_name = path.nodes[count]['name']\n",
    "            if count == len(path.nodes) - 1:\n",
    "                print(f\"You have reached {node_name} :)\")\n",
    "                print(f\"Total Distance: {total_dist} metres\")\n",
    "                return\n",
    "            print(f\"At <{node_name}>,\")\n",
    "            print(path.relationships[count]['description'])\n",
    "            path_dist = path.relationships[count]['distance']\n",
    "            if path_dist != 0:\n",
    "                print(f\"This path is around {path_dist} metres\")\n",
    "            #print(path.nodes[count]['name'])\n",
    "            #print(path.relationships[count]['distance'])\n",
    "            total_dist += path.relationships[count]['distance']\n",
    "            print()\n",
    "            count += 1\n",
    "        except IndexError:\n",
    "            return"
   ]
  },
  {
   "cell_type": "code",
   "execution_count": 34,
   "metadata": {},
   "outputs": [],
   "source": [
    "# main function\n",
    "def walk_shortest_path(node_a_name: str, node_b_name: str):\n",
    "    print(f\"Fetching directions from <{node_a_name}> to <{node_b_name}>\\n\")\n",
    "    paths, real_paths_list = get_paths(node_a_name, node_b_name)\n",
    "    shortest_path = get_shortest_path_dist(paths, real_paths_list)\n",
    "    walk_path(shortest_path)"
   ]
  },
  {
   "cell_type": "code",
   "execution_count": 35,
   "metadata": {},
   "outputs": [
    {
     "name": "stdout",
     "output_type": "stream",
     "text": [
      "Fetching directions from <T1> to <Food Court 6>\n",
      "\n",
      "At <T1>,\n",
      "Climb up to level 2 and access the building through the bridge\n",
      "This path is around 15.81 metres\n",
      "\n",
      "At <T2>,\n",
      "Climb up to level 2 and access the building through the bridge\n",
      "This path is around 11.13 metres\n",
      "\n",
      "At <T3>,\n",
      "Walk to the next nearest turn and turn a left then a right then keep walking straight\n",
      "This path is around 18.7 metres\n",
      "\n",
      "At <T5>,\n",
      "Turn right from the intersection of the bridge and walk to the end of the corridor\n",
      "\n",
      "At <SPavillion>,\n",
      "Walk along the classrooms and turn right before turning a left\n",
      "This path is around 7.02 metres\n",
      "\n",
      "At <Colours>,\n",
      "Climb up to level 2 and access the building through the bridge\n",
      "This path is around 16.34 metres\n",
      "\n",
      "At <The Sanctuary>,\n",
      "Turn left. Walk right, walk until you see it\n",
      "This path is around 20.27 metres\n",
      "\n",
      "At <T10>,\n",
      "Walk to the next nearest turn and turn a left then a right then keep walking straight\n",
      "This path is around 9.74 metres\n",
      "\n",
      "At <Poly Centre>,\n",
      "Turn left. Walk right, walk until you see it\n",
      "This path is around 15.08 metres\n",
      "\n",
      "At <Student & Alumni Centre>,\n",
      "Walk along the classrooms and turn right before turning a left\n",
      "This path is around 16.98 metres\n",
      "\n",
      "At <Sports Arena>,\n",
      "Climb up to level 2 and access the building through the bridge\n",
      "This path is around 17.47 metres\n",
      "\n",
      "At <Food court 5>,\n",
      "Walk to the next nearest turn and turn a left then a right then keep walking straight\n",
      "This path is around 2.44 metres\n",
      "\n",
      "At <T16>,\n",
      "Walk along the classrooms and turn right before turning a left\n",
      "This path is around 3.57 metres\n",
      "\n",
      "At <T17>,\n",
      "Climb up to level 2 and access the building through the bridge\n",
      "This path is around 21.46 metres\n",
      "\n",
      "At <Auditorium>,\n",
      "Walk along the classrooms and turn right before turning a left\n",
      "This path is around 24.91 metres\n",
      "\n",
      "At <T18>,\n",
      "Walk to the next nearest turn and turn a left then a right then keep walking straight\n",
      "This path is around 21.68 metres\n",
      "\n",
      "At <Convention Centre>,\n",
      "Walk along the classrooms and turn right before turning a left\n",
      "This path is around 2.48 metres\n",
      "\n",
      "At <Aerohub>,\n",
      "Walk to the next nearest turn and turn a left then a right then keep walking straight\n",
      "This path is around 1.88 metres\n",
      "\n",
      "At <SoB>,\n",
      "Climb up to level 2 and access the building through the bridge\n",
      "This path is around 16.99 metres\n",
      "\n",
      "At <T19>,\n",
      "None\n",
      "\n",
      "You have reached Food Court 6 :)\n",
      "Total Distance: 243.95 metres\n"
     ]
    }
   ],
   "source": [
    "walk_shortest_path('T1', \"Food Court 6\")"
   ]
  },
  {
   "cell_type": "markdown",
   "metadata": {},
   "source": [
    "### Getting Nodes"
   ]
  },
  {
   "cell_type": "code",
   "execution_count": 15,
   "metadata": {},
   "outputs": [],
   "source": [
    "def get_building(name: str):\n",
    "    b = get_node(name)\n",
    "    print(f\"Building: {name}, School: {b['school']}\")\n",
    "    print(b['description'])"
   ]
  },
  {
   "cell_type": "code",
   "execution_count": 16,
   "metadata": {},
   "outputs": [
    {
     "name": "stdout",
     "output_type": "stream",
     "text": [
      "Building: T19, School: SoC\n",
      "This building is filled with classrooms.\n"
     ]
    }
   ],
   "source": [
    "get_building(\"T19\")"
   ]
  },
  {
   "cell_type": "code",
   "execution_count": 17,
   "metadata": {},
   "outputs": [],
   "source": [
    " def get_facility(name: str):\n",
    "    f = get_node(name)\n",
    "    print(f\"Facility: {name}, Type: {f['type']}\")\n",
    "    print(f['description'])"
   ]
  },
  {
   "cell_type": "code",
   "execution_count": 18,
   "metadata": {},
   "outputs": [
    {
     "name": "stdout",
     "output_type": "stream",
     "text": [
      "Facility: Hilltop Library, Type: library\n",
      "blue\n"
     ]
    }
   ],
   "source": [
    "get_facility(\"Hilltop Library\")"
   ]
  },
  {
   "cell_type": "code",
   "execution_count": null,
   "metadata": {},
   "outputs": [],
   "source": []
  },
  {
   "cell_type": "markdown",
   "metadata": {},
   "source": [
    "### Get relations"
   ]
  },
  {
   "cell_type": "code",
   "execution_count": 20,
   "metadata": {},
   "outputs": [],
   "source": [
    "def get_all_node_rels(node_name: str, rel_name: str, node_type: str = 'building'):\n",
    "    params = '{' + f\"name: '{node_name}'\" + '}'\n",
    "    query = f\"match (:{node_type}{params})-[r]-() return r\"\n",
    "    # print(query)\n",
    "    results = graph.run(query).data()\n",
    "    \n",
    "    lots_available = 0\n",
    "    filtered_rels = []\n",
    "    for r in results:\n",
    "        r = r['r']\n",
    "        #print(r.type)\n",
    "        #print(type(r))\n",
    "        rel_label = str(type(r)).split('.')[-1].replace(\"'>\", '')\n",
    "        if rel_label == rel_name:\n",
    "            filtered_rels.append(r)\n",
    "    return filtered_rels"
   ]
  },
  {
   "cell_type": "code",
   "execution_count": 23,
   "metadata": {},
   "outputs": [],
   "source": [
    "def get_lots_available(parking_lot_name: str):\n",
    "    lots = get_all_node_rels(parking_lot_name, \"HAS_PARKING_LOT\")\n",
    "    print(f\"<{parking_lot_name}>\")\n",
    "    print(f\"Available lots: {len(lots)}\")"
   ]
  },
  {
   "cell_type": "code",
   "execution_count": 24,
   "metadata": {},
   "outputs": [
    {
     "name": "stdout",
     "output_type": "stream",
     "text": [
      "<Parking Lot A>\n",
      "Available lots: 20\n"
     ]
    }
   ],
   "source": [
    "get_lots_available(\"Parking Lot A\")"
   ]
  },
  {
   "cell_type": "code",
   "execution_count": 25,
   "metadata": {},
   "outputs": [],
   "source": [
    "# def get_relations(rel_name: str):\n",
    "#     query = f\"match ()-[r:{rel_name.upper()}]-() return r\"\n",
    "#     result = graph.run(query).data()\n",
    "#     print(result)\n",
    "#     print(type(result) + '\\n')"
   ]
  },
  {
   "cell_type": "code",
   "execution_count": 26,
   "metadata": {},
   "outputs": [],
   "source": [
    "# get_relations(\"walk\")"
   ]
  },
  {
   "cell_type": "code",
   "execution_count": 27,
   "metadata": {},
   "outputs": [],
   "source": [
    "def get_events():\n",
    "    print(\"Fetching current events in SP...\\n\")\n",
    "    query = \"match (n:event) return n\"\n",
    "    results = graph.run(query).data()\n",
    "    for ind, e in enumerate(results):\n",
    "        e = e['n']\n",
    "        print(ind + 1, e['name'])\n",
    "        print(e['description'])\n",
    "        \n",
    "        rels = get_all_node_rels(e['name'], \"HELD_IN\", 'event')\n",
    "        held_in_node = rels[0].nodes[-1]['name']\n",
    "        print(f\"It is held in {held_in_node}\")\n",
    "        print()"
   ]
  },
  {
   "cell_type": "code",
   "execution_count": 28,
   "metadata": {},
   "outputs": [
    {
     "name": "stdout",
     "output_type": "stream",
     "text": [
      "Fetching current events in SP...\n",
      "\n",
      "1 SmartPoly\n",
      "This is the smartpoly hackathon 2019.\n",
      "It is held in T14\n",
      "\n",
      "2 WSS Training\n",
      "WSS Training for WSS 2020. Held from 9am to 3pm\n",
      "It is held in T21\n",
      "\n"
     ]
    }
   ],
   "source": [
    "get_events()"
   ]
  },
  {
   "cell_type": "code",
   "execution_count": null,
   "metadata": {},
   "outputs": [],
   "source": [
    "# t19_node = Node(\"Building\", name = 'T19', heck = 'yeet')"
   ]
  },
  {
   "cell_type": "code",
   "execution_count": null,
   "metadata": {},
   "outputs": [],
   "source": [
    "# graph.create(t19_node)"
   ]
  },
  {
   "cell_type": "code",
   "execution_count": null,
   "metadata": {},
   "outputs": [],
   "source": [
    "# fc6 = Node(\"FoodCourt\", name = \"Food Court 6\", meh = \"heck\")"
   ]
  },
  {
   "cell_type": "code",
   "execution_count": null,
   "metadata": {},
   "outputs": [],
   "source": [
    "# graph.create(fc6)"
   ]
  },
  {
   "cell_type": "code",
   "execution_count": null,
   "metadata": {},
   "outputs": [],
   "source": [
    "# connected_to_rel = Relationship(t19_node, \"Connected_to\", fc6, distance = 7, descrip = \"VER LONG\")\n",
    "# graph.create(connected_to_rel)"
   ]
  }
 ],
 "metadata": {
  "kernelspec": {
   "display_name": "Python 3",
   "language": "python",
   "name": "python3"
  },
  "language_info": {
   "codemirror_mode": {
    "name": "ipython",
    "version": 3
   },
   "file_extension": ".py",
   "mimetype": "text/x-python",
   "name": "python",
   "nbconvert_exporter": "python",
   "pygments_lexer": "ipython3",
   "version": "3.7.3"
  }
 },
 "nbformat": 4,
 "nbformat_minor": 2
}

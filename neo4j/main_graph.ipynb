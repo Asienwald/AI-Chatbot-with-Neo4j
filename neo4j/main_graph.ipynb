{
 "cells": [
  {
   "cell_type": "markdown",
   "metadata": {},
   "source": [
    "# Neo4j Map of SP"
   ]
  },
  {
   "cell_type": "code",
   "execution_count": 1,
   "metadata": {},
   "outputs": [],
   "source": [
    "from py2neo import Graph, Node, Relationship"
   ]
  },
  {
   "cell_type": "markdown",
   "metadata": {},
   "source": [
    "Start your neo4j graph server\n",
    "- port 7687 is where the data stuff goes through\n",
    "- port 7474 is what you'll use to view the graph (localhost:7474)\n",
    "\n",
    "### Note: The password is configured on your own but you can usethe same password (ILikeYuri) because why not"
   ]
  },
  {
   "cell_type": "code",
   "execution_count": 2,
   "metadata": {},
   "outputs": [],
   "source": [
    "graph = Graph(\"bolt://localhost:7687\", auth = (\"neo4j\", \n",
    "                                       \"ILikeYuri\"))"
   ]
  },
  {
   "cell_type": "code",
   "execution_count": 3,
   "metadata": {},
   "outputs": [],
   "source": [
    "from graph_nodes import graph_nodes, relation_nodes"
   ]
  },
  {
   "cell_type": "code",
   "execution_count": 4,
   "metadata": {},
   "outputs": [],
   "source": [
    "def ResetNeo():\n",
    "    graph.run('''\n",
    "      MATCH (n)\n",
    "      OPTIONAL MATCH (n)-[r]-()\n",
    "      WITH n,r LIMIT 50000\n",
    "      DELETE n,r\n",
    "      RETURN count(n) as deletedNodesCount\n",
    "    ''')\n",
    "ResetNeo()"
   ]
  },
  {
   "cell_type": "code",
   "execution_count": 5,
   "metadata": {},
   "outputs": [],
   "source": [
    "for node_type in graph_nodes:\n",
    "    for node_name, node in node_type.items():\n",
    "        graph.create(node)"
   ]
  },
  {
   "cell_type": "code",
   "execution_count": 6,
   "metadata": {},
   "outputs": [],
   "source": [
    "for rel_type in relation_nodes:\n",
    "    for rel in rel_type:\n",
    "        graph.create(rel)"
   ]
  },
  {
   "cell_type": "code",
   "execution_count": null,
   "metadata": {},
   "outputs": [],
   "source": []
  },
  {
   "cell_type": "code",
   "execution_count": null,
   "metadata": {},
   "outputs": [],
   "source": []
  },
  {
   "cell_type": "code",
   "execution_count": null,
   "metadata": {},
   "outputs": [],
   "source": []
  },
  {
   "cell_type": "code",
   "execution_count": 7,
   "metadata": {},
   "outputs": [],
   "source": [
    "# t19_node = Node(\"Building\", name = 'T19', heck = 'yeet')"
   ]
  },
  {
   "cell_type": "code",
   "execution_count": 8,
   "metadata": {},
   "outputs": [],
   "source": [
    "# graph.create(t19_node)"
   ]
  },
  {
   "cell_type": "code",
   "execution_count": 9,
   "metadata": {},
   "outputs": [],
   "source": [
    "# fc6 = Node(\"FoodCourt\", name = \"Food Court 6\", meh = \"heck\")"
   ]
  },
  {
   "cell_type": "code",
   "execution_count": 10,
   "metadata": {},
   "outputs": [],
   "source": [
    "# graph.create(fc6)"
   ]
  },
  {
   "cell_type": "code",
   "execution_count": 11,
   "metadata": {},
   "outputs": [],
   "source": [
    "# connected_to_rel = Relationship(t19_node, \"Connected_to\", fc6, distance = 7, descrip = \"VER LONG\")\n",
    "# graph.create(connected_to_rel)"
   ]
  }
 ],
 "metadata": {
  "kernelspec": {
   "display_name": "Python 3",
   "language": "python",
   "name": "python3"
  },
  "language_info": {
   "codemirror_mode": {
    "name": "ipython",
    "version": 3
   },
   "file_extension": ".py",
   "mimetype": "text/x-python",
   "name": "python",
   "nbconvert_exporter": "python",
   "pygments_lexer": "ipython3",
   "version": "3.7.3"
  }
 },
 "nbformat": 4,
 "nbformat_minor": 2
}
